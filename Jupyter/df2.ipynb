{
 "cells": [
  {
   "cell_type": "markdown",
   "metadata": {},
   "source": [
    "# <p style=\"font-family: serif; font-size:2.2em; text-align: center;\"><u>Nettoyage des données</u></p> "
   ]
  },
  {
   "cell_type": "markdown",
   "metadata": {},
   "source": [
    "---"
   ]
  },
  {
   "cell_type": "markdown",
   "metadata": {},
   "source": [
    "# Chargement et description des données"
   ]
  },
  {
   "cell_type": "raw",
   "metadata": {},
   "source": [
    "Dans la continuité du projet cliiink, nous avons besoin de ressources complementaire dont l'utilité est pour l'analyse approfondie... bla bla bla\n",
    "Les données collectées proviennent (sont issue) de \" ... \"\n",
    "\n",
    "Nous nous basons sur les données diffusée dans le \" ... \"\n",
    "\n",
    "par convenance pure, nous modifions le nombre de lignes à afficher.\n",
    "L'idée est d'éviter que cette analyse se résume à de multples affichages de longs tableaux\n",
    "Dans le cadre du projet, on ne garde que les villes concernée ainsi que les colonnes pertinantes"
   ]
  },
  {
   "cell_type": "code",
   "execution_count": 22,
   "metadata": {},
   "outputs": [
    {
     "ename": "FileNotFoundError",
     "evalue": "[Errno 2] No such file or directory: '../data/config.json'",
     "output_type": "error",
     "traceback": [
      "\u001b[0;31m---------------------------------------------------------------------------\u001b[0m",
      "\u001b[0;31mFileNotFoundError\u001b[0m                         Traceback (most recent call last)",
      "\u001b[0;32m<ipython-input-22-1744ca45c9d8>\u001b[0m in \u001b[0;36m<module>\u001b[0;34m\u001b[0m\n\u001b[1;32m      6\u001b[0m \u001b[0;31m# On importe le fichier json\u001b[0m\u001b[0;34m\u001b[0m\u001b[0;34m\u001b[0m\u001b[0;34m\u001b[0m\u001b[0m\n\u001b[1;32m      7\u001b[0m \u001b[0mfichierConfig\u001b[0m \u001b[0;34m=\u001b[0m \u001b[0;34m\"../data/config.json\"\u001b[0m\u001b[0;34m\u001b[0m\u001b[0;34m\u001b[0m\u001b[0m\n\u001b[0;32m----> 8\u001b[0;31m \u001b[0;32mwith\u001b[0m \u001b[0mopen\u001b[0m\u001b[0;34m(\u001b[0m\u001b[0mfichierConfig\u001b[0m\u001b[0;34m)\u001b[0m \u001b[0;32mas\u001b[0m \u001b[0mfichier\u001b[0m\u001b[0;34m:\u001b[0m\u001b[0mconfig\u001b[0m \u001b[0;34m=\u001b[0m \u001b[0mjson\u001b[0m\u001b[0;34m.\u001b[0m\u001b[0mload\u001b[0m\u001b[0;34m(\u001b[0m\u001b[0mfichier\u001b[0m\u001b[0;34m)\u001b[0m\u001b[0;34m[\u001b[0m\u001b[0;34m\"mysql\"\u001b[0m\u001b[0;34m]\u001b[0m\u001b[0;34m\u001b[0m\u001b[0;34m\u001b[0m\u001b[0m\n\u001b[0m\u001b[1;32m      9\u001b[0m \u001b[0;31m# On modifie le nombre de lignes à afficher\u001b[0m\u001b[0;34m\u001b[0m\u001b[0;34m\u001b[0m\u001b[0;34m\u001b[0m\u001b[0m\n\u001b[1;32m     10\u001b[0m \u001b[0mpd\u001b[0m\u001b[0;34m.\u001b[0m\u001b[0moptions\u001b[0m\u001b[0;34m.\u001b[0m\u001b[0mdisplay\u001b[0m\u001b[0;34m.\u001b[0m\u001b[0mmax_rows\u001b[0m \u001b[0;34m=\u001b[0m \u001b[0;36m5\u001b[0m\u001b[0;34m\u001b[0m\u001b[0;34m\u001b[0m\u001b[0m\n",
      "\u001b[0;31mFileNotFoundError\u001b[0m: [Errno 2] No such file or directory: '../data/config.json'"
     ]
    }
   ],
   "source": [
    "# On importe les librairies\n",
    "import pandas as pd\n",
    "import json\n",
    "from sqlalchemy import create_engine\n",
    "from main import Bin_\n",
    "# On importe le fichier json\n",
    "fichierConfig = \"/home/simplon/Documents/Cliink_Equipe2 (copie)/Data/\" \n",
    "with open(fichierConfig) as fichier:config = json.load(fichier)[\"mysql\"]\n",
    "# On modifie le nombre de lignes à afficher\n",
    "pd.options.display.max_rows = 5\n",
    "# Lecture dus fichiers\n",
    "#data_villes = pd.read_csv(\"/Users/a0000/Desktop/Cliink_Equipe2/Data/villes_data.csv\", index_col= 0, sep=';', skiprows=0)\n",
    "#entreprises_par_sa = pd.read_csv(\"/Users/a0000/Desktop/Cliink_Equipe2/Data/villes_data.csv\", header=1 ,encoding=\"UTF-8\", sep=',', skiprows=list(range(0, 2)) + list(range(14, 245)), usecols=[i for i in range(12)])\n",
    "#entreprises_par_sa_ef = pd.read_csv(\"/Users/a0000/Desktop/Cliink_Equipe2/Data/villes_data.csv\", header=16 ,encoding=\"UTF-8\", sep=',', skiprows=list(range(15, 19)) + list(range(28, 245)), usecols=[i for i in range(31)])\n",
    "#année_2017 = pd.read_csv(\"/Users/a0000/Desktop/Cliink_Equipe2/Data/villes_data.csv\", header=30 ,encoding=\"UTF-8\", sep=',', skiprows=list(range(29, 34)) + list(range(37, 245)), usecols=[i for i in range(14)])\n",
    "#pop_age = pd.read_csv(\"/Users/a0000/Desktop/Cliink_Equipe2/Data/villes_data.csv\", header=39 ,encoding=\"UTF-8\", sep=',', skiprows=list(range(38, 41)) + list(range(50, 245)), usecols=[i for i in range(13)])\n",
    "#emploi_femme = pd.read_csv(\"/Users/a0000/Desktop/Cliink_Equipe2/Data/villes_data.csv\", header=145 ,encoding=\"UTF-8\", sep=',', skiprows=list(range(145, 150)) + list(range(161, 245)), usecols=[i for i in range(7)])\n",
    "#emploi_homme = pd.read_csv(\"/Users/a0000/Desktop/Cliink_Equipe2/Data/villes_data.csv\", header=162 ,encoding=\"UTF-8\", sep=',', skiprows=list(range(162, 167)) + list(range(178, 245)), usecols=[i for i in range(7)])\n",
    "#chomage_sexe = pd.read_csv(\"/Users/a0000/Desktop/Cliink_Equipe2/Data/villes_data.csv\", header=179 ,encoding=\"UTF-8\", sep=',', skiprows=list(range(179, 184)) + list(range(190, 245)), usecols=[i for i in range(7)])\n",
    "#taux_chomage_age = pd.read_csv(\"/Users/a0000/Desktop/Cliink_Equipe2/Data/villes_data.csv\", header=192 ,encoding=\"UTF-8\", sep=',', skiprows=list(range(191, 196)) + list(range(202, 245)), usecols=[i for i in range(13)])\n",
    "CSP_15_24 = pd.read_csv(\"../Data/villes_data.csv\", header=84 ,encoding=\"UTF-8\", sep=',', skiprows=list(range(83, 88)) + list(range(99, 245)), usecols=[i for i in range(6)])\n",
    "CSP_25_54 = pd.read_csv(\"../Data/villes_data.csv\", header=101 ,encoding=\"UTF-8\", sep=',', skiprows=list(range(100, 105)) + list(range(116, 245)), usecols=[i for i in range(6)])\n",
    "CSP_55_plus = pd.read_csv(\"../Data/villes_data.csv\", header=118 ,encoding=\"UTF-8\", sep=',', skiprows=list(range(117, 122)) + list(range(133, 245)), usecols=[i for i in range(6)])\n",
    "logement_par_catégorie = pd.read_csv(\"../Data/villes_data.csv\", header=220 ,encoding=\"UTF-8\", sep=',', skiprows=list(range(219, 224)) + list(range(230, 245)), usecols=[i for i in range(7)])\n",
    "entreprise_csv = pd.read_csv(\"../Data/etablissements.csv\")\n",
    "code_naf = pd.read_excel(\"../Data/naf2008_liste_n1.xls\", skiprows=list(range(0, 2)))\n",
    "naf_5 = pd.read_excel(\"../Data/naf2008_5_niveaux.xls\")"
   ]
  },
  {
   "cell_type": "code",
   "execution_count": 52,
   "metadata": {},
   "outputs": [
    {
     "data": {
      "text/plain": [
       "'/home/simplon/Documents/Cliink_Equipe2/Jupyter'"
      ]
     },
     "execution_count": 52,
     "metadata": {},
     "output_type": "execute_result"
    }
   ],
   "source": [
    "pwd"
   ]
  },
  {
   "cell_type": "markdown",
   "metadata": {},
   "source": [
    "---"
   ]
  },
  {
   "cell_type": "markdown",
   "metadata": {},
   "source": [
    "# Apercu des jeux de données"
   ]
  },
  {
   "cell_type": "code",
   "execution_count": 23,
   "metadata": {},
   "outputs": [
    {
     "ename": "NameError",
     "evalue": "name 'entreprise_csv' is not defined",
     "output_type": "error",
     "traceback": [
      "\u001b[0;31m---------------------------------------------------------------------------\u001b[0m",
      "\u001b[0;31mNameError\u001b[0m                                 Traceback (most recent call last)",
      "\u001b[0;32m<ipython-input-23-3cfc51b0b0d5>\u001b[0m in \u001b[0;36m<module>\u001b[0;34m\u001b[0m\n\u001b[0;32m----> 1\u001b[0;31m \u001b[0mentreprise_csv\u001b[0m\u001b[0;34m\u001b[0m\u001b[0;34m\u001b[0m\u001b[0m\n\u001b[0m",
      "\u001b[0;31mNameError\u001b[0m: name 'entreprise_csv' is not defined"
     ]
    }
   ],
   "source": [
    "entreprise_csv"
   ]
  },
  {
   "cell_type": "code",
   "execution_count": 24,
   "metadata": {},
   "outputs": [
    {
     "ename": "NameError",
     "evalue": "name 'code_naf' is not defined",
     "output_type": "error",
     "traceback": [
      "\u001b[0;31m---------------------------------------------------------------------------\u001b[0m",
      "\u001b[0;31mNameError\u001b[0m                                 Traceback (most recent call last)",
      "\u001b[0;32m<ipython-input-24-b07cc44e40ec>\u001b[0m in \u001b[0;36m<module>\u001b[0;34m\u001b[0m\n\u001b[0;32m----> 1\u001b[0;31m \u001b[0mcode_naf\u001b[0m\u001b[0;34m\u001b[0m\u001b[0;34m\u001b[0m\u001b[0m\n\u001b[0m",
      "\u001b[0;31mNameError\u001b[0m: name 'code_naf' is not defined"
     ]
    }
   ],
   "source": [
    "code_naf"
   ]
  },
  {
   "cell_type": "code",
   "execution_count": 25,
   "metadata": {},
   "outputs": [
    {
     "ename": "NameError",
     "evalue": "name 'naf_5' is not defined",
     "output_type": "error",
     "traceback": [
      "\u001b[0;31m---------------------------------------------------------------------------\u001b[0m",
      "\u001b[0;31mNameError\u001b[0m                                 Traceback (most recent call last)",
      "\u001b[0;32m<ipython-input-25-23847baf2903>\u001b[0m in \u001b[0;36m<module>\u001b[0;34m\u001b[0m\n\u001b[0;32m----> 1\u001b[0;31m \u001b[0mnaf_5\u001b[0m\u001b[0;34m\u001b[0m\u001b[0;34m\u001b[0m\u001b[0m\n\u001b[0m",
      "\u001b[0;31mNameError\u001b[0m: name 'naf_5' is not defined"
     ]
    }
   ],
   "source": [
    "naf_5"
   ]
  },
  {
   "cell_type": "code",
   "execution_count": 26,
   "metadata": {},
   "outputs": [
    {
     "ename": "NameError",
     "evalue": "name 'CSP_15_24' is not defined",
     "output_type": "error",
     "traceback": [
      "\u001b[0;31m---------------------------------------------------------------------------\u001b[0m",
      "\u001b[0;31mNameError\u001b[0m                                 Traceback (most recent call last)",
      "\u001b[0;32m<ipython-input-26-d85c343aaaef>\u001b[0m in \u001b[0;36m<module>\u001b[0;34m\u001b[0m\n\u001b[0;32m----> 1\u001b[0;31m \u001b[0mCSP_15_24\u001b[0m\u001b[0;34m\u001b[0m\u001b[0;34m\u001b[0m\u001b[0m\n\u001b[0m",
      "\u001b[0;31mNameError\u001b[0m: name 'CSP_15_24' is not defined"
     ]
    }
   ],
   "source": [
    "CSP_15_24"
   ]
  },
  {
   "cell_type": "code",
   "execution_count": null,
   "metadata": {},
   "outputs": [],
   "source": [
    "CSP_25_54"
   ]
  },
  {
   "cell_type": "code",
   "execution_count": null,
   "metadata": {},
   "outputs": [],
   "source": [
    "CSP_55_plus"
   ]
  },
  {
   "cell_type": "code",
   "execution_count": 27,
   "metadata": {},
   "outputs": [
    {
     "ename": "NameError",
     "evalue": "name 'logement_par_catégorie' is not defined",
     "output_type": "error",
     "traceback": [
      "\u001b[0;31m---------------------------------------------------------------------------\u001b[0m",
      "\u001b[0;31mNameError\u001b[0m                                 Traceback (most recent call last)",
      "\u001b[0;32m<ipython-input-27-090a24465f45>\u001b[0m in \u001b[0;36m<module>\u001b[0;34m\u001b[0m\n\u001b[0;32m----> 1\u001b[0;31m \u001b[0mlogement_par_catégorie\u001b[0m\u001b[0;34m\u001b[0m\u001b[0;34m\u001b[0m\u001b[0m\n\u001b[0m",
      "\u001b[0;31mNameError\u001b[0m: name 'logement_par_catégorie' is not defined"
     ]
    }
   ],
   "source": [
    "logement_par_catégorie"
   ]
  },
  {
   "cell_type": "markdown",
   "metadata": {},
   "source": [
    "---"
   ]
  },
  {
   "cell_type": "markdown",
   "metadata": {},
   "source": [
    "# Création des DataFrames"
   ]
  },
  {
   "cell_type": "markdown",
   "metadata": {},
   "source": [
    "La création des DataFrames nous permettra d'établir la connection et le chargement des données directement depuis les tables de notre base de données."
   ]
  },
  {
   "cell_type": "markdown",
   "metadata": {},
   "source": [
    "### Création du DataFrame ville"
   ]
  },
  {
   "cell_type": "code",
   "execution_count": 28,
   "metadata": {},
   "outputs": [],
   "source": [
    "liste_ville_id = [1,2,3,4,5]\n",
    "liste_ville_nom = ['Cannes', 'Le Cannet', 'Mougins', 'Mandelieu-La-Napoule', 'Theoule-Sur-Mer']\n",
    "ville = pd.DataFrame({'vi_id': liste_ville_id,\n",
    "                     'vi_nom': liste_ville_nom})"
   ]
  },
  {
   "cell_type": "code",
   "execution_count": 29,
   "metadata": {},
   "outputs": [
    {
     "data": {
      "text/html": [
       "<div>\n",
       "<style scoped>\n",
       "    .dataframe tbody tr th:only-of-type {\n",
       "        vertical-align: middle;\n",
       "    }\n",
       "\n",
       "    .dataframe tbody tr th {\n",
       "        vertical-align: top;\n",
       "    }\n",
       "\n",
       "    .dataframe thead th {\n",
       "        text-align: right;\n",
       "    }\n",
       "</style>\n",
       "<table border=\"1\" class=\"dataframe\">\n",
       "  <thead>\n",
       "    <tr style=\"text-align: right;\">\n",
       "      <th></th>\n",
       "      <th>vi_id</th>\n",
       "      <th>vi_nom</th>\n",
       "    </tr>\n",
       "  </thead>\n",
       "  <tbody>\n",
       "    <tr>\n",
       "      <th>0</th>\n",
       "      <td>1</td>\n",
       "      <td>Cannes</td>\n",
       "    </tr>\n",
       "    <tr>\n",
       "      <th>1</th>\n",
       "      <td>2</td>\n",
       "      <td>Le Cannet</td>\n",
       "    </tr>\n",
       "    <tr>\n",
       "      <th>2</th>\n",
       "      <td>3</td>\n",
       "      <td>Mougins</td>\n",
       "    </tr>\n",
       "    <tr>\n",
       "      <th>3</th>\n",
       "      <td>4</td>\n",
       "      <td>Mandelieu-La-Napoule</td>\n",
       "    </tr>\n",
       "    <tr>\n",
       "      <th>4</th>\n",
       "      <td>5</td>\n",
       "      <td>Theoule-Sur-Mer</td>\n",
       "    </tr>\n",
       "  </tbody>\n",
       "</table>\n",
       "</div>"
      ],
      "text/plain": [
       "   vi_id                vi_nom\n",
       "0      1                Cannes\n",
       "1      2             Le Cannet\n",
       "2      3               Mougins\n",
       "3      4  Mandelieu-La-Napoule\n",
       "4      5       Theoule-Sur-Mer"
      ]
     },
     "execution_count": 29,
     "metadata": {},
     "output_type": "execute_result"
    }
   ],
   "source": [
    "# Apercu du DataFrame ville\n",
    "ville"
   ]
  },
  {
   "cell_type": "markdown",
   "metadata": {},
   "source": [
    "### Création du DataFrame entreprise"
   ]
  },
  {
   "cell_type": "code",
   "execution_count": 30,
   "metadata": {},
   "outputs": [
    {
     "ename": "NameError",
     "evalue": "name 'entreprise_csv' is not defined",
     "output_type": "error",
     "traceback": [
      "\u001b[0;31m---------------------------------------------------------------------------\u001b[0m",
      "\u001b[0;31mNameError\u001b[0m                                 Traceback (most recent call last)",
      "\u001b[0;32m<ipython-input-30-53ff5cd67ab3>\u001b[0m in \u001b[0;36m<module>\u001b[0;34m\u001b[0m\n\u001b[1;32m      1\u001b[0m \u001b[0;31m# On affiche les adresses en minuscule\u001b[0m\u001b[0;34m\u001b[0m\u001b[0;34m\u001b[0m\u001b[0;34m\u001b[0m\u001b[0m\n\u001b[0;32m----> 2\u001b[0;31m \u001b[0mentreprise_csv\u001b[0m\u001b[0;34m[\u001b[0m\u001b[0;34m\"denominationUniteLegale\"\u001b[0m\u001b[0;34m]\u001b[0m \u001b[0;34m=\u001b[0m \u001b[0mentreprise_csv\u001b[0m\u001b[0;34m[\u001b[0m\u001b[0;34m\"denominationUniteLegale\"\u001b[0m\u001b[0;34m]\u001b[0m\u001b[0;34m.\u001b[0m\u001b[0mstr\u001b[0m\u001b[0;34m.\u001b[0m\u001b[0mlower\u001b[0m\u001b[0;34m(\u001b[0m\u001b[0;34m)\u001b[0m\u001b[0;34m\u001b[0m\u001b[0;34m\u001b[0m\u001b[0m\n\u001b[0m\u001b[1;32m      3\u001b[0m \u001b[0;31m# Rectification des code postaux\u001b[0m\u001b[0;34m\u001b[0m\u001b[0;34m\u001b[0m\u001b[0;34m\u001b[0m\u001b[0m\n\u001b[1;32m      4\u001b[0m \u001b[0mentreprise_csv\u001b[0m\u001b[0;34m[\u001b[0m\u001b[0;34m\"codePostalEtablissement\"\u001b[0m\u001b[0;34m]\u001b[0m \u001b[0;34m=\u001b[0m \u001b[0;34m\"0\"\u001b[0m \u001b[0;34m+\u001b[0m \u001b[0mentreprise_csv\u001b[0m\u001b[0;34m[\u001b[0m\u001b[0;34m\"codePostalEtablissement\"\u001b[0m\u001b[0;34m]\u001b[0m\u001b[0;34m.\u001b[0m\u001b[0mastype\u001b[0m\u001b[0;34m(\u001b[0m\u001b[0mstr\u001b[0m\u001b[0;34m)\u001b[0m\u001b[0;34m\u001b[0m\u001b[0;34m\u001b[0m\u001b[0m\n\u001b[1;32m      5\u001b[0m \u001b[0;31m# On affiche le nom des villes en minuscule\u001b[0m\u001b[0;34m\u001b[0m\u001b[0;34m\u001b[0m\u001b[0;34m\u001b[0m\u001b[0m\n",
      "\u001b[0;31mNameError\u001b[0m: name 'entreprise_csv' is not defined"
     ]
    }
   ],
   "source": [
    "# On affiche les adresses en minuscule\n",
    "entreprise_csv[\"denominationUniteLegale\"] = entreprise_csv[\"denominationUniteLegale\"].str.lower()\n",
    "# Rectification des code postaux\n",
    "entreprise_csv[\"codePostalEtablissement\"] = \"0\" + entreprise_csv[\"codePostalEtablissement\"].astype(str)\n",
    "# On affiche le nom des villes en minuscule\n",
    "entreprise_csv[\"libelleCommuneEtablissement\"] = entreprise_csv[\"libelleCommuneEtablissement\"].str.title()\n",
    "# On affiche les abbreviations des types de voie en minuscule\n",
    "entreprise_csv[\"typeVoieEtablissement\"] = entreprise_csv[\"typeVoieEtablissement\"].str.lower()\n",
    "# On affiche les nom des rue en minuscule\n",
    "entreprise_csv[\"libelleVoieEtablissement\"] = entreprise_csv[\"libelleVoieEtablissement\"].str.lower()"
   ]
  },
  {
   "cell_type": "code",
   "execution_count": 31,
   "metadata": {},
   "outputs": [
    {
     "ename": "NameError",
     "evalue": "name 'naf_5' is not defined",
     "output_type": "error",
     "traceback": [
      "\u001b[0;31m---------------------------------------------------------------------------\u001b[0m",
      "\u001b[0;31mNameError\u001b[0m                                 Traceback (most recent call last)",
      "\u001b[0;32m<ipython-input-31-3b205e566ac1>\u001b[0m in \u001b[0;36m<module>\u001b[0;34m\u001b[0m\n\u001b[1;32m      1\u001b[0m \u001b[0;31m# Création du dictionnaire naf\u001b[0m\u001b[0;34m\u001b[0m\u001b[0;34m\u001b[0m\u001b[0;34m\u001b[0m\u001b[0m\n\u001b[1;32m      2\u001b[0m \u001b[0mnaf\u001b[0m \u001b[0;34m=\u001b[0m \u001b[0;34m{\u001b[0m\u001b[0;34m}\u001b[0m\u001b[0;34m\u001b[0m\u001b[0;34m\u001b[0m\u001b[0m\n\u001b[0;32m----> 3\u001b[0;31m \u001b[0;32mfor\u001b[0m \u001b[0mi\u001b[0m \u001b[0;32min\u001b[0m \u001b[0mnaf_5\u001b[0m\u001b[0;34m.\u001b[0m\u001b[0mindex\u001b[0m\u001b[0;34m:\u001b[0m\u001b[0;34m\u001b[0m\u001b[0;34m\u001b[0m\u001b[0m\n\u001b[0m\u001b[1;32m      4\u001b[0m     \u001b[0;31m# Ajout paire clé-valeur\u001b[0m\u001b[0;34m\u001b[0m\u001b[0;34m\u001b[0m\u001b[0;34m\u001b[0m\u001b[0m\n\u001b[1;32m      5\u001b[0m     \u001b[0mnaf\u001b[0m\u001b[0;34m.\u001b[0m\u001b[0mupdate\u001b[0m\u001b[0;34m(\u001b[0m\u001b[0;34m{\u001b[0m\u001b[0mnaf_5\u001b[0m\u001b[0;34m.\u001b[0m\u001b[0miloc\u001b[0m\u001b[0;34m[\u001b[0m\u001b[0mi\u001b[0m\u001b[0;34m]\u001b[0m\u001b[0;34m[\u001b[0m\u001b[0;34m'NIV5'\u001b[0m\u001b[0;34m]\u001b[0m\u001b[0;34m:\u001b[0m \u001b[0mnaf_5\u001b[0m\u001b[0;34m.\u001b[0m\u001b[0mloc\u001b[0m\u001b[0;34m[\u001b[0m\u001b[0mi\u001b[0m\u001b[0;34m]\u001b[0m\u001b[0;34m[\u001b[0m\u001b[0;34m'NIV1'\u001b[0m\u001b[0;34m]\u001b[0m\u001b[0;34m}\u001b[0m\u001b[0;34m)\u001b[0m\u001b[0;34m\u001b[0m\u001b[0;34m\u001b[0m\u001b[0m\n",
      "\u001b[0;31mNameError\u001b[0m: name 'naf_5' is not defined"
     ]
    }
   ],
   "source": [
    "# Création du dictionnaire naf\n",
    "naf = {}\n",
    "for i in naf_5.index:\n",
    "    # Ajout paire clé-valeur\n",
    "    naf.update({naf_5.iloc[i]['NIV5']: naf_5.loc[i]['NIV1']})\n",
    "\n",
    "# Création du dictionnaire secteur d'activité\n",
    "SectAct = {}\n",
    "for i in code_naf.index:\n",
    "    # Ajout paire clé-valeur\n",
    "    SectAct.update({code_naf.iloc[i]['Code']: code_naf.index[i]+1})\n",
    "    \n",
    "# Création du dictionnaire des villes\n",
    "dict_ville = {}\n",
    "for i in ville.index:\n",
    "    dict_ville.update({ville.loc[i]['vi_nom']: ville.loc[i]['vi_id']})"
   ]
  },
  {
   "cell_type": "code",
   "execution_count": 32,
   "metadata": {},
   "outputs": [
    {
     "ename": "NameError",
     "evalue": "name 'entreprise_csv' is not defined",
     "output_type": "error",
     "traceback": [
      "\u001b[0;31m---------------------------------------------------------------------------\u001b[0m",
      "\u001b[0;31mNameError\u001b[0m                                 Traceback (most recent call last)",
      "\u001b[0;32m<ipython-input-32-3dd6d9b9bc56>\u001b[0m in \u001b[0;36m<module>\u001b[0;34m\u001b[0m\n\u001b[1;32m      5\u001b[0m \u001b[0;31m#for i in entreprise_csv.index:\u001b[0m\u001b[0;34m\u001b[0m\u001b[0;34m\u001b[0m\u001b[0;34m\u001b[0m\u001b[0m\n\u001b[1;32m      6\u001b[0m \u001b[0;32mfor\u001b[0m \u001b[0mi\u001b[0m \u001b[0;32min\u001b[0m \u001b[0mrange\u001b[0m\u001b[0;34m(\u001b[0m\u001b[0;36m2000\u001b[0m\u001b[0;34m)\u001b[0m\u001b[0;34m:\u001b[0m\u001b[0;34m\u001b[0m\u001b[0;34m\u001b[0m\u001b[0m\n\u001b[0;32m----> 7\u001b[0;31m     \u001b[0men_id\u001b[0m \u001b[0;34m=\u001b[0m \u001b[0mstr\u001b[0m\u001b[0;34m(\u001b[0m\u001b[0mentreprise_csv\u001b[0m\u001b[0;34m.\u001b[0m\u001b[0mloc\u001b[0m\u001b[0;34m[\u001b[0m\u001b[0mi\u001b[0m\u001b[0;34m]\u001b[0m\u001b[0;34m[\u001b[0m\u001b[0;34m\"siren\"\u001b[0m\u001b[0;34m]\u001b[0m\u001b[0;34m)\u001b[0m \u001b[0;34m+\u001b[0m \u001b[0mstr\u001b[0m\u001b[0;34m(\u001b[0m\u001b[0mentreprise_csv\u001b[0m\u001b[0;34m.\u001b[0m\u001b[0mloc\u001b[0m\u001b[0;34m[\u001b[0m\u001b[0mi\u001b[0m\u001b[0;34m]\u001b[0m\u001b[0;34m[\u001b[0m\u001b[0;34m\"nic\"\u001b[0m\u001b[0;34m]\u001b[0m\u001b[0;34m)\u001b[0m\u001b[0;34m\u001b[0m\u001b[0;34m\u001b[0m\u001b[0m\n\u001b[0m\u001b[1;32m      8\u001b[0m     \u001b[0msiren\u001b[0m \u001b[0;34m=\u001b[0m \u001b[0mentreprise_csv\u001b[0m\u001b[0;34m.\u001b[0m\u001b[0miloc\u001b[0m\u001b[0;34m[\u001b[0m\u001b[0mi\u001b[0m\u001b[0;34m]\u001b[0m\u001b[0;34m[\u001b[0m\u001b[0;34m'siren'\u001b[0m\u001b[0;34m]\u001b[0m\u001b[0;34m\u001b[0m\u001b[0;34m\u001b[0m\u001b[0m\n\u001b[1;32m      9\u001b[0m     \u001b[0mnic\u001b[0m \u001b[0;34m=\u001b[0m \u001b[0mentreprise_csv\u001b[0m\u001b[0;34m.\u001b[0m\u001b[0miloc\u001b[0m\u001b[0;34m[\u001b[0m\u001b[0mi\u001b[0m\u001b[0;34m]\u001b[0m\u001b[0;34m[\u001b[0m\u001b[0;34m'nic'\u001b[0m\u001b[0;34m]\u001b[0m\u001b[0;34m\u001b[0m\u001b[0;34m\u001b[0m\u001b[0m\n",
      "\u001b[0;31mNameError\u001b[0m: name 'entreprise_csv' is not defined"
     ]
    }
   ],
   "source": [
    "# Création du DataFrame entreprise\n",
    "entreprise = pd.DataFrame(columns =['en_id','en_siren','en_nic', 'en_nom', 'en_sa_fk', 'en_adresse', 'en_code_postal', 'en_ville'])\n",
    "\n",
    "\n",
    "#for i in entreprise_csv.index:\n",
    "for i in range(2000):\n",
    "    en_id = str(entreprise_csv.loc[i][\"siren\"]) + str(entreprise_csv.loc[i][\"nic\"])\n",
    "    siren = entreprise_csv.iloc[i]['siren']\n",
    "    nic = entreprise_csv.iloc[i]['nic']\n",
    "    nom = entreprise_csv.iloc[i]['denominationUniteLegale']\n",
    "    # Utilisation du dictionaire naf pour répertorier les secteurs d'activité\n",
    "    a = naf[entreprise_csv.loc[i][\"activitePrincipaleEtablissement\"]]\n",
    "    # Utilisation du dictionaire naf SectAct pour réferencer le secteur d'activité\n",
    "    secteur_activite = SectAct[a]\n",
    "    \n",
    "    \n",
    "    # Ici on test si le numero de voie est non nul/ si oui on le remplace par un str vide\n",
    "    adresse = (''if pd.isna(entreprise_csv.iloc[i]['numeroVoieEtablissement'])\n",
    "    # /sinon on le transforme en int pour supprimer les chiffres apres la virgule puis en str\n",
    " else str(int(entreprise_csv.iloc[i]['numeroVoieEtablissement'])))+\" \"+str(entreprise_csv.loc[i][\"typeVoieEtablissement\"])+\" \"+str(entreprise_csv.loc[i][\"libelleVoieEtablissement\"])\n",
    "    \n",
    "    \n",
    "    code_postal = entreprise_csv.loc[i][\"codePostalEtablissement\"]\n",
    "    ville = dict_ville[entreprise_csv.loc[i][\"libelleCommuneEtablissement\"]]\n",
    "    \n",
    "    df = pd.DataFrame({'en_id': en_id,\n",
    "                           'en_siren': siren,\n",
    "                           'en_nic': nic,\n",
    "                           'en_nom': nom,\n",
    "                           'en_sa_fk': secteur_activite,\n",
    "                           'en_adresse': adresse,\n",
    "                           'en_code_postal':code_postal,\n",
    "                           'en_ville':ville}, index = [0])\n",
    "    entreprise = entreprise.append(df, ignore_index=True)"
   ]
  },
  {
   "cell_type": "code",
   "execution_count": 33,
   "metadata": {},
   "outputs": [
    {
     "data": {
      "text/html": [
       "<div>\n",
       "<style scoped>\n",
       "    .dataframe tbody tr th:only-of-type {\n",
       "        vertical-align: middle;\n",
       "    }\n",
       "\n",
       "    .dataframe tbody tr th {\n",
       "        vertical-align: top;\n",
       "    }\n",
       "\n",
       "    .dataframe thead th {\n",
       "        text-align: right;\n",
       "    }\n",
       "</style>\n",
       "<table border=\"1\" class=\"dataframe\">\n",
       "  <thead>\n",
       "    <tr style=\"text-align: right;\">\n",
       "      <th></th>\n",
       "      <th>en_id</th>\n",
       "      <th>en_siren</th>\n",
       "      <th>en_nic</th>\n",
       "      <th>en_nom</th>\n",
       "      <th>en_sa_fk</th>\n",
       "      <th>en_adresse</th>\n",
       "      <th>en_code_postal</th>\n",
       "      <th>en_ville</th>\n",
       "    </tr>\n",
       "  </thead>\n",
       "  <tbody>\n",
       "  </tbody>\n",
       "</table>\n",
       "</div>"
      ],
      "text/plain": [
       "Empty DataFrame\n",
       "Columns: [en_id, en_siren, en_nic, en_nom, en_sa_fk, en_adresse, en_code_postal, en_ville]\n",
       "Index: []"
      ]
     },
     "execution_count": 33,
     "metadata": {},
     "output_type": "execute_result"
    }
   ],
   "source": [
    "# Apercu du DataFrame entreprise\n",
    "entreprise"
   ]
  },
  {
   "cell_type": "markdown",
   "metadata": {},
   "source": [
    "### Création du DataFrame secteur_activite"
   ]
  },
  {
   "cell_type": "code",
   "execution_count": 34,
   "metadata": {},
   "outputs": [
    {
     "ename": "NameError",
     "evalue": "name 'code_naf' is not defined",
     "output_type": "error",
     "traceback": [
      "\u001b[0;31m---------------------------------------------------------------------------\u001b[0m",
      "\u001b[0;31mNameError\u001b[0m                                 Traceback (most recent call last)",
      "\u001b[0;32m<ipython-input-34-d9c8590b2596>\u001b[0m in \u001b[0;36m<module>\u001b[0;34m\u001b[0m\n\u001b[1;32m      1\u001b[0m \u001b[0;31m# On utilise le fichier code naf pour le DataFrame secteur activité\u001b[0m\u001b[0;34m\u001b[0m\u001b[0;34m\u001b[0m\u001b[0;34m\u001b[0m\u001b[0m\n\u001b[0;32m----> 2\u001b[0;31m \u001b[0msecteur_activite\u001b[0m \u001b[0;34m=\u001b[0m \u001b[0mpd\u001b[0m\u001b[0;34m.\u001b[0m\u001b[0mDataFrame\u001b[0m\u001b[0;34m(\u001b[0m\u001b[0mcode_naf\u001b[0m\u001b[0;34m,\u001b[0m \u001b[0mcolumns\u001b[0m \u001b[0;34m=\u001b[0m \u001b[0;34m[\u001b[0m\u001b[0;34m\"sa_id\"\u001b[0m\u001b[0;34m,\u001b[0m \u001b[0;34m\"Libellé\"\u001b[0m\u001b[0;34m]\u001b[0m\u001b[0;34m)\u001b[0m\u001b[0;34m\u001b[0m\u001b[0;34m\u001b[0m\u001b[0m\n\u001b[0m\u001b[1;32m      3\u001b[0m \u001b[0msecteur_activite\u001b[0m\u001b[0;34m[\u001b[0m\u001b[0;34m\"sa_id\"\u001b[0m\u001b[0;34m]\u001b[0m \u001b[0;34m=\u001b[0m \u001b[0msecteur_activite\u001b[0m\u001b[0;34m.\u001b[0m\u001b[0mindex\u001b[0m \u001b[0;34m+\u001b[0m \u001b[0;36m1\u001b[0m\u001b[0;34m\u001b[0m\u001b[0;34m\u001b[0m\u001b[0m\n\u001b[1;32m      4\u001b[0m \u001b[0msecteur_activite\u001b[0m\u001b[0;34m.\u001b[0m\u001b[0mrename\u001b[0m\u001b[0;34m(\u001b[0m\u001b[0mcolumns\u001b[0m\u001b[0;34m=\u001b[0m\u001b[0;34m{\u001b[0m\u001b[0;34m\"Libellé\"\u001b[0m\u001b[0;34m:\u001b[0m \u001b[0;34m\"sa_nom\"\u001b[0m\u001b[0;34m}\u001b[0m\u001b[0;34m,\u001b[0m\u001b[0minplace\u001b[0m\u001b[0;34m=\u001b[0m\u001b[0;32mTrue\u001b[0m\u001b[0;34m)\u001b[0m\u001b[0;34m\u001b[0m\u001b[0;34m\u001b[0m\u001b[0m\n",
      "\u001b[0;31mNameError\u001b[0m: name 'code_naf' is not defined"
     ]
    }
   ],
   "source": [
    "# On utilise le fichier code naf pour le DataFrame secteur activité\n",
    "secteur_activite = pd.DataFrame(code_naf, columns = [\"sa_id\", \"Libellé\"])\n",
    "secteur_activite[\"sa_id\"] = secteur_activite.index + 1\n",
    "secteur_activite.rename(columns={\"Libellé\": \"sa_nom\"},inplace=True)"
   ]
  },
  {
   "cell_type": "code",
   "execution_count": 35,
   "metadata": {},
   "outputs": [
    {
     "ename": "NameError",
     "evalue": "name 'secteur_activite' is not defined",
     "output_type": "error",
     "traceback": [
      "\u001b[0;31m---------------------------------------------------------------------------\u001b[0m",
      "\u001b[0;31mNameError\u001b[0m                                 Traceback (most recent call last)",
      "\u001b[0;32m<ipython-input-35-f9af40aac52c>\u001b[0m in \u001b[0;36m<module>\u001b[0;34m\u001b[0m\n\u001b[1;32m      1\u001b[0m \u001b[0;31m# Apercu du DataFrame sesecteur_activite\u001b[0m\u001b[0;34m\u001b[0m\u001b[0;34m\u001b[0m\u001b[0;34m\u001b[0m\u001b[0m\n\u001b[0;32m----> 2\u001b[0;31m \u001b[0msecteur_activite\u001b[0m\u001b[0;34m\u001b[0m\u001b[0;34m\u001b[0m\u001b[0m\n\u001b[0m",
      "\u001b[0;31mNameError\u001b[0m: name 'secteur_activite' is not defined"
     ]
    }
   ],
   "source": [
    "# Apercu du DataFrame sesecteur_activite\n",
    "secteur_activite"
   ]
  },
  {
   "cell_type": "markdown",
   "metadata": {},
   "source": [
    "### Création du DataFrame categorie_socio_pro"
   ]
  },
  {
   "cell_type": "code",
   "execution_count": 36,
   "metadata": {},
   "outputs": [
    {
     "ename": "NameError",
     "evalue": "name 'CSP_15_24' is not defined",
     "output_type": "error",
     "traceback": [
      "\u001b[0;31m---------------------------------------------------------------------------\u001b[0m",
      "\u001b[0;31mNameError\u001b[0m                                 Traceback (most recent call last)",
      "\u001b[0;32m<ipython-input-36-1ac81ac03c93>\u001b[0m in \u001b[0;36m<module>\u001b[0;34m\u001b[0m\n\u001b[1;32m      1\u001b[0m \u001b[0;31m# On utilise le fichier CSP_15_24 pour le DataFrame categorie_socio_pro\u001b[0m\u001b[0;34m\u001b[0m\u001b[0;34m\u001b[0m\u001b[0;34m\u001b[0m\u001b[0m\n\u001b[0;32m----> 2\u001b[0;31m \u001b[0mcategorie_socio_pro\u001b[0m \u001b[0;34m=\u001b[0m \u001b[0mpd\u001b[0m\u001b[0;34m.\u001b[0m\u001b[0mDataFrame\u001b[0m\u001b[0;34m(\u001b[0m\u001b[0mCSP_15_24\u001b[0m\u001b[0;34m,\u001b[0m \u001b[0mcolumns\u001b[0m \u001b[0;34m=\u001b[0m\u001b[0;34m[\u001b[0m\u001b[0;34m\"csp_id\"\u001b[0m\u001b[0;34m,\u001b[0m\u001b[0;34m\"Catégorie\"\u001b[0m\u001b[0;34m]\u001b[0m\u001b[0;34m)\u001b[0m\u001b[0;34m\u001b[0m\u001b[0;34m\u001b[0m\u001b[0m\n\u001b[0m\u001b[1;32m      3\u001b[0m \u001b[0mcategorie_socio_pro\u001b[0m\u001b[0;34m[\u001b[0m\u001b[0;34m\"csp_id\"\u001b[0m\u001b[0;34m]\u001b[0m \u001b[0;34m=\u001b[0m \u001b[0mcategorie_socio_pro\u001b[0m\u001b[0;34m.\u001b[0m\u001b[0mindex\u001b[0m \u001b[0;34m+\u001b[0m \u001b[0;36m1\u001b[0m\u001b[0;34m\u001b[0m\u001b[0;34m\u001b[0m\u001b[0m\n\u001b[1;32m      4\u001b[0m \u001b[0mcategorie_socio_pro\u001b[0m\u001b[0;34m.\u001b[0m\u001b[0mrename\u001b[0m\u001b[0;34m(\u001b[0m\u001b[0mcolumns\u001b[0m \u001b[0;34m=\u001b[0m \u001b[0;34m{\u001b[0m\u001b[0;34m\"Catégorie\"\u001b[0m\u001b[0;34m:\u001b[0m \u001b[0;34m\"csp_nom\"\u001b[0m\u001b[0;34m}\u001b[0m\u001b[0;34m,\u001b[0m\u001b[0minplace\u001b[0m\u001b[0;34m=\u001b[0m\u001b[0;32mTrue\u001b[0m\u001b[0;34m)\u001b[0m\u001b[0;34m\u001b[0m\u001b[0;34m\u001b[0m\u001b[0m\n",
      "\u001b[0;31mNameError\u001b[0m: name 'CSP_15_24' is not defined"
     ]
    }
   ],
   "source": [
    "# On utilise le fichier CSP_15_24 pour le DataFrame categorie_socio_pro\n",
    "categorie_socio_pro = pd.DataFrame(CSP_15_24, columns =[\"csp_id\",\"Catégorie\"])\n",
    "categorie_socio_pro[\"csp_id\"] = categorie_socio_pro.index + 1\n",
    "categorie_socio_pro.rename(columns = {\"Catégorie\": \"csp_nom\"},inplace=True)"
   ]
  },
  {
   "cell_type": "code",
   "execution_count": 37,
   "metadata": {},
   "outputs": [
    {
     "ename": "NameError",
     "evalue": "name 'categorie_socio_pro' is not defined",
     "output_type": "error",
     "traceback": [
      "\u001b[0;31m---------------------------------------------------------------------------\u001b[0m",
      "\u001b[0;31mNameError\u001b[0m                                 Traceback (most recent call last)",
      "\u001b[0;32m<ipython-input-37-efe7f7371bf0>\u001b[0m in \u001b[0;36m<module>\u001b[0;34m\u001b[0m\n\u001b[1;32m      1\u001b[0m \u001b[0;31m# Apercu du DataFrame categorie_socio_pro\u001b[0m\u001b[0;34m\u001b[0m\u001b[0;34m\u001b[0m\u001b[0;34m\u001b[0m\u001b[0m\n\u001b[0;32m----> 2\u001b[0;31m \u001b[0mcategorie_socio_pro\u001b[0m\u001b[0;34m\u001b[0m\u001b[0;34m\u001b[0m\u001b[0m\n\u001b[0m",
      "\u001b[0;31mNameError\u001b[0m: name 'categorie_socio_pro' is not defined"
     ]
    }
   ],
   "source": [
    "# Apercu du DataFrame categorie_socio_pro\n",
    "categorie_socio_pro"
   ]
  },
  {
   "cell_type": "markdown",
   "metadata": {},
   "source": [
    "### Création du DataFrame age"
   ]
  },
  {
   "cell_type": "code",
   "execution_count": 38,
   "metadata": {},
   "outputs": [],
   "source": [
    "liste_ag_id = [1,2,3]\n",
    "liste_ag_nom = [\"15 a 24\", \"25 a 54\",\"55 et plus\"]\n",
    "age = pd.DataFrame({'ag_id': liste_ag_id,\n",
    "                     'ag_nom': liste_ag_nom})"
   ]
  },
  {
   "cell_type": "code",
   "execution_count": 39,
   "metadata": {},
   "outputs": [
    {
     "data": {
      "text/html": [
       "<div>\n",
       "<style scoped>\n",
       "    .dataframe tbody tr th:only-of-type {\n",
       "        vertical-align: middle;\n",
       "    }\n",
       "\n",
       "    .dataframe tbody tr th {\n",
       "        vertical-align: top;\n",
       "    }\n",
       "\n",
       "    .dataframe thead th {\n",
       "        text-align: right;\n",
       "    }\n",
       "</style>\n",
       "<table border=\"1\" class=\"dataframe\">\n",
       "  <thead>\n",
       "    <tr style=\"text-align: right;\">\n",
       "      <th></th>\n",
       "      <th>ag_id</th>\n",
       "      <th>ag_nom</th>\n",
       "    </tr>\n",
       "  </thead>\n",
       "  <tbody>\n",
       "    <tr>\n",
       "      <th>0</th>\n",
       "      <td>1</td>\n",
       "      <td>15 a 24</td>\n",
       "    </tr>\n",
       "    <tr>\n",
       "      <th>1</th>\n",
       "      <td>2</td>\n",
       "      <td>25 a 54</td>\n",
       "    </tr>\n",
       "    <tr>\n",
       "      <th>2</th>\n",
       "      <td>3</td>\n",
       "      <td>55 et plus</td>\n",
       "    </tr>\n",
       "  </tbody>\n",
       "</table>\n",
       "</div>"
      ],
      "text/plain": [
       "   ag_id      ag_nom\n",
       "0      1     15 a 24\n",
       "1      2     25 a 54\n",
       "2      3  55 et plus"
      ]
     },
     "execution_count": 39,
     "metadata": {},
     "output_type": "execute_result"
    }
   ],
   "source": [
    "# Apercu du DataFrame age\n",
    "age"
   ]
  },
  {
   "cell_type": "markdown",
   "metadata": {},
   "source": [
    "### Création du DataFrame age du DataFrame population"
   ]
  },
  {
   "cell_type": "code",
   "execution_count": 40,
   "metadata": {},
   "outputs": [
    {
     "ename": "NameError",
     "evalue": "name 'CSP_25_54' is not defined",
     "output_type": "error",
     "traceback": [
      "\u001b[0;31m---------------------------------------------------------------------------\u001b[0m",
      "\u001b[0;31mNameError\u001b[0m                                 Traceback (most recent call last)",
      "\u001b[0;32m<ipython-input-40-ac50990aa8ce>\u001b[0m in \u001b[0;36m<module>\u001b[0;34m\u001b[0m\n\u001b[1;32m      1\u001b[0m \u001b[0;31m# On rectifie l'ortographe de la colonne Theoule-Sur-Mer\u001b[0m\u001b[0;34m\u001b[0m\u001b[0;34m\u001b[0m\u001b[0;34m\u001b[0m\u001b[0m\n\u001b[0;32m----> 2\u001b[0;31m \u001b[0mCSP_25_54\u001b[0m\u001b[0;34m.\u001b[0m\u001b[0mrename\u001b[0m\u001b[0;34m(\u001b[0m\u001b[0mcolumns\u001b[0m\u001b[0;34m=\u001b[0m\u001b[0;34m{\u001b[0m\u001b[0;34m\"Théoule-Sur-Mer\"\u001b[0m\u001b[0;34m:\u001b[0m \u001b[0;34m\"Theoule-Sur-Mer\"\u001b[0m\u001b[0;34m}\u001b[0m\u001b[0;34m,\u001b[0m \u001b[0minplace\u001b[0m \u001b[0;34m=\u001b[0m \u001b[0;32mTrue\u001b[0m\u001b[0;34m)\u001b[0m\u001b[0;34m\u001b[0m\u001b[0;34m\u001b[0m\u001b[0m\n\u001b[0m\u001b[1;32m      3\u001b[0m \u001b[0mCSP_55_plus\u001b[0m\u001b[0;34m.\u001b[0m\u001b[0mrename\u001b[0m\u001b[0;34m(\u001b[0m\u001b[0mcolumns\u001b[0m\u001b[0;34m=\u001b[0m\u001b[0;34m{\u001b[0m\u001b[0;34m\"Théoule-Sur-Mer\"\u001b[0m\u001b[0;34m:\u001b[0m \u001b[0;34m\"Theoule-Sur-Mer\"\u001b[0m\u001b[0;34m}\u001b[0m\u001b[0;34m,\u001b[0m \u001b[0minplace\u001b[0m \u001b[0;34m=\u001b[0m \u001b[0;32mTrue\u001b[0m\u001b[0;34m)\u001b[0m\u001b[0;34m\u001b[0m\u001b[0;34m\u001b[0m\u001b[0m\n\u001b[1;32m      4\u001b[0m \u001b[0;31m# On rectifie l'ortographe de la colonne Le Cannet\u001b[0m\u001b[0;34m\u001b[0m\u001b[0;34m\u001b[0m\u001b[0;34m\u001b[0m\u001b[0m\n\u001b[1;32m      5\u001b[0m \u001b[0mCSP_55_plus\u001b[0m\u001b[0;34m.\u001b[0m\u001b[0mrename\u001b[0m\u001b[0;34m(\u001b[0m\u001b[0mcolumns\u001b[0m\u001b[0;34m=\u001b[0m\u001b[0;34m{\u001b[0m\u001b[0;34m\"le Cannet\"\u001b[0m\u001b[0;34m:\u001b[0m \u001b[0;34m\"Le Cannet\"\u001b[0m\u001b[0;34m}\u001b[0m\u001b[0;34m,\u001b[0m \u001b[0minplace\u001b[0m \u001b[0;34m=\u001b[0m \u001b[0;32mTrue\u001b[0m\u001b[0;34m)\u001b[0m\u001b[0;34m\u001b[0m\u001b[0;34m\u001b[0m\u001b[0m\n",
      "\u001b[0;31mNameError\u001b[0m: name 'CSP_25_54' is not defined"
     ]
    }
   ],
   "source": [
    "# On rectifie l'ortographe de la colonne Theoule-Sur-Mer\n",
    "CSP_25_54.rename(columns={\"Théoule-Sur-Mer\": \"Theoule-Sur-Mer\"}, inplace = True)\n",
    "CSP_55_plus.rename(columns={\"Théoule-Sur-Mer\": \"Theoule-Sur-Mer\"}, inplace = True)\n",
    "# On rectifie l'ortographe de la colonne Le Cannet\n",
    "CSP_55_plus.rename(columns={\"le Cannet\": \"Le Cannet\"}, inplace = True)"
   ]
  },
  {
   "cell_type": "code",
   "execution_count": 41,
   "metadata": {},
   "outputs": [],
   "source": [
    "# Création d'une fonction add_df qui renvoie un DataFrame adapté pour la table population\n",
    "def add_df(df):\n",
    "    # Création d'un DataFrame adapté pour la table population\n",
    "    dataf = pd.DataFrame(columns = [\"po_id\",\"po_source\", \"po_annee\", \"po_nombre_pop\", \"po_csp_id_fk\", \"po_ag_id_fk\", \"po_vi_id\"])\n",
    "    # Dans une premiere boucle on itère sur le nbre de ligne qui correcpond à csp\n",
    "    for i in df.index:\n",
    "        # Dans une deuxieme boucle imbriquer on itère sur le nbre de colonne qui correspond aux villes\n",
    "        for j in df.columns[1:]:\n",
    "            nbre = df.iloc[i][j]\n",
    "            ville1 = dict_ville[j]\n",
    "            csp = i + 1\n",
    "            DF = pd.DataFrame({'po_id': i,\n",
    "                           'po_source': \"Insee, Recensement de la population (RP), exploitation complémentaire - 2017\",\n",
    "                           'po_annee': 2017,\n",
    "                           'po_nombre_pop': nbre,\n",
    "                           'po_csp_id_fk': csp,\n",
    "                           'po_vi_id': ville1}, index = [0])\n",
    "            dataf = dataf.append(DF, ignore_index=True)\n",
    "    return dataf"
   ]
  },
  {
   "cell_type": "code",
   "execution_count": 42,
   "metadata": {},
   "outputs": [
    {
     "ename": "NameError",
     "evalue": "name 'CSP_15_24' is not defined",
     "output_type": "error",
     "traceback": [
      "\u001b[0;31m---------------------------------------------------------------------------\u001b[0m",
      "\u001b[0;31mNameError\u001b[0m                                 Traceback (most recent call last)",
      "\u001b[0;32m<ipython-input-42-58a3dd3b02ab>\u001b[0m in \u001b[0;36m<module>\u001b[0;34m\u001b[0m\n\u001b[1;32m      1\u001b[0m \u001b[0;31m# On utilise la fonction add_df pour creer des dataframe en fonction de la tranche d'age\u001b[0m\u001b[0;34m\u001b[0m\u001b[0;34m\u001b[0m\u001b[0;34m\u001b[0m\u001b[0m\n\u001b[0;32m----> 2\u001b[0;31m \u001b[0mpopulation15_24\u001b[0m \u001b[0;34m=\u001b[0m \u001b[0madd_df\u001b[0m\u001b[0;34m(\u001b[0m\u001b[0mCSP_15_24\u001b[0m\u001b[0;34m)\u001b[0m\u001b[0;34m\u001b[0m\u001b[0;34m\u001b[0m\u001b[0m\n\u001b[0m\u001b[1;32m      3\u001b[0m \u001b[0mpopulation25_54\u001b[0m \u001b[0;34m=\u001b[0m \u001b[0madd_df\u001b[0m\u001b[0;34m(\u001b[0m\u001b[0mCSP_25_54\u001b[0m\u001b[0;34m)\u001b[0m\u001b[0;34m\u001b[0m\u001b[0;34m\u001b[0m\u001b[0m\n\u001b[1;32m      4\u001b[0m \u001b[0mpopulation55_plus\u001b[0m \u001b[0;34m=\u001b[0m \u001b[0madd_df\u001b[0m\u001b[0;34m(\u001b[0m\u001b[0mCSP_55_plus\u001b[0m\u001b[0;34m)\u001b[0m\u001b[0;34m\u001b[0m\u001b[0;34m\u001b[0m\u001b[0m\n\u001b[1;32m      5\u001b[0m \u001b[0;34m\u001b[0m\u001b[0m\n",
      "\u001b[0;31mNameError\u001b[0m: name 'CSP_15_24' is not defined"
     ]
    }
   ],
   "source": [
    "# On utilise la fonction add_df pour creer des dataframe en fonction de la tranche d'age\n",
    "population15_24 = add_df(CSP_15_24)\n",
    "population25_54 = add_df(CSP_25_54)\n",
    "population55_plus = add_df(CSP_55_plus)\n",
    "\n",
    "# On assigne la clé entrangère de la table age\n",
    "password = Bin_(config[\"password\"])._UserP()\n",
    "population15_24['po_ag_id_fk']=1\n",
    "population25_54['po_ag_id_fk']=2\n",
    "population55_plus['po_ag_id_fk']=3\n",
    "\n",
    "# On réunis les 3 DataFrames dans le DataFrame poplulation\n",
    "population = pd.concat([population15_24,population25_54,population55_plus])\n",
    "population.reset_index(inplace = True)\n",
    "population['po_id'] = population.index\n",
    "population.drop(columns=['index'], inplace=True)"
   ]
  },
  {
   "cell_type": "code",
   "execution_count": 43,
   "metadata": {},
   "outputs": [
    {
     "ename": "NameError",
     "evalue": "name 'population' is not defined",
     "output_type": "error",
     "traceback": [
      "\u001b[0;31m---------------------------------------------------------------------------\u001b[0m",
      "\u001b[0;31mNameError\u001b[0m                                 Traceback (most recent call last)",
      "\u001b[0;32m<ipython-input-43-e43802c94e12>\u001b[0m in \u001b[0;36m<module>\u001b[0;34m\u001b[0m\n\u001b[1;32m      1\u001b[0m \u001b[0;31m# Apercu du DataFrame population\u001b[0m\u001b[0;34m\u001b[0m\u001b[0;34m\u001b[0m\u001b[0;34m\u001b[0m\u001b[0m\n\u001b[0;32m----> 2\u001b[0;31m \u001b[0mpopulation\u001b[0m\u001b[0;34m\u001b[0m\u001b[0;34m\u001b[0m\u001b[0m\n\u001b[0m",
      "\u001b[0;31mNameError\u001b[0m: name 'population' is not defined"
     ]
    }
   ],
   "source": [
    "# Apercu du DataFrame population\n",
    "population"
   ]
  },
  {
   "cell_type": "markdown",
   "metadata": {},
   "source": [
    "### Création du DataFrame categorie_logement"
   ]
  },
  {
   "cell_type": "code",
   "execution_count": 44,
   "metadata": {},
   "outputs": [
    {
     "ename": "NameError",
     "evalue": "name 'logement_par_catégorie' is not defined",
     "output_type": "error",
     "traceback": [
      "\u001b[0;31m---------------------------------------------------------------------------\u001b[0m",
      "\u001b[0;31mNameError\u001b[0m                                 Traceback (most recent call last)",
      "\u001b[0;32m<ipython-input-44-310dde785f31>\u001b[0m in \u001b[0;36m<module>\u001b[0;34m\u001b[0m\n\u001b[1;32m      1\u001b[0m \u001b[0;31m# On utilise le fichier logement_par_catégorie pour le DataFrame categorie_logement\u001b[0m\u001b[0;34m\u001b[0m\u001b[0;34m\u001b[0m\u001b[0;34m\u001b[0m\u001b[0m\n\u001b[0;32m----> 2\u001b[0;31m \u001b[0mcategorie_logement\u001b[0m \u001b[0;34m=\u001b[0m \u001b[0mpd\u001b[0m\u001b[0;34m.\u001b[0m\u001b[0mDataFrame\u001b[0m\u001b[0;34m(\u001b[0m\u001b[0mlogement_par_catégorie\u001b[0m\u001b[0;34m,\u001b[0m \u001b[0mcolumns\u001b[0m \u001b[0;34m=\u001b[0m\u001b[0;34m[\u001b[0m\u001b[0;34m\"cl_id\"\u001b[0m\u001b[0;34m,\u001b[0m\u001b[0;34m\"Catégorie\"\u001b[0m\u001b[0;34m]\u001b[0m\u001b[0;34m)\u001b[0m\u001b[0;34m\u001b[0m\u001b[0;34m\u001b[0m\u001b[0m\n\u001b[0m\u001b[1;32m      3\u001b[0m \u001b[0mcategorie_logement\u001b[0m\u001b[0;34m[\u001b[0m\u001b[0;34m\"cl_id\"\u001b[0m\u001b[0;34m]\u001b[0m \u001b[0;34m=\u001b[0m \u001b[0mcategorie_logement\u001b[0m\u001b[0;34m.\u001b[0m\u001b[0mindex\u001b[0m \u001b[0;34m+\u001b[0m \u001b[0;36m1\u001b[0m\u001b[0;34m\u001b[0m\u001b[0;34m\u001b[0m\u001b[0m\n\u001b[1;32m      4\u001b[0m \u001b[0mcategorie_logement\u001b[0m\u001b[0;34m.\u001b[0m\u001b[0mrename\u001b[0m\u001b[0;34m(\u001b[0m\u001b[0mcolumns\u001b[0m \u001b[0;34m=\u001b[0m \u001b[0;34m{\u001b[0m\u001b[0;34m\"Catégorie\"\u001b[0m\u001b[0;34m:\u001b[0m \u001b[0;34m\"csp_nom\"\u001b[0m\u001b[0;34m}\u001b[0m\u001b[0;34m,\u001b[0m\u001b[0minplace\u001b[0m\u001b[0;34m=\u001b[0m\u001b[0;32mTrue\u001b[0m\u001b[0;34m)\u001b[0m\u001b[0;34m\u001b[0m\u001b[0;34m\u001b[0m\u001b[0m\n",
      "\u001b[0;31mNameError\u001b[0m: name 'logement_par_catégorie' is not defined"
     ]
    }
   ],
   "source": [
    "# On utilise le fichier logement_par_catégorie pour le DataFrame categorie_logement\n",
    "categorie_logement = pd.DataFrame(logement_par_catégorie, columns =[\"cl_id\",\"Catégorie\"])\n",
    "categorie_logement[\"cl_id\"] = categorie_logement.index + 1\n",
    "categorie_logement.rename(columns = {\"Catégorie\": \"csp_nom\"},inplace=True)"
   ]
  },
  {
   "cell_type": "code",
   "execution_count": 45,
   "metadata": {},
   "outputs": [
    {
     "ename": "NameError",
     "evalue": "name 'categorie_logement' is not defined",
     "output_type": "error",
     "traceback": [
      "\u001b[0;31m---------------------------------------------------------------------------\u001b[0m",
      "\u001b[0;31mNameError\u001b[0m                                 Traceback (most recent call last)",
      "\u001b[0;32m<ipython-input-45-85a9e22d0dad>\u001b[0m in \u001b[0;36m<module>\u001b[0;34m\u001b[0m\n\u001b[1;32m      1\u001b[0m \u001b[0;31m# Apercu du DataFrame categorie_logement\u001b[0m\u001b[0;34m\u001b[0m\u001b[0;34m\u001b[0m\u001b[0;34m\u001b[0m\u001b[0m\n\u001b[0;32m----> 2\u001b[0;31m \u001b[0mcategorie_logement\u001b[0m\u001b[0;34m\u001b[0m\u001b[0;34m\u001b[0m\u001b[0m\n\u001b[0m",
      "\u001b[0;31mNameError\u001b[0m: name 'categorie_logement' is not defined"
     ]
    }
   ],
   "source": [
    "# Apercu du DataFrame categorie_logement\n",
    "categorie_logement"
   ]
  },
  {
   "cell_type": "markdown",
   "metadata": {},
   "source": [
    "### Création du DataFrame logement"
   ]
  },
  {
   "cell_type": "code",
   "execution_count": 46,
   "metadata": {},
   "outputs": [
    {
     "ename": "NameError",
     "evalue": "name 'logement_par_catégorie' is not defined",
     "output_type": "error",
     "traceback": [
      "\u001b[0;31m---------------------------------------------------------------------------\u001b[0m",
      "\u001b[0;31mNameError\u001b[0m                                 Traceback (most recent call last)",
      "\u001b[0;32m<ipython-input-46-0fa0df421294>\u001b[0m in \u001b[0;36m<module>\u001b[0;34m\u001b[0m\n\u001b[1;32m      1\u001b[0m \u001b[0;31m# On rectifie l'ortographe de la colonne Mandelieu-la-Napoule\u001b[0m\u001b[0;34m\u001b[0m\u001b[0;34m\u001b[0m\u001b[0;34m\u001b[0m\u001b[0m\n\u001b[0;32m----> 2\u001b[0;31m \u001b[0mlogement_par_catégorie\u001b[0m\u001b[0;34m.\u001b[0m\u001b[0mrename\u001b[0m\u001b[0;34m(\u001b[0m\u001b[0mcolumns\u001b[0m\u001b[0;34m=\u001b[0m\u001b[0;34m{\u001b[0m\u001b[0;34m\"Mandelieu-la-Napoule\"\u001b[0m\u001b[0;34m:\u001b[0m \u001b[0;34m\"Mandelieu-La-Napoule\"\u001b[0m\u001b[0;34m}\u001b[0m\u001b[0;34m,\u001b[0m \u001b[0minplace\u001b[0m \u001b[0;34m=\u001b[0m \u001b[0;32mTrue\u001b[0m\u001b[0;34m)\u001b[0m\u001b[0;34m\u001b[0m\u001b[0;34m\u001b[0m\u001b[0m\n\u001b[0m\u001b[1;32m      3\u001b[0m \u001b[0;31m# On rectifie l'ortographe de la colonne Theoule-Sur-Mer\u001b[0m\u001b[0;34m\u001b[0m\u001b[0;34m\u001b[0m\u001b[0;34m\u001b[0m\u001b[0m\n\u001b[1;32m      4\u001b[0m \u001b[0mlogement_par_catégorie\u001b[0m\u001b[0;34m.\u001b[0m\u001b[0mrename\u001b[0m\u001b[0;34m(\u001b[0m\u001b[0mcolumns\u001b[0m\u001b[0;34m=\u001b[0m\u001b[0;34m{\u001b[0m\u001b[0;34m\"Théoule-sur-Mer\"\u001b[0m\u001b[0;34m:\u001b[0m \u001b[0;34m\"Theoule-Sur-Mer\"\u001b[0m\u001b[0;34m}\u001b[0m\u001b[0;34m,\u001b[0m \u001b[0minplace\u001b[0m \u001b[0;34m=\u001b[0m \u001b[0;32mTrue\u001b[0m\u001b[0;34m)\u001b[0m\u001b[0;34m\u001b[0m\u001b[0;34m\u001b[0m\u001b[0m\n",
      "\u001b[0;31mNameError\u001b[0m: name 'logement_par_catégorie' is not defined"
     ]
    }
   ],
   "source": [
    "# On rectifie l'ortographe de la colonne Mandelieu-la-Napoule\n",
    "logement_par_catégorie.rename(columns={\"Mandelieu-la-Napoule\": \"Mandelieu-La-Napoule\"}, inplace = True)\n",
    "# On rectifie l'ortographe de la colonne Theoule-Sur-Mer\n",
    "logement_par_catégorie.rename(columns={\"Théoule-sur-Mer\": \"Theoule-Sur-Mer\"}, inplace = True)"
   ]
  },
  {
   "cell_type": "code",
   "execution_count": 47,
   "metadata": {},
   "outputs": [
    {
     "ename": "NameError",
     "evalue": "name 'logement_par_catégorie' is not defined",
     "output_type": "error",
     "traceback": [
      "\u001b[0;31m---------------------------------------------------------------------------\u001b[0m",
      "\u001b[0;31mNameError\u001b[0m                                 Traceback (most recent call last)",
      "\u001b[0;32m<ipython-input-47-bf42ec1051cb>\u001b[0m in \u001b[0;36m<module>\u001b[0;34m\u001b[0m\n\u001b[1;32m      2\u001b[0m \u001b[0mlogement\u001b[0m \u001b[0;34m=\u001b[0m \u001b[0mpd\u001b[0m\u001b[0;34m.\u001b[0m\u001b[0mDataFrame\u001b[0m\u001b[0;34m(\u001b[0m\u001b[0mcolumns\u001b[0m \u001b[0;34m=\u001b[0m \u001b[0;34m[\u001b[0m\u001b[0;34m\"lo_id\"\u001b[0m\u001b[0;34m,\u001b[0m\u001b[0;34m\"lo_nbre\"\u001b[0m\u001b[0;34m,\u001b[0m\u001b[0;34m\"lo_vi_id_fk\"\u001b[0m\u001b[0;34m,\u001b[0m\u001b[0;34m\"lo_cl_id_fk\"\u001b[0m\u001b[0;34m]\u001b[0m\u001b[0;34m)\u001b[0m\u001b[0;34m\u001b[0m\u001b[0;34m\u001b[0m\u001b[0m\n\u001b[1;32m      3\u001b[0m \u001b[0;34m\u001b[0m\u001b[0m\n\u001b[0;32m----> 4\u001b[0;31m \u001b[0;32mfor\u001b[0m \u001b[0mi\u001b[0m \u001b[0;32min\u001b[0m \u001b[0mlogement_par_catégorie\u001b[0m\u001b[0;34m.\u001b[0m\u001b[0mindex\u001b[0m\u001b[0;34m:\u001b[0m\u001b[0;34m\u001b[0m\u001b[0;34m\u001b[0m\u001b[0m\n\u001b[0m\u001b[1;32m      5\u001b[0m     \u001b[0;32mfor\u001b[0m \u001b[0mj\u001b[0m \u001b[0;32min\u001b[0m \u001b[0mlogement_par_catégorie\u001b[0m\u001b[0;34m.\u001b[0m\u001b[0mcolumns\u001b[0m\u001b[0;34m[\u001b[0m\u001b[0;36m2\u001b[0m\u001b[0;34m:\u001b[0m\u001b[0;34m]\u001b[0m\u001b[0;34m:\u001b[0m\u001b[0;34m\u001b[0m\u001b[0;34m\u001b[0m\u001b[0m\n\u001b[1;32m      6\u001b[0m         \u001b[0mnbre_lg\u001b[0m \u001b[0;34m=\u001b[0m \u001b[0mlogement_par_catégorie\u001b[0m\u001b[0;34m.\u001b[0m\u001b[0miloc\u001b[0m\u001b[0;34m[\u001b[0m\u001b[0mi\u001b[0m\u001b[0;34m]\u001b[0m\u001b[0;34m[\u001b[0m\u001b[0mj\u001b[0m\u001b[0;34m]\u001b[0m\u001b[0;34m\u001b[0m\u001b[0;34m\u001b[0m\u001b[0m\n",
      "\u001b[0;31mNameError\u001b[0m: name 'logement_par_catégorie' is not defined"
     ]
    }
   ],
   "source": [
    "# Création du DataFrame logement\n",
    "logement = pd.DataFrame(columns = [\"lo_id\",\"lo_nbre\",\"lo_vi_id_fk\",\"lo_cl_id_fk\"])\n",
    "\n",
    "for i in logement_par_catégorie.index:\n",
    "    for j in logement_par_catégorie.columns[2:]:\n",
    "        nbre_lg = logement_par_catégorie.iloc[i][j]\n",
    "        ville_lg = dict_ville[j]\n",
    "        type_lg = i +1\n",
    "        df_lg = pd.DataFrame({'lo_nbre': nbre_lg,\n",
    "                           'lo_vi_id_fk': ville_lg,\n",
    "                           'lo_cl_id_fk': type_lg}, index = [0])\n",
    "        logement = logement.append(df_lg, ignore_index=True)\n",
    "        \n",
    "logement['lo_id'] = logement.index + 1"
   ]
  },
  {
   "cell_type": "code",
   "execution_count": 48,
   "metadata": {},
   "outputs": [
    {
     "data": {
      "text/html": [
       "<div>\n",
       "<style scoped>\n",
       "    .dataframe tbody tr th:only-of-type {\n",
       "        vertical-align: middle;\n",
       "    }\n",
       "\n",
       "    .dataframe tbody tr th {\n",
       "        vertical-align: top;\n",
       "    }\n",
       "\n",
       "    .dataframe thead th {\n",
       "        text-align: right;\n",
       "    }\n",
       "</style>\n",
       "<table border=\"1\" class=\"dataframe\">\n",
       "  <thead>\n",
       "    <tr style=\"text-align: right;\">\n",
       "      <th></th>\n",
       "      <th>lo_id</th>\n",
       "      <th>lo_nbre</th>\n",
       "      <th>lo_vi_id_fk</th>\n",
       "      <th>lo_cl_id_fk</th>\n",
       "    </tr>\n",
       "  </thead>\n",
       "  <tbody>\n",
       "  </tbody>\n",
       "</table>\n",
       "</div>"
      ],
      "text/plain": [
       "Empty DataFrame\n",
       "Columns: [lo_id, lo_nbre, lo_vi_id_fk, lo_cl_id_fk]\n",
       "Index: []"
      ]
     },
     "execution_count": 48,
     "metadata": {},
     "output_type": "execute_result"
    }
   ],
   "source": [
    "# Apercu du DataFrame categorie_logement\n",
    "logement"
   ]
  },
  {
   "cell_type": "markdown",
   "metadata": {},
   "source": [
    "---"
   ]
  },
  {
   "cell_type": "markdown",
   "metadata": {},
   "source": [
    "# Insertion des données dans la Base de données"
   ]
  },
  {
   "cell_type": "code",
   "execution_count": 49,
   "metadata": {},
   "outputs": [
    {
     "ename": "NameError",
     "evalue": "name 'config' is not defined",
     "output_type": "error",
     "traceback": [
      "\u001b[0;31m---------------------------------------------------------------------------\u001b[0m",
      "\u001b[0;31mNameError\u001b[0m                                 Traceback (most recent call last)",
      "\u001b[0;32m<ipython-input-49-44fa924fbfb6>\u001b[0m in \u001b[0;36m<module>\u001b[0;34m\u001b[0m\n\u001b[1;32m      1\u001b[0m \u001b[0;31m# Connexion à la BDD\u001b[0m\u001b[0;34m\u001b[0m\u001b[0;34m\u001b[0m\u001b[0;34m\u001b[0m\u001b[0m\n\u001b[0;32m----> 2\u001b[0;31m \u001b[0mengine\u001b[0m \u001b[0;34m=\u001b[0m \u001b[0mcreate_engine\u001b[0m\u001b[0;34m(\u001b[0m\u001b[0;34m'mysql+'\u001b[0m \u001b[0;34m+\u001b[0m \u001b[0mconfig\u001b[0m\u001b[0;34m[\u001b[0m\u001b[0;34m\"connector\"\u001b[0m\u001b[0;34m]\u001b[0m \u001b[0;34m+\u001b[0m \u001b[0;34m'://'\u001b[0m \u001b[0;34m+\u001b[0m \u001b[0mconfig\u001b[0m\u001b[0;34m[\u001b[0m\u001b[0;34m\"user\"\u001b[0m\u001b[0;34m]\u001b[0m \u001b[0;34m+\u001b[0m \u001b[0;34m\":\"\u001b[0m \u001b[0;34m+\u001b[0m \u001b[0mpassword\u001b[0m \u001b[0;34m+\u001b[0m \u001b[0;34m\"@\"\u001b[0m \u001b[0;34m+\u001b[0m \u001b[0mconfig\u001b[0m\u001b[0;34m[\u001b[0m\u001b[0;34m\"host\"\u001b[0m\u001b[0;34m]\u001b[0m \u001b[0;34m+\u001b[0m \u001b[0;34m\":\"\u001b[0m \u001b[0;34m+\u001b[0m \u001b[0mconfig\u001b[0m\u001b[0;34m[\u001b[0m\u001b[0;34m\"port\"\u001b[0m\u001b[0;34m]\u001b[0m \u001b[0;34m+\u001b[0m \u001b[0;34m\"/\"\u001b[0m \u001b[0;34m+\u001b[0m \u001b[0mconfig\u001b[0m\u001b[0;34m[\u001b[0m\u001b[0;34m\"bdd\"\u001b[0m\u001b[0;34m]\u001b[0m\u001b[0;34m,\u001b[0m \u001b[0mecho\u001b[0m\u001b[0;34m=\u001b[0m\u001b[0;32mTrue\u001b[0m\u001b[0;34m)\u001b[0m\u001b[0;34m\u001b[0m\u001b[0;34m\u001b[0m\u001b[0m\n\u001b[0m",
      "\u001b[0;31mNameError\u001b[0m: name 'config' is not defined"
     ]
    }
   ],
   "source": [
    "# Connexion à la BDD\n",
    "engine = create_engine('mysql+' + config[\"connector\"] + '://' + config[\"user\"] + \":\" + password + \"@\" + config[\"host\"] + \":\" + config[\"port\"] + \"/\" + config[\"bdd\"], echo=True)"
   ]
  },
  {
   "cell_type": "code",
   "execution_count": null,
   "metadata": {},
   "outputs": [],
   "source": []
  },
  {
   "cell_type": "code",
   "execution_count": null,
   "metadata": {},
   "outputs": [],
   "source": []
  },
  {
   "cell_type": "code",
   "execution_count": null,
   "metadata": {},
   "outputs": [],
   "source": []
  },
  {
   "cell_type": "code",
   "execution_count": null,
   "metadata": {},
   "outputs": [],
   "source": []
  },
  {
   "cell_type": "code",
   "execution_count": null,
   "metadata": {},
   "outputs": [],
   "source": []
  },
  {
   "cell_type": "code",
   "execution_count": 50,
   "metadata": {},
   "outputs": [
    {
     "ename": "NameError",
     "evalue": "name 'logement_par_catégorie' is not defined",
     "output_type": "error",
     "traceback": [
      "\u001b[0;31m---------------------------------------------------------------------------\u001b[0m",
      "\u001b[0;31mNameError\u001b[0m                                 Traceback (most recent call last)",
      "\u001b[0;32m<ipython-input-50-355d13daf5a0>\u001b[0m in \u001b[0;36m<module>\u001b[0;34m\u001b[0m\n\u001b[0;32m----> 1\u001b[0;31m \u001b[0;32mfor\u001b[0m \u001b[0mi\u001b[0m \u001b[0;32min\u001b[0m \u001b[0mlogement_par_catégorie\u001b[0m\u001b[0;34m.\u001b[0m\u001b[0mindex\u001b[0m\u001b[0;34m:\u001b[0m\u001b[0;34m\u001b[0m\u001b[0;34m\u001b[0m\u001b[0m\n\u001b[0m\u001b[1;32m      2\u001b[0m     \u001b[0;32mfor\u001b[0m \u001b[0mj\u001b[0m \u001b[0;32min\u001b[0m \u001b[0mlogement_par_catégorie\u001b[0m\u001b[0;34m.\u001b[0m\u001b[0mcolumns\u001b[0m\u001b[0;34m[\u001b[0m\u001b[0;36m2\u001b[0m\u001b[0;34m:\u001b[0m\u001b[0;34m]\u001b[0m\u001b[0;34m:\u001b[0m\u001b[0;34m\u001b[0m\u001b[0;34m\u001b[0m\u001b[0m\n\u001b[1;32m      3\u001b[0m         \u001b[0mprint\u001b[0m\u001b[0;34m(\u001b[0m\u001b[0;34m\"le chiffre est :   \"\u001b[0m\u001b[0;34m,\u001b[0m \u001b[0mlogement_par_catégorie\u001b[0m\u001b[0;34m.\u001b[0m\u001b[0miloc\u001b[0m\u001b[0;34m[\u001b[0m\u001b[0mi\u001b[0m\u001b[0;34m]\u001b[0m\u001b[0;34m[\u001b[0m\u001b[0mj\u001b[0m\u001b[0;34m]\u001b[0m\u001b[0;34m,\u001b[0m\u001b[0;34m\";\\tla logement_par_catégorie est :\"\u001b[0m\u001b[0;34m,\u001b[0m \u001b[0mi\u001b[0m\u001b[0;34m,\u001b[0m\u001b[0;34m\";\\t la ville est :\"\u001b[0m\u001b[0;34m,\u001b[0m \u001b[0mstr\u001b[0m\u001b[0;34m(\u001b[0m\u001b[0mj\u001b[0m\u001b[0;34m)\u001b[0m\u001b[0;34m)\u001b[0m\u001b[0;34m\u001b[0m\u001b[0;34m\u001b[0m\u001b[0m\n",
      "\u001b[0;31mNameError\u001b[0m: name 'logement_par_catégorie' is not defined"
     ]
    }
   ],
   "source": [
    "for i in logement_par_catégorie.index:\n",
    "    for j in logement_par_catégorie.columns[2:]:\n",
    "        print(\"le chiffre est :   \", logement_par_catégorie.iloc[i][j],\";\\tla logement_par_catégorie est :\", i,\";\\t la ville est :\", str(j))"
   ]
  },
  {
   "cell_type": "code",
   "execution_count": 51,
   "metadata": {},
   "outputs": [
    {
     "ename": "NameError",
     "evalue": "name 'logement_par_catégorie' is not defined",
     "output_type": "error",
     "traceback": [
      "\u001b[0;31m---------------------------------------------------------------------------\u001b[0m",
      "\u001b[0;31mNameError\u001b[0m                                 Traceback (most recent call last)",
      "\u001b[0;32m<ipython-input-51-355d13daf5a0>\u001b[0m in \u001b[0;36m<module>\u001b[0;34m\u001b[0m\n\u001b[0;32m----> 1\u001b[0;31m \u001b[0;32mfor\u001b[0m \u001b[0mi\u001b[0m \u001b[0;32min\u001b[0m \u001b[0mlogement_par_catégorie\u001b[0m\u001b[0;34m.\u001b[0m\u001b[0mindex\u001b[0m\u001b[0;34m:\u001b[0m\u001b[0;34m\u001b[0m\u001b[0;34m\u001b[0m\u001b[0m\n\u001b[0m\u001b[1;32m      2\u001b[0m     \u001b[0;32mfor\u001b[0m \u001b[0mj\u001b[0m \u001b[0;32min\u001b[0m \u001b[0mlogement_par_catégorie\u001b[0m\u001b[0;34m.\u001b[0m\u001b[0mcolumns\u001b[0m\u001b[0;34m[\u001b[0m\u001b[0;36m2\u001b[0m\u001b[0;34m:\u001b[0m\u001b[0;34m]\u001b[0m\u001b[0;34m:\u001b[0m\u001b[0;34m\u001b[0m\u001b[0;34m\u001b[0m\u001b[0m\n\u001b[1;32m      3\u001b[0m         \u001b[0mprint\u001b[0m\u001b[0;34m(\u001b[0m\u001b[0;34m\"le chiffre est :   \"\u001b[0m\u001b[0;34m,\u001b[0m \u001b[0mlogement_par_catégorie\u001b[0m\u001b[0;34m.\u001b[0m\u001b[0miloc\u001b[0m\u001b[0;34m[\u001b[0m\u001b[0mi\u001b[0m\u001b[0;34m]\u001b[0m\u001b[0;34m[\u001b[0m\u001b[0mj\u001b[0m\u001b[0;34m]\u001b[0m\u001b[0;34m,\u001b[0m\u001b[0;34m\";\\tla logement_par_catégorie est :\"\u001b[0m\u001b[0;34m,\u001b[0m \u001b[0mi\u001b[0m\u001b[0;34m,\u001b[0m\u001b[0;34m\";\\t la ville est :\"\u001b[0m\u001b[0;34m,\u001b[0m \u001b[0mstr\u001b[0m\u001b[0;34m(\u001b[0m\u001b[0mj\u001b[0m\u001b[0;34m)\u001b[0m\u001b[0;34m)\u001b[0m\u001b[0;34m\u001b[0m\u001b[0;34m\u001b[0m\u001b[0m\n",
      "\u001b[0;31mNameError\u001b[0m: name 'logement_par_catégorie' is not defined"
     ]
    }
   ],
   "source": [
    "for i in logement_par_catégorie.index:\n",
    "    for j in logement_par_catégorie.columns[2:]:\n",
    "        print(\"le chiffre est :   \", logement_par_catégorie.iloc[i][j],\";\\tla logement_par_catégorie est :\", i,\";\\t la ville est :\", str(j))"
   ]
  },
  {
   "cell_type": "code",
   "execution_count": null,
   "metadata": {},
   "outputs": [],
   "source": []
  },
  {
   "cell_type": "code",
   "execution_count": null,
   "metadata": {},
   "outputs": [],
   "source": []
  },
  {
   "cell_type": "code",
   "execution_count": null,
   "metadata": {},
   "outputs": [],
   "source": []
  },
  {
   "cell_type": "code",
   "execution_count": null,
   "metadata": {},
   "outputs": [],
   "source": []
  },
  {
   "cell_type": "code",
   "execution_count": null,
   "metadata": {},
   "outputs": [],
   "source": []
  },
  {
   "cell_type": "code",
   "execution_count": null,
   "metadata": {},
   "outputs": [],
   "source": []
  },
  {
   "cell_type": "code",
   "execution_count": null,
   "metadata": {},
   "outputs": [],
   "source": []
  },
  {
   "cell_type": "code",
   "execution_count": null,
   "metadata": {},
   "outputs": [],
   "source": []
  },
  {
   "cell_type": "markdown",
   "metadata": {},
   "source": [
    "___"
   ]
  },
  {
   "cell_type": "code",
   "execution_count": null,
   "metadata": {},
   "outputs": [],
   "source": []
  },
  {
   "cell_type": "code",
   "execution_count": null,
   "metadata": {},
   "outputs": [],
   "source": []
  },
  {
   "cell_type": "code",
   "execution_count": null,
   "metadata": {},
   "outputs": [],
   "source": []
  },
  {
   "cell_type": "code",
   "execution_count": null,
   "metadata": {},
   "outputs": [],
   "source": []
  },
  {
   "cell_type": "code",
   "execution_count": null,
   "metadata": {},
   "outputs": [],
   "source": []
  },
  {
   "cell_type": "code",
   "execution_count": null,
   "metadata": {},
   "outputs": [],
   "source": []
  },
  {
   "cell_type": "code",
   "execution_count": null,
   "metadata": {},
   "outputs": [],
   "source": []
  },
  {
   "cell_type": "code",
   "execution_count": null,
   "metadata": {},
   "outputs": [],
   "source": []
  },
  {
   "cell_type": "code",
   "execution_count": null,
   "metadata": {},
   "outputs": [],
   "source": []
  },
  {
   "cell_type": "code",
   "execution_count": 33,
   "metadata": {},
   "outputs": [
    {
     "name": "stdout",
     "output_type": "stream",
     "text": [
      "2020-11-30 10:29:46,206 INFO sqlalchemy.engine.base.Engine SHOW VARIABLES LIKE 'sql_mode'\n",
      "2020-11-30 10:29:46,207 INFO sqlalchemy.engine.base.Engine {}\n",
      "2020-11-30 10:29:46,252 INFO sqlalchemy.engine.base.Engine SHOW VARIABLES LIKE 'lower_case_table_names'\n",
      "2020-11-30 10:29:46,253 INFO sqlalchemy.engine.base.Engine {}\n",
      "2020-11-30 10:29:46,257 INFO sqlalchemy.engine.base.Engine SELECT DATABASE()\n",
      "2020-11-30 10:29:46,259 INFO sqlalchemy.engine.base.Engine {}\n",
      "2020-11-30 10:29:46,263 INFO sqlalchemy.engine.base.Engine show collation where `Charset` = 'utf8mb4' and `Collation` = 'utf8mb4_bin'\n",
      "2020-11-30 10:29:46,264 INFO sqlalchemy.engine.base.Engine {}\n",
      "2020-11-30 10:29:46,274 INFO sqlalchemy.engine.base.Engine SELECT CAST('test plain returns' AS CHAR(60)) AS anon_1\n",
      "2020-11-30 10:29:46,275 INFO sqlalchemy.engine.base.Engine {}\n",
      "2020-11-30 10:29:46,279 INFO sqlalchemy.engine.base.Engine SELECT CAST('test unicode returns' AS CHAR(60)) AS anon_1\n",
      "2020-11-30 10:29:46,280 INFO sqlalchemy.engine.base.Engine {}\n",
      "2020-11-30 10:29:46,284 INFO sqlalchemy.engine.base.Engine SELECT CAST('test collated returns' AS CHAR CHARACTER SET utf8mb4) COLLATE utf8mb4_bin AS anon_1\n",
      "2020-11-30 10:29:46,285 INFO sqlalchemy.engine.base.Engine {}\n",
      "2020-11-30 10:29:46,291 INFO sqlalchemy.engine.base.Engine select * from catalogue;\n",
      "2020-11-30 10:29:46,295 INFO sqlalchemy.engine.base.Engine {}\n"
     ]
    }
   ],
   "source": [
    "Table_Directors = pd.read_sql_query(\"select * from catalogue;\", engine)"
   ]
  },
  {
   "cell_type": "code",
   "execution_count": 34,
   "metadata": {},
   "outputs": [
    {
     "data": {
      "text/html": [
       "<div>\n",
       "<style scoped>\n",
       "    .dataframe tbody tr th:only-of-type {\n",
       "        vertical-align: middle;\n",
       "    }\n",
       "\n",
       "    .dataframe tbody tr th {\n",
       "        vertical-align: top;\n",
       "    }\n",
       "\n",
       "    .dataframe thead th {\n",
       "        text-align: right;\n",
       "    }\n",
       "</style>\n",
       "<table border=\"1\" class=\"dataframe\">\n",
       "  <thead>\n",
       "    <tr style=\"text-align: right;\">\n",
       "      <th></th>\n",
       "      <th>show_id</th>\n",
       "      <th>type</th>\n",
       "      <th>title</th>\n",
       "      <th>date_added</th>\n",
       "      <th>release_year</th>\n",
       "      <th>rating</th>\n",
       "      <th>duration</th>\n",
       "      <th>description</th>\n",
       "    </tr>\n",
       "  </thead>\n",
       "  <tbody>\n",
       "    <tr>\n",
       "      <th>0</th>\n",
       "      <td>247747</td>\n",
       "      <td>Movie</td>\n",
       "      <td>Amar Akbar Anthony</td>\n",
       "      <td>December 31, 2019</td>\n",
       "      <td>2019-01-01</td>\n",
       "      <td>TV-14</td>\n",
       "      <td>172</td>\n",
       "      <td>Abandoned in a park by their father, Amar, Akb...</td>\n",
       "    </tr>\n",
       "    <tr>\n",
       "      <th>1</th>\n",
       "      <td>269880</td>\n",
       "      <td>Movie</td>\n",
       "      <td>Bad Boys</td>\n",
       "      <td>October 1, 2019</td>\n",
       "      <td>2016-01-01</td>\n",
       "      <td>R</td>\n",
       "      <td>119</td>\n",
       "      <td>In this fast-paced actioner, two Miami narcoti...</td>\n",
       "    </tr>\n",
       "    <tr>\n",
       "      <th>...</th>\n",
       "      <td>...</td>\n",
       "      <td>...</td>\n",
       "      <td>...</td>\n",
       "      <td>...</td>\n",
       "      <td>...</td>\n",
       "      <td>...</td>\n",
       "      <td>...</td>\n",
       "      <td>...</td>\n",
       "    </tr>\n",
       "    <tr>\n",
       "      <th>6232</th>\n",
       "      <td>81235603</td>\n",
       "      <td>TV Show</td>\n",
       "      <td>Sym-Bionic Titan</td>\n",
       "      <td>December 15, 2019</td>\n",
       "      <td>2013-01-01</td>\n",
       "      <td>TV-PG</td>\n",
       "      <td>1</td>\n",
       "      <td>Aliens fleeing their planet land on Earth, pos...</td>\n",
       "    </tr>\n",
       "    <tr>\n",
       "      <th>6233</th>\n",
       "      <td>81235729</td>\n",
       "      <td>Movie</td>\n",
       "      <td>Jezebel</td>\n",
       "      <td>January 16, 2020</td>\n",
       "      <td>2003-01-01</td>\n",
       "      <td>TV-MA</td>\n",
       "      <td>86</td>\n",
       "      <td>During the internet's infancy, a vulnerable wo...</td>\n",
       "    </tr>\n",
       "  </tbody>\n",
       "</table>\n",
       "<p>6234 rows × 8 columns</p>\n",
       "</div>"
      ],
      "text/plain": [
       "       show_id     type               title         date_added release_year  \\\n",
       "0       247747    Movie  Amar Akbar Anthony  December 31, 2019   2019-01-01   \n",
       "1       269880    Movie            Bad Boys    October 1, 2019   2016-01-01   \n",
       "...        ...      ...                 ...                ...          ...   \n",
       "6232  81235603  TV Show    Sym-Bionic Titan  December 15, 2019   2013-01-01   \n",
       "6233  81235729    Movie             Jezebel   January 16, 2020   2003-01-01   \n",
       "\n",
       "     rating  duration                                        description  \n",
       "0     TV-14       172  Abandoned in a park by their father, Amar, Akb...  \n",
       "1         R       119  In this fast-paced actioner, two Miami narcoti...  \n",
       "...     ...       ...                                                ...  \n",
       "6232  TV-PG         1  Aliens fleeing their planet land on Earth, pos...  \n",
       "6233  TV-MA        86  During the internet's infancy, a vulnerable wo...  \n",
       "\n",
       "[6234 rows x 8 columns]"
      ]
     },
     "execution_count": 34,
     "metadata": {},
     "output_type": "execute_result"
    }
   ],
   "source": [
    "Table_Directors"
   ]
  },
  {
   "cell_type": "code",
   "execution_count": 35,
   "metadata": {},
   "outputs": [
    {
     "data": {
      "text/plain": [
       "'/Users/a0000/Desktop/Cliink_2/src'"
      ]
     },
     "execution_count": 35,
     "metadata": {},
     "output_type": "execute_result"
    }
   ],
   "source": [
    "pwd"
   ]
  }
 ],
 "metadata": {
  "kernelspec": {
   "display_name": "Python 3",
   "language": "python",
   "name": "python3"
  },
  "language_info": {
   "codemirror_mode": {
    "name": "ipython",
    "version": 3
   },
   "file_extension": ".py",
   "mimetype": "text/x-python",
   "name": "python",
   "nbconvert_exporter": "python",
   "pygments_lexer": "ipython3",
   "version": "3.7.6"
  }
 },
 "nbformat": 4,
 "nbformat_minor": 4
}
