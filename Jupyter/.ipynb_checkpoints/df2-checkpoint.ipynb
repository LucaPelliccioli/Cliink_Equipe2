{
 "cells": [
  {
   "cell_type": "markdown",
   "metadata": {},
   "source": [
    "---"
   ]
  },
  {
   "cell_type": "markdown",
   "metadata": {},
   "source": [
    "# <p style=\"font-family: serif; font-size:2.2em; text-align: center;\"><u>Analyse des jeux de données data</u></p> "
   ]
  },
  {
   "cell_type": "markdown",
   "metadata": {},
   "source": [
    "Ce lien donne accès au dossier où sont stockés tout les csv utilisés pour le projet [ici](../Data)\n",
    "\n",
    "Ce lien vous donne accès au site de l'INSEE où les données ont été collectés [ici](https://www.insee.fr/fr/accueil)"
   ]
  },
  {
   "cell_type": "markdown",
   "metadata": {},
   "source": [
    "---"
   ]
  },
  {
   "cell_type": "markdown",
   "metadata": {},
   "source": [
    "# Présentation projet Cliiink2"
   ]
  },
  {
   "cell_type": "markdown",
   "metadata": {},
   "source": [
    "Dans la continuité du projet Cliiink, nous avons cherché de nouveaux jeux de données afin qu'une analyse socio-démographique puisse etre établie en fonction de chacune des villes de l'agglomération.\n",
    "\n",
    "Nous avons repris les données de la population par ville, et nous les avons confrontés avec d'autres facteurs sociaux tels que les catégories socio-professionnelles ou le type de logement par ville. \n",
    "L'idée étant de comparer ces différents critères sociaux afin de faire ressortir un compte rendu par ville, et de comparer le tout avec le premier projet CLiiink. \n",
    "Cette conmparaison nous a permit de mettre en valeur la production plus ou moins importante de déchets selon la ville, en fonction de la catégorie initiallement étudiée.\n",
    "\n",
    "Les données collectées proviennent majoritairement de l'Institut National de la Statistique et des Etudes Economiques.\n",
    "À noter que l'INSEE établit ses études par cycle d'année. A titre d'exmple, la dernière étude menée pour établir la démographie de la population des villes de l'agglomération a été faite en 2017. Il s'agit donc du dernier jeu de données disponible et publié par l'organisme.\n",
    "\n",
    "Pour des raisons de pratiques, nous modifions l'affichage d'origine des csv en indiquant les colonnes et les lignes qui nous intéresse. Nous pouvons ainsi focaliser notre études en retenant uniquement les données utiles à notre projet.\n",
    "L'idée est d'afficher le résulat recherché de facon clair. L'INSEE étant un organisme publiant des données de niveau nationale, nous avons isolé du jeu de données uniquement les données qui nous intéresse, et les avons classés dans nos dataframes."
   ]
  },
  {
   "cell_type": "markdown",
   "metadata": {},
   "source": [
    "# Analyse des jeux de données data_sig_collecte"
   ]
  },
  {
   "cell_type": "markdown",
   "metadata": {},
   "source": [
    "Ce document analyse les jeux de données que nous sommes allé chercher auprès de l'INSEE et de Data Gouv.\n",
    "\n",
    "Il y a 4 jeux de données que nous avons utilisé :\n",
    "    \n",
    "* villes_data\n",
    "* etablissements.csv\n",
    "* naf2008_liste_n1\n",
    "* naf2008_5_niveaux"
   ]
  },
  {
   "cell_type": "markdown",
   "metadata": {},
   "source": [
    "### Importation des librairies"
   ]
  },
  {
   "cell_type": "code",
   "execution_count": 133,
   "metadata": {},
   "outputs": [],
   "source": [
    "import pandas as pd\n",
    "import json\n",
    "from sqlalchemy import create_engine\n",
    "from main import Bin_\n",
    "from dimension_df import dimension_df"
   ]
  },
  {
   "cell_type": "markdown",
   "metadata": {},
   "source": [
    "### Lecture dus fichiers"
   ]
  },
  {
   "cell_type": "code",
   "execution_count": 186,
   "metadata": {},
   "outputs": [
    {
     "name": "stderr",
     "output_type": "stream",
     "text": [
      "/home/simplon/anaconda3/lib/python3.7/site-packages/IPython/core/interactiveshell.py:3063: DtypeWarning: Columns (18,19,47,54,56,71) have mixed types.Specify dtype option on import or set low_memory=False.\n",
      "  interactivity=interactivity, compiler=compiler, result=result)\n"
     ]
    }
   ],
   "source": [
    "#data_villes = pd.read_csv(\"/Users/a0000/Desktop/Cliink_Equipe2/Data/villes_data.csv\", index_col= 0, sep=';', skiprows=0)\n",
    "#entreprises_par_sa = pd.read_csv(\"/Users/a0000/Desktop/Cliink_Equipe2/Data/villes_data.csv\", header=1 ,encoding=\"UTF-8\", sep=',', skiprows=list(range(0, 2)) + list(range(14, 245)), usecols=[i for i in range(12)])\n",
    "#entreprises_par_sa_ef = pd.read_csv(\"/Users/a0000/Desktop/Cliink_Equipe2/Data/villes_data.csv\", header=16 ,encoding=\"UTF-8\", sep=',', skiprows=list(range(15, 19)) + list(range(28, 245)), usecols=[i for i in range(31)])\n",
    "#année_2017 = pd.read_csv(\"/Users/a0000/Desktop/Cliink_Equipe2/Data/villes_data.csv\", header=30 ,encoding=\"UTF-8\", sep=',', skiprows=list(range(29, 34)) + list(range(37, 245)), usecols=[i for i in range(14)])\n",
    "#pop_age = pd.read_csv(\"/Users/a0000/Desktop/Cliink_Equipe2/Data/villes_data.csv\", header=39 ,encoding=\"UTF-8\", sep=',', skiprows=list(range(38, 41)) + list(range(50, 245)), usecols=[i for i in range(13)])\n",
    "#emploi_femme = pd.read_csv(\"/Users/a0000/Desktop/Cliink_Equipe2/Data/villes_data.csv\", header=145 ,encoding=\"UTF-8\", sep=',', skiprows=list(range(145, 150)) + list(range(161, 245)), usecols=[i for i in range(7)])\n",
    "#emploi_homme = pd.read_csv(\"/Users/a0000/Desktop/Cliink_Equipe2/Data/villes_data.csv\", header=162 ,encoding=\"UTF-8\", sep=',', skiprows=list(range(162, 167)) + list(range(178, 245)), usecols=[i for i in range(7)])\n",
    "#chomage_sexe = pd.read_csv(\"/Users/a0000/Desktop/Cliink_Equipe2/Data/villes_data.csv\", header=179 ,encoding=\"UTF-8\", sep=',', skiprows=list(range(179, 184)) + list(range(190, 245)), usecols=[i for i in range(7)])\n",
    "#taux_chomage_age = pd.read_csv(\"/Users/a0000/Desktop/Cliink_Equipe2/Data/villes_data.csv\", header=192 ,encoding=\"UTF-8\", sep=',', skiprows=list(range(191, 196)) + list(range(202, 245)), usecols=[i for i in range(13)])\n",
    "CSP_15_24 = pd.read_csv(\"../Data/villes_data.csv\", header=84 ,encoding=\"UTF-8\", sep=',', skiprows=list(range(83, 88)) + list(range(99, 245)), usecols=[i for i in range(6)])\n",
    "CSP_25_54 = pd.read_csv(\"../Data/villes_data.csv\", header=101 ,encoding=\"UTF-8\", sep=',', skiprows=list(range(100, 105)) + list(range(116, 245)), usecols=[i for i in range(6)])\n",
    "CSP_55_plus = pd.read_csv(\"../Data/villes_data.csv\", header=118 ,encoding=\"UTF-8\", sep=',', skiprows=list(range(117, 122)) + list(range(133, 245)), usecols=[i for i in range(6)])\n",
    "logement_par_catégorie = pd.read_csv(\"../Data/villes_data.csv\", header=220 ,encoding=\"UTF-8\", sep=',', skiprows=list(range(219, 224)) + list(range(230, 245)), usecols=[i for i in range(7)])\n",
    "entreprise_csv = pd.read_csv(\"../Data/etablissements.csv\")\n",
    "code_naf = pd.read_excel(\"../Data/naf2008_liste_n1.xls\", skiprows=list(range(0, 2)))\n",
    "naf_5 = pd.read_excel(\"../Data/naf2008_5_niveaux.xls\")\n",
    "\n",
    "# On importe le fichier json pour rendre anonyme l'entrée de nos données personnelles lors de la connexion avec la base de données \n",
    "fichierConfig = \"../Data/config.json\" \n",
    "with open(fichierConfig) as fichier:config = json.load(fichier)[\"mysql\"]\n",
    "    \n",
    "# On indique le nombre de lignes à afficher\n",
    "#pd.options.display.max_rows = 5"
   ]
  },
  {
   "cell_type": "markdown",
   "metadata": {},
   "source": [
    "---"
   ]
  },
  {
   "cell_type": "markdown",
   "metadata": {},
   "source": [
    "## Retour sur les décisons prises dans la sélection des csv"
   ]
  },
  {
   "cell_type": "markdown",
   "metadata": {},
   "source": [
    "Le csv \"data_villes\" n'a pas été retenu pour le projet car il concerne uniquement les données des entreprises fondées en l'année 2020. \n",
    "Or pour que notre étude soit plus pertinente, nous avons jugé judiciable de travailler sur l'ensemble des entreprises de l'agglomération, et non pas uniquement celles crée récemment.\n",
    "\n",
    "Après analyse de nos besoins, les csv suivants ne se sont pas révélés adéquats pour l'étude que l'on a voulu mené:\n",
    "\n",
    "* année_2017\n",
    "* pop_age\n",
    "* emploi_femme\n",
    "* emploi_homme\n",
    "* chomage_sexe\n",
    "* taux_chomage_age\n",
    "\n",
    "Par ailleurs, les csv \"entreprises_par_sa\" et \"entreprises_par_sa_ef\" ont été remplacés par le csv \"entreprise_csv\", plus complet et précis."
   ]
  },
  {
   "cell_type": "markdown",
   "metadata": {},
   "source": [
    "---"
   ]
  },
  {
   "cell_type": "markdown",
   "metadata": {},
   "source": [
    "# Jeu de données des CSP_15_24"
   ]
  },
  {
   "cell_type": "markdown",
   "metadata": {},
   "source": [
    "### Aperçu du fichier"
   ]
  },
  {
   "cell_type": "markdown",
   "metadata": {},
   "source": [
    "Il contient 6 variables que l'on pourra étudier :\n",
    "\n",
    "* catégorie\n",
    "* Mandelieu-La-Napoule\n",
    "* Mougins\n",
    "* Le Cannet\n",
    "* Cannes\n",
    "* Theoule-Sur-Mer"
   ]
  },
  {
   "cell_type": "code",
   "execution_count": 90,
   "metadata": {},
   "outputs": [
    {
     "data": {
      "text/html": [
       "<div>\n",
       "<style scoped>\n",
       "    .dataframe tbody tr th:only-of-type {\n",
       "        vertical-align: middle;\n",
       "    }\n",
       "\n",
       "    .dataframe tbody tr th {\n",
       "        vertical-align: top;\n",
       "    }\n",
       "\n",
       "    .dataframe thead th {\n",
       "        text-align: right;\n",
       "    }\n",
       "</style>\n",
       "<table border=\"1\" class=\"dataframe\">\n",
       "  <thead>\n",
       "    <tr style=\"text-align: right;\">\n",
       "      <th></th>\n",
       "      <th>Catégorie</th>\n",
       "      <th>Mandelieu-La-Napoule</th>\n",
       "      <th>Mougins</th>\n",
       "      <th>Le Cannet</th>\n",
       "      <th>Cannes</th>\n",
       "      <th>Theoule-Sur-Mer</th>\n",
       "    </tr>\n",
       "  </thead>\n",
       "  <tbody>\n",
       "    <tr>\n",
       "      <th>0</th>\n",
       "      <td>Agriculteurs exploitants</td>\n",
       "      <td>0</td>\n",
       "      <td>0</td>\n",
       "      <td>0</td>\n",
       "      <td>0</td>\n",
       "      <td>0</td>\n",
       "    </tr>\n",
       "    <tr>\n",
       "      <th>1</th>\n",
       "      <td>Artisans. commerçants. chefs entreprise</td>\n",
       "      <td>16</td>\n",
       "      <td>34</td>\n",
       "      <td>26</td>\n",
       "      <td>40</td>\n",
       "      <td>5</td>\n",
       "    </tr>\n",
       "    <tr>\n",
       "      <th>2</th>\n",
       "      <td>Cadres et professions intellectuelles supérieures</td>\n",
       "      <td>37</td>\n",
       "      <td>44</td>\n",
       "      <td>24</td>\n",
       "      <td>72</td>\n",
       "      <td>10</td>\n",
       "    </tr>\n",
       "    <tr>\n",
       "      <th>3</th>\n",
       "      <td>Professions intermédiaires</td>\n",
       "      <td>238</td>\n",
       "      <td>114</td>\n",
       "      <td>328</td>\n",
       "      <td>477</td>\n",
       "      <td>16</td>\n",
       "    </tr>\n",
       "    <tr>\n",
       "      <th>4</th>\n",
       "      <td>Employés</td>\n",
       "      <td>510</td>\n",
       "      <td>241</td>\n",
       "      <td>761</td>\n",
       "      <td>1324</td>\n",
       "      <td>16</td>\n",
       "    </tr>\n",
       "    <tr>\n",
       "      <th>5</th>\n",
       "      <td>Ouvriers</td>\n",
       "      <td>192</td>\n",
       "      <td>182</td>\n",
       "      <td>395</td>\n",
       "      <td>717</td>\n",
       "      <td>5</td>\n",
       "    </tr>\n",
       "    <tr>\n",
       "      <th>6</th>\n",
       "      <td>Retraités</td>\n",
       "      <td>0</td>\n",
       "      <td>0</td>\n",
       "      <td>0</td>\n",
       "      <td>0</td>\n",
       "      <td>0</td>\n",
       "    </tr>\n",
       "    <tr>\n",
       "      <th>7</th>\n",
       "      <td>Autres personnes sans activité professionnelle</td>\n",
       "      <td>1000</td>\n",
       "      <td>1049</td>\n",
       "      <td>2128</td>\n",
       "      <td>4519</td>\n",
       "      <td>63</td>\n",
       "    </tr>\n",
       "    <tr>\n",
       "      <th>8</th>\n",
       "      <td>Total</td>\n",
       "      <td>1993</td>\n",
       "      <td>1664</td>\n",
       "      <td>3662</td>\n",
       "      <td>7149</td>\n",
       "      <td>115</td>\n",
       "    </tr>\n",
       "  </tbody>\n",
       "</table>\n",
       "</div>"
      ],
      "text/plain": [
       "                                           Catégorie  Mandelieu-La-Napoule  \\\n",
       "0                           Agriculteurs exploitants                     0   \n",
       "1            Artisans. commerçants. chefs entreprise                    16   \n",
       "2  Cadres et professions intellectuelles supérieures                    37   \n",
       "3                         Professions intermédiaires                   238   \n",
       "4                                           Employés                   510   \n",
       "5                                           Ouvriers                   192   \n",
       "6                                          Retraités                     0   \n",
       "7     Autres personnes sans activité professionnelle                  1000   \n",
       "8                                              Total                  1993   \n",
       "\n",
       "   Mougins  Le Cannet  Cannes  Theoule-Sur-Mer  \n",
       "0        0          0       0                0  \n",
       "1       34         26      40                5  \n",
       "2       44         24      72               10  \n",
       "3      114        328     477               16  \n",
       "4      241        761    1324               16  \n",
       "5      182        395     717                5  \n",
       "6        0          0       0                0  \n",
       "7     1049       2128    4519               63  \n",
       "8     1664       3662    7149              115  "
      ]
     },
     "execution_count": 90,
     "metadata": {},
     "output_type": "execute_result"
    }
   ],
   "source": [
    "CSP_15_24"
   ]
  },
  {
   "cell_type": "markdown",
   "metadata": {},
   "source": [
    "### Dimension du jeu de données"
   ]
  },
  {
   "cell_type": "markdown",
   "metadata": {},
   "source": [
    "Le dataframe ci-dessus prend en compte les catégories des classes socio-professionnelles par ville. \n",
    "\n",
    "Afin de faire ressortir le nombre exact de catégorie et de les associer au nombre exact de colonne, nous allons supprimer la ligne \"Total\" qui ne nous est pas utile. De meme, nous ne retiendrons pas la colonne \"Catégorie\" mais uniquement les cinq colonnes présentant les statistiques des villes de l'agglomération."
   ]
  },
  {
   "cell_type": "code",
   "execution_count": 204,
   "metadata": {},
   "outputs": [
    {
     "name": "stdout",
     "output_type": "stream",
     "text": [
      "Le jeu de données recense 8 catégories socio-professionnels pour les 15-25ans des 5 villes de l'agglomération\n"
     ]
    }
   ],
   "source": [
    "print(\"Le jeu de données recense\", CSP_15_24.iloc[:-1].shape[0],\"catégories socio-professionnels pour les 15-25ans des\", CSP_15_24.iloc[:,1:].shape[1], \"villes de l'agglomération\")"
   ]
  },
  {
   "cell_type": "markdown",
   "metadata": {},
   "source": [
    "### Valeurs manquantes"
   ]
  },
  {
   "cell_type": "markdown",
   "metadata": {},
   "source": [
    "Le jeu de données est complet"
   ]
  },
  {
   "cell_type": "code",
   "execution_count": 5,
   "metadata": {},
   "outputs": [
    {
     "data": {
      "text/plain": [
       "Catégorie               0\n",
       "Mandelieu-La-Napoule    0\n",
       "Mougins                 0\n",
       "Le Cannet               0\n",
       "Cannes                  0\n",
       "Theoule-Sur-Mer         0\n",
       "dtype: int64"
      ]
     },
     "execution_count": 5,
     "metadata": {},
     "output_type": "execute_result"
    }
   ],
   "source": [
    "CSP_15_24.isna().sum()"
   ]
  },
  {
   "cell_type": "markdown",
   "metadata": {},
   "source": [
    "### Décompte des doublons"
   ]
  },
  {
   "cell_type": "code",
   "execution_count": 6,
   "metadata": {},
   "outputs": [
    {
     "data": {
      "text/plain": [
       "0"
      ]
     },
     "execution_count": 6,
     "metadata": {},
     "output_type": "execute_result"
    }
   ],
   "source": [
    "CSP_15_24.duplicated().sum()"
   ]
  },
  {
   "cell_type": "markdown",
   "metadata": {},
   "source": [
    "---"
   ]
  },
  {
   "cell_type": "markdown",
   "metadata": {},
   "source": [
    "# Jeu de données des CSP_25_54"
   ]
  },
  {
   "cell_type": "markdown",
   "metadata": {},
   "source": [
    "### Aperçu du fichier"
   ]
  },
  {
   "cell_type": "markdown",
   "metadata": {},
   "source": [
    "Il contient 6 variables que l'on pourra étudier :\n",
    "\n",
    "* catégorie\n",
    "* Mandelieu-La-Napoule\n",
    "* Mougins\n",
    "* Le Cannet\n",
    "* Cannes\n",
    "* Theoule-Sur-Mer"
   ]
  },
  {
   "cell_type": "code",
   "execution_count": 7,
   "metadata": {},
   "outputs": [
    {
     "data": {
      "text/html": [
       "<div>\n",
       "<style scoped>\n",
       "    .dataframe tbody tr th:only-of-type {\n",
       "        vertical-align: middle;\n",
       "    }\n",
       "\n",
       "    .dataframe tbody tr th {\n",
       "        vertical-align: top;\n",
       "    }\n",
       "\n",
       "    .dataframe thead th {\n",
       "        text-align: right;\n",
       "    }\n",
       "</style>\n",
       "<table border=\"1\" class=\"dataframe\">\n",
       "  <thead>\n",
       "    <tr style=\"text-align: right;\">\n",
       "      <th></th>\n",
       "      <th>Catégorie</th>\n",
       "      <th>Mandelieu-La-Napoule</th>\n",
       "      <th>Mougins</th>\n",
       "      <th>Le Cannet</th>\n",
       "      <th>Cannes</th>\n",
       "      <th>Théoule-Sur-Mer</th>\n",
       "    </tr>\n",
       "  </thead>\n",
       "  <tbody>\n",
       "    <tr>\n",
       "      <th>0</th>\n",
       "      <td>Agriculteurs exploitants</td>\n",
       "      <td>20</td>\n",
       "      <td>3</td>\n",
       "      <td>10</td>\n",
       "      <td>20</td>\n",
       "      <td>0</td>\n",
       "    </tr>\n",
       "    <tr>\n",
       "      <th>1</th>\n",
       "      <td>Artisans. commerçants. chefs entreprise</td>\n",
       "      <td>741</td>\n",
       "      <td>927</td>\n",
       "      <td>1225</td>\n",
       "      <td>2089</td>\n",
       "      <td>52</td>\n",
       "    </tr>\n",
       "    <tr>\n",
       "      <th>2</th>\n",
       "      <td>Cadres et professions intellectuelles supérieures</td>\n",
       "      <td>1199</td>\n",
       "      <td>1917</td>\n",
       "      <td>1836</td>\n",
       "      <td>2883</td>\n",
       "      <td>68</td>\n",
       "    </tr>\n",
       "    <tr>\n",
       "      <th>3</th>\n",
       "      <td>Professions intermédiaires</td>\n",
       "      <td>2073</td>\n",
       "      <td>1881</td>\n",
       "      <td>3332</td>\n",
       "      <td>4798</td>\n",
       "      <td>125</td>\n",
       "    </tr>\n",
       "    <tr>\n",
       "      <th>4</th>\n",
       "      <td>Employés</td>\n",
       "      <td>2355</td>\n",
       "      <td>1740</td>\n",
       "      <td>4388</td>\n",
       "      <td>7861</td>\n",
       "      <td>141</td>\n",
       "    </tr>\n",
       "    <tr>\n",
       "      <th>5</th>\n",
       "      <td>Ouvriers</td>\n",
       "      <td>1063</td>\n",
       "      <td>811</td>\n",
       "      <td>2367</td>\n",
       "      <td>3841</td>\n",
       "      <td>89</td>\n",
       "    </tr>\n",
       "    <tr>\n",
       "      <th>6</th>\n",
       "      <td>Retraités</td>\n",
       "      <td>25</td>\n",
       "      <td>20</td>\n",
       "      <td>82</td>\n",
       "      <td>78</td>\n",
       "      <td>0</td>\n",
       "    </tr>\n",
       "    <tr>\n",
       "      <th>7</th>\n",
       "      <td>Autres personnes sans activité professionnelle</td>\n",
       "      <td>597</td>\n",
       "      <td>642</td>\n",
       "      <td>1845</td>\n",
       "      <td>3619</td>\n",
       "      <td>22</td>\n",
       "    </tr>\n",
       "    <tr>\n",
       "      <th>8</th>\n",
       "      <td>Total</td>\n",
       "      <td>8073</td>\n",
       "      <td>7941</td>\n",
       "      <td>15085</td>\n",
       "      <td>25189</td>\n",
       "      <td>497</td>\n",
       "    </tr>\n",
       "  </tbody>\n",
       "</table>\n",
       "</div>"
      ],
      "text/plain": [
       "                                           Catégorie  Mandelieu-La-Napoule  \\\n",
       "0                           Agriculteurs exploitants                    20   \n",
       "1            Artisans. commerçants. chefs entreprise                   741   \n",
       "2  Cadres et professions intellectuelles supérieures                  1199   \n",
       "3                         Professions intermédiaires                  2073   \n",
       "4                                           Employés                  2355   \n",
       "5                                           Ouvriers                  1063   \n",
       "6                                          Retraités                    25   \n",
       "7     Autres personnes sans activité professionnelle                   597   \n",
       "8                                              Total                  8073   \n",
       "\n",
       "   Mougins  Le Cannet  Cannes  Théoule-Sur-Mer  \n",
       "0        3         10      20                0  \n",
       "1      927       1225    2089               52  \n",
       "2     1917       1836    2883               68  \n",
       "3     1881       3332    4798              125  \n",
       "4     1740       4388    7861              141  \n",
       "5      811       2367    3841               89  \n",
       "6       20         82      78                0  \n",
       "7      642       1845    3619               22  \n",
       "8     7941      15085   25189              497  "
      ]
     },
     "execution_count": 7,
     "metadata": {},
     "output_type": "execute_result"
    }
   ],
   "source": [
    "CSP_25_54"
   ]
  },
  {
   "cell_type": "markdown",
   "metadata": {},
   "source": [
    "### Dimension du jeu de données"
   ]
  },
  {
   "cell_type": "code",
   "execution_count": 205,
   "metadata": {},
   "outputs": [
    {
     "name": "stdout",
     "output_type": "stream",
     "text": [
      "Le jeu de données recense 8 catégories socio-professionnels pour les 25-54ans des 5 villes de l'agglomération\n"
     ]
    }
   ],
   "source": [
    "print(\"Le jeu de données recense\", CSP_15_24.iloc[:-1].shape[0],\"catégories socio-professionnels pour les 25-54ans des\", CSP_15_24.iloc[:,1:].shape[1], \"villes de l'agglomération\")"
   ]
  },
  {
   "cell_type": "markdown",
   "metadata": {},
   "source": [
    "### Valeurs manquantes"
   ]
  },
  {
   "cell_type": "markdown",
   "metadata": {},
   "source": [
    "Le jeu de données est complet"
   ]
  },
  {
   "cell_type": "code",
   "execution_count": 9,
   "metadata": {},
   "outputs": [
    {
     "data": {
      "text/plain": [
       "Catégorie               0\n",
       "Mandelieu-La-Napoule    0\n",
       "Mougins                 0\n",
       "Le Cannet               0\n",
       "Cannes                  0\n",
       "Théoule-Sur-Mer         0\n",
       "dtype: int64"
      ]
     },
     "execution_count": 9,
     "metadata": {},
     "output_type": "execute_result"
    }
   ],
   "source": [
    "CSP_25_54.isna().sum()"
   ]
  },
  {
   "cell_type": "markdown",
   "metadata": {},
   "source": [
    "### Décompte des doublons"
   ]
  },
  {
   "cell_type": "code",
   "execution_count": 10,
   "metadata": {},
   "outputs": [
    {
     "data": {
      "text/plain": [
       "0"
      ]
     },
     "execution_count": 10,
     "metadata": {},
     "output_type": "execute_result"
    }
   ],
   "source": [
    "CSP_25_54.duplicated().sum()"
   ]
  },
  {
   "cell_type": "markdown",
   "metadata": {},
   "source": [
    "---"
   ]
  },
  {
   "cell_type": "markdown",
   "metadata": {},
   "source": [
    "# Jeu de données des CSP_55_plus"
   ]
  },
  {
   "cell_type": "markdown",
   "metadata": {},
   "source": [
    "### Aperçu du fichier"
   ]
  },
  {
   "cell_type": "markdown",
   "metadata": {},
   "source": [
    "Il contient 6 variables que l'on pourra étudier :\n",
    "\n",
    "* catégorie\n",
    "* Mandelieu-La-Napoule\n",
    "* Mougins\n",
    "* Le Cannet\n",
    "* Cannes\n",
    "* Theoule-Sur-Mer"
   ]
  },
  {
   "cell_type": "code",
   "execution_count": 11,
   "metadata": {},
   "outputs": [
    {
     "data": {
      "text/html": [
       "<div>\n",
       "<style scoped>\n",
       "    .dataframe tbody tr th:only-of-type {\n",
       "        vertical-align: middle;\n",
       "    }\n",
       "\n",
       "    .dataframe tbody tr th {\n",
       "        vertical-align: top;\n",
       "    }\n",
       "\n",
       "    .dataframe thead th {\n",
       "        text-align: right;\n",
       "    }\n",
       "</style>\n",
       "<table border=\"1\" class=\"dataframe\">\n",
       "  <thead>\n",
       "    <tr style=\"text-align: right;\">\n",
       "      <th></th>\n",
       "      <th>Catégorie</th>\n",
       "      <th>Mandelieu-La-Napoule</th>\n",
       "      <th>Mougins</th>\n",
       "      <th>le Cannet</th>\n",
       "      <th>Cannes</th>\n",
       "      <th>Théoule-Sur-Mer</th>\n",
       "    </tr>\n",
       "  </thead>\n",
       "  <tbody>\n",
       "    <tr>\n",
       "      <th>0</th>\n",
       "      <td>Agriculteurs exploitants</td>\n",
       "      <td>3</td>\n",
       "      <td>12</td>\n",
       "      <td>5</td>\n",
       "      <td>18</td>\n",
       "      <td>5</td>\n",
       "    </tr>\n",
       "    <tr>\n",
       "      <th>1</th>\n",
       "      <td>Artisans. commerçants. chefs entreprise</td>\n",
       "      <td>285</td>\n",
       "      <td>344</td>\n",
       "      <td>532</td>\n",
       "      <td>923</td>\n",
       "      <td>21</td>\n",
       "    </tr>\n",
       "    <tr>\n",
       "      <th>2</th>\n",
       "      <td>Cadres et professions intellectuelles supérieures</td>\n",
       "      <td>285</td>\n",
       "      <td>504</td>\n",
       "      <td>533</td>\n",
       "      <td>919</td>\n",
       "      <td>31</td>\n",
       "    </tr>\n",
       "    <tr>\n",
       "      <th>3</th>\n",
       "      <td>Professions intermédiaires</td>\n",
       "      <td>452</td>\n",
       "      <td>375</td>\n",
       "      <td>857</td>\n",
       "      <td>1184</td>\n",
       "      <td>16</td>\n",
       "    </tr>\n",
       "    <tr>\n",
       "      <th>4</th>\n",
       "      <td>Employés</td>\n",
       "      <td>610</td>\n",
       "      <td>469</td>\n",
       "      <td>1187</td>\n",
       "      <td>2202</td>\n",
       "      <td>52</td>\n",
       "    </tr>\n",
       "    <tr>\n",
       "      <th>5</th>\n",
       "      <td>Ouvriers</td>\n",
       "      <td>208</td>\n",
       "      <td>151</td>\n",
       "      <td>514</td>\n",
       "      <td>935</td>\n",
       "      <td>5</td>\n",
       "    </tr>\n",
       "    <tr>\n",
       "      <th>6</th>\n",
       "      <td>Retraités</td>\n",
       "      <td>6847</td>\n",
       "      <td>4248</td>\n",
       "      <td>12230</td>\n",
       "      <td>21987</td>\n",
       "      <td>429</td>\n",
       "    </tr>\n",
       "    <tr>\n",
       "      <th>7</th>\n",
       "      <td>Autres personnes sans activité professionnelle</td>\n",
       "      <td>615</td>\n",
       "      <td>504</td>\n",
       "      <td>1297</td>\n",
       "      <td>2993</td>\n",
       "      <td>64</td>\n",
       "    </tr>\n",
       "    <tr>\n",
       "      <th>8</th>\n",
       "      <td>Total</td>\n",
       "      <td>9305</td>\n",
       "      <td>6607</td>\n",
       "      <td>17155</td>\n",
       "      <td>31161</td>\n",
       "      <td>623</td>\n",
       "    </tr>\n",
       "  </tbody>\n",
       "</table>\n",
       "</div>"
      ],
      "text/plain": [
       "                                           Catégorie  Mandelieu-La-Napoule  \\\n",
       "0                           Agriculteurs exploitants                     3   \n",
       "1            Artisans. commerçants. chefs entreprise                   285   \n",
       "2  Cadres et professions intellectuelles supérieures                   285   \n",
       "3                         Professions intermédiaires                   452   \n",
       "4                                           Employés                   610   \n",
       "5                                           Ouvriers                   208   \n",
       "6                                          Retraités                  6847   \n",
       "7     Autres personnes sans activité professionnelle                   615   \n",
       "8                                              Total                  9305   \n",
       "\n",
       "   Mougins  le Cannet  Cannes  Théoule-Sur-Mer  \n",
       "0       12          5      18                5  \n",
       "1      344        532     923               21  \n",
       "2      504        533     919               31  \n",
       "3      375        857    1184               16  \n",
       "4      469       1187    2202               52  \n",
       "5      151        514     935                5  \n",
       "6     4248      12230   21987              429  \n",
       "7      504       1297    2993               64  \n",
       "8     6607      17155   31161              623  "
      ]
     },
     "execution_count": 11,
     "metadata": {},
     "output_type": "execute_result"
    }
   ],
   "source": [
    "CSP_55_plus"
   ]
  },
  {
   "cell_type": "markdown",
   "metadata": {},
   "source": [
    "### Dimension du jeu de données"
   ]
  },
  {
   "cell_type": "code",
   "execution_count": 222,
   "metadata": {},
   "outputs": [],
   "source": [
    "class dimension_df(object):\n",
    "    def __init__(self,df):\n",
    "        self.df = df\n",
    "        \n",
    "    def _analyse(self):\n",
    "        print(\"Le jeu de données recense\", \n",
    "              self.df.iloc[:-1].shape[0],\n",
    "              \"catégories catégories socio-professionnelles pour les 55 ans et plus des\", \n",
    "              self.df.iloc[:,1:].shape[1], \n",
    "              \"villes de l'agglomération\")"
   ]
  },
  {
   "cell_type": "code",
   "execution_count": 223,
   "metadata": {},
   "outputs": [
    {
     "name": "stdout",
     "output_type": "stream",
     "text": [
      "Le jeu de données recense 8 catégories catégories socio-professionnelles pour les 55 ans et plus des 5 villes de l'agglomération\n"
     ]
    }
   ],
   "source": [
    "class_csp_55 = dimension_df(CSP_55_plus)._analyse()"
   ]
  },
  {
   "cell_type": "markdown",
   "metadata": {},
   "source": [
    "### Valeurs manquantes"
   ]
  },
  {
   "cell_type": "markdown",
   "metadata": {},
   "source": [
    "Le jeu de données est complet"
   ]
  },
  {
   "cell_type": "code",
   "execution_count": 13,
   "metadata": {},
   "outputs": [
    {
     "data": {
      "text/plain": [
       "Catégorie               0\n",
       "Mandelieu-La-Napoule    0\n",
       "Mougins                 0\n",
       "le Cannet               0\n",
       "Cannes                  0\n",
       "Théoule-Sur-Mer         0\n",
       "dtype: int64"
      ]
     },
     "execution_count": 13,
     "metadata": {},
     "output_type": "execute_result"
    }
   ],
   "source": [
    "CSP_55_plus.isna().sum()"
   ]
  },
  {
   "cell_type": "markdown",
   "metadata": {},
   "source": [
    "### Décompte des doublons"
   ]
  },
  {
   "cell_type": "code",
   "execution_count": 14,
   "metadata": {},
   "outputs": [
    {
     "data": {
      "text/plain": [
       "0"
      ]
     },
     "execution_count": 14,
     "metadata": {},
     "output_type": "execute_result"
    }
   ],
   "source": [
    "CSP_55_plus.duplicated().sum()"
   ]
  },
  {
   "cell_type": "markdown",
   "metadata": {},
   "source": [
    "---"
   ]
  },
  {
   "cell_type": "markdown",
   "metadata": {},
   "source": [
    "# Jeu de données des logement_par_catégorie"
   ]
  },
  {
   "cell_type": "markdown",
   "metadata": {},
   "source": [
    "### Aperçu du fichier"
   ]
  },
  {
   "cell_type": "markdown",
   "metadata": {},
   "source": [
    "Il contient 7 variables que l'on pourra étudier :\n",
    "\n",
    "* catégorie\n",
    "* France\n",
    "* Mandelieu-La-Napoule\n",
    "* Mougins\n",
    "* Le Cannet\n",
    "* Cannes\n",
    "* Theoule-Sur-Mer"
   ]
  },
  {
   "cell_type": "code",
   "execution_count": 187,
   "metadata": {},
   "outputs": [
    {
     "data": {
      "text/html": [
       "<div>\n",
       "<style scoped>\n",
       "    .dataframe tbody tr th:only-of-type {\n",
       "        vertical-align: middle;\n",
       "    }\n",
       "\n",
       "    .dataframe tbody tr th {\n",
       "        vertical-align: top;\n",
       "    }\n",
       "\n",
       "    .dataframe thead th {\n",
       "        text-align: right;\n",
       "    }\n",
       "</style>\n",
       "<table border=\"1\" class=\"dataframe\">\n",
       "  <thead>\n",
       "    <tr style=\"text-align: right;\">\n",
       "      <th></th>\n",
       "      <th>Catégorie</th>\n",
       "      <th>France</th>\n",
       "      <th>Mandelieu-la-Napoule</th>\n",
       "      <th>Mougins</th>\n",
       "      <th>Le Cannet</th>\n",
       "      <th>Cannes</th>\n",
       "      <th>Théoule-sur-Mer</th>\n",
       "    </tr>\n",
       "  </thead>\n",
       "  <tbody>\n",
       "    <tr>\n",
       "      <th>0</th>\n",
       "      <td>Résidences principales</td>\n",
       "      <td>29479746</td>\n",
       "      <td>11339</td>\n",
       "      <td>8403</td>\n",
       "      <td>21276</td>\n",
       "      <td>37735</td>\n",
       "      <td>694</td>\n",
       "    </tr>\n",
       "    <tr>\n",
       "      <th>1</th>\n",
       "      <td>Résid. secondaires et log. occasionnels</td>\n",
       "      <td>3464523</td>\n",
       "      <td>8694</td>\n",
       "      <td>1983</td>\n",
       "      <td>4104</td>\n",
       "      <td>31433</td>\n",
       "      <td>2564</td>\n",
       "    </tr>\n",
       "    <tr>\n",
       "      <th>2</th>\n",
       "      <td>Logements vacants</td>\n",
       "      <td>2935447</td>\n",
       "      <td>1201</td>\n",
       "      <td>501</td>\n",
       "      <td>940</td>\n",
       "      <td>2096</td>\n",
       "      <td>77</td>\n",
       "    </tr>\n",
       "    <tr>\n",
       "      <th>3</th>\n",
       "      <td>Total</td>\n",
       "      <td>35879716</td>\n",
       "      <td>21234</td>\n",
       "      <td>10887</td>\n",
       "      <td>26320</td>\n",
       "      <td>71264</td>\n",
       "      <td>3335</td>\n",
       "    </tr>\n",
       "  </tbody>\n",
       "</table>\n",
       "</div>"
      ],
      "text/plain": [
       "                                 Catégorie    France  Mandelieu-la-Napoule  \\\n",
       "0                   Résidences principales  29479746                 11339   \n",
       "1  Résid. secondaires et log. occasionnels   3464523                  8694   \n",
       "2                        Logements vacants   2935447                  1201   \n",
       "3                                    Total  35879716                 21234   \n",
       "\n",
       "   Mougins  Le Cannet  Cannes  Théoule-sur-Mer  \n",
       "0     8403      21276   37735              694  \n",
       "1     1983       4104   31433             2564  \n",
       "2      501        940    2096               77  \n",
       "3    10887      26320   71264             3335  "
      ]
     },
     "execution_count": 187,
     "metadata": {},
     "output_type": "execute_result"
    }
   ],
   "source": [
    "logement_par_catégorie"
   ]
  },
  {
   "cell_type": "markdown",
   "metadata": {},
   "source": [
    "### Dimension du jeu de données"
   ]
  },
  {
   "cell_type": "code",
   "execution_count": 224,
   "metadata": {},
   "outputs": [],
   "source": [
    "class dimension_df():\n",
    "    def __init__(self,df):\n",
    "        self.df = df\n",
    "        \n",
    "    def _analyse(self):\n",
    "        print(\"Le jeu de données recense\", \n",
    "              self.df.iloc[:-1].shape[0],\n",
    "              \"catégories de logement pour les\", \n",
    "              self.df.iloc[:,2:].shape[1], \n",
    "              \"villes de l'agglomération\")"
   ]
  },
  {
   "cell_type": "code",
   "execution_count": 225,
   "metadata": {},
   "outputs": [
    {
     "name": "stdout",
     "output_type": "stream",
     "text": [
      "Le jeu de données recense 3 catégories de logement pour les 5 villes de l'agglomération\n"
     ]
    }
   ],
   "source": [
    "class_logement_categorie = dimension_df(logement_par_catégorie)._analyse() "
   ]
  },
  {
   "cell_type": "markdown",
   "metadata": {},
   "source": [
    "### Valeurs manquantes"
   ]
  },
  {
   "cell_type": "markdown",
   "metadata": {},
   "source": [
    "Le jeu de données est complet"
   ]
  },
  {
   "cell_type": "code",
   "execution_count": 17,
   "metadata": {},
   "outputs": [
    {
     "data": {
      "text/plain": [
       "Catégorie               0\n",
       "France                  0\n",
       "Mandelieu-la-Napoule    0\n",
       "Mougins                 0\n",
       "Le Cannet               0\n",
       "Cannes                  0\n",
       "Théoule-sur-Mer         0\n",
       "dtype: int64"
      ]
     },
     "execution_count": 17,
     "metadata": {},
     "output_type": "execute_result"
    }
   ],
   "source": [
    "logement_par_catégorie.isna().sum()"
   ]
  },
  {
   "cell_type": "markdown",
   "metadata": {},
   "source": [
    "### Décompte des doublons"
   ]
  },
  {
   "cell_type": "code",
   "execution_count": 18,
   "metadata": {},
   "outputs": [
    {
     "data": {
      "text/plain": [
       "0"
      ]
     },
     "execution_count": 18,
     "metadata": {},
     "output_type": "execute_result"
    }
   ],
   "source": [
    "logement_par_catégorie.duplicated().sum()"
   ]
  },
  {
   "cell_type": "markdown",
   "metadata": {},
   "source": [
    "---"
   ]
  },
  {
   "cell_type": "markdown",
   "metadata": {},
   "source": [
    "# Jeu de données des entreprise_csv"
   ]
  },
  {
   "cell_type": "markdown",
   "metadata": {},
   "source": [
    "### Aperçu du fichier"
   ]
  },
  {
   "cell_type": "markdown",
   "metadata": {},
   "source": [
    "Il contient 76 variables que l'on pourra étudier :\n",
    "\n",
    "* siren\n",
    "* nic\n",
    "* siret\n",
    "* statutDiffusionEtablissement\n",
    "* dateCreationEtablissement\n",
    "* trancheEffectifsEtablissement\n",
    "* anneeEffectifsEtablissement\n",
    "* activitePrincipaleRegistreMetiersEtablissement\n",
    "* dateDernierTraitementEtablissement\n",
    "* etablissementSiege\n",
    "* etatAdministratifUniteLegale\n",
    "* statutDiffusionUniteLegale\n",
    "* unitePurgeeUniteLegale\n",
    "* dateCreationUniteLegale\n",
    "* categorieJuridiqueUniteLegale \n",
    "* denominationUniteLegale\n",
    "* sigleUniteLegale\n",
    "* denominationUsuelle1UniteLegale\n",
    "* denominationUsuelle2UniteLegale\n",
    "* denominationUsuelle3UniteLegale\n",
    "* sexeUniteLegale\n",
    "* nomUniteLegale\n",
    "* nomUsageUniteLegale\n",
    "* prenom1UniteLegale\n",
    "* prenom2UniteLegale\n",
    "* prenom3UniteLegale\n",
    "* prenom4UniteLegale\n",
    "* prenomUsuelUniteLegale\n",
    "* pseudonymeUniteLegale\n",
    "* activitePrincipaleUniteLegale\n",
    "* nomenclatureActivitePrincipaleUniteLegale\n",
    "* identifiantAssociationUniteLegale\n",
    "* economieSocialeSolidaireUniteLegale\n",
    "* caractereEmployeurUniteLegale\n",
    "* trancheEffectifsUniteLegale\n",
    "* anneeEffectifsUniteLegale\n",
    "* nicSiegeUniteLegale\n",
    "* dateDernierTraitementUniteLegale\n",
    "* categorieEntreprise\n",
    "* anneeCategorieEntreprise\n",
    "* complementAdresseEtablissement\n",
    "* numeroVoieEtablissement\n",
    "* indiceRepetitionEtablissement\n",
    "* typeVoieEtablissement\n",
    "* libelleVoieEtablissement\n",
    "* codePostalEtablissement\n",
    "* libelleCommuneEtablissement\n",
    "* libelleCommuneEtrangerEtablissement\n",
    "* distributionSpecialeEtablissement\n",
    "* codeCommuneEtablissement\n",
    "* codeCedexEtablissement\n",
    "* libelleCedexEtablissement\n",
    "* codePaysEtrangerEtablissement\n",
    "* libellePaysEtrangerEtablissement\n",
    "* complementAdresse2Etablissement\n",
    "* numeroVoie2Etablissement\n",
    "* indiceRepetition2Etablissement\n",
    "* typeVoie2Etablissement\n",
    "* libelleVoie2Etablissement\n",
    "* codePostal2Etablissement\n",
    "* libelleCommune2Etablissement\n",
    "* libelleCommuneEtranger2Etablissement\n",
    "* distributionSpeciale2Etablissement\n",
    "* codeCommune2Etablissement\n",
    "* codeCedex2Etablissement\n",
    "* libelleCedex2Etablissement\n",
    "* codePaysEtranger2Etablissement\n",
    "* libellePaysEtranger2Etablissement\n",
    "* etatAdministratifEtablissement\n",
    "* enseigne1Etablissement\n",
    "* enseigne2Etablissement\n",
    "* enseigne3Etablissement\n",
    "* denominationUsuelleEtablissement\n",
    "* activitePrincipaleEtablissement\n",
    "* nomenclatureActivitePrincipaleEtablissement\n",
    "* caractereEmployeurEtablissement"
   ]
  },
  {
   "cell_type": "code",
   "execution_count": 208,
   "metadata": {},
   "outputs": [],
   "source": [
    "pd.options.display.max_rows = 5"
   ]
  },
  {
   "cell_type": "code",
   "execution_count": 209,
   "metadata": {},
   "outputs": [
    {
     "data": {
      "text/html": [
       "<div>\n",
       "<style scoped>\n",
       "    .dataframe tbody tr th:only-of-type {\n",
       "        vertical-align: middle;\n",
       "    }\n",
       "\n",
       "    .dataframe tbody tr th {\n",
       "        vertical-align: top;\n",
       "    }\n",
       "\n",
       "    .dataframe thead th {\n",
       "        text-align: right;\n",
       "    }\n",
       "</style>\n",
       "<table border=\"1\" class=\"dataframe\">\n",
       "  <thead>\n",
       "    <tr style=\"text-align: right;\">\n",
       "      <th></th>\n",
       "      <th>siren</th>\n",
       "      <th>nic</th>\n",
       "      <th>siret</th>\n",
       "      <th>statutDiffusionEtablissement</th>\n",
       "      <th>dateCreationEtablissement</th>\n",
       "      <th>trancheEffectifsEtablissement</th>\n",
       "      <th>anneeEffectifsEtablissement</th>\n",
       "      <th>activitePrincipaleRegistreMetiersEtablissement</th>\n",
       "      <th>dateDernierTraitementEtablissement</th>\n",
       "      <th>etablissementSiege</th>\n",
       "      <th>...</th>\n",
       "      <th>codePaysEtranger2Etablissement</th>\n",
       "      <th>libellePaysEtranger2Etablissement</th>\n",
       "      <th>etatAdministratifEtablissement</th>\n",
       "      <th>enseigne1Etablissement</th>\n",
       "      <th>enseigne2Etablissement</th>\n",
       "      <th>enseigne3Etablissement</th>\n",
       "      <th>denominationUsuelleEtablissement</th>\n",
       "      <th>activitePrincipaleEtablissement</th>\n",
       "      <th>nomenclatureActivitePrincipaleEtablissement</th>\n",
       "      <th>caractereEmployeurEtablissement</th>\n",
       "    </tr>\n",
       "  </thead>\n",
       "  <tbody>\n",
       "    <tr>\n",
       "      <th>0</th>\n",
       "      <td>6310965</td>\n",
       "      <td>22</td>\n",
       "      <td>631096500022</td>\n",
       "      <td>O</td>\n",
       "      <td>1982-08-10</td>\n",
       "      <td>NN</td>\n",
       "      <td>NaN</td>\n",
       "      <td>NaN</td>\n",
       "      <td>2019-11-14T14:00:15</td>\n",
       "      <td>True</td>\n",
       "      <td>...</td>\n",
       "      <td>NaN</td>\n",
       "      <td>NaN</td>\n",
       "      <td>A</td>\n",
       "      <td>NaN</td>\n",
       "      <td>NaN</td>\n",
       "      <td>NaN</td>\n",
       "      <td>NaN</td>\n",
       "      <td>68.20A</td>\n",
       "      <td>NAFRev2</td>\n",
       "      <td>N</td>\n",
       "    </tr>\n",
       "    <tr>\n",
       "      <th>1</th>\n",
       "      <td>15580079</td>\n",
       "      <td>34</td>\n",
       "      <td>1558007900034</td>\n",
       "      <td>O</td>\n",
       "      <td>2004-06-29</td>\n",
       "      <td>NN</td>\n",
       "      <td>NaN</td>\n",
       "      <td>NaN</td>\n",
       "      <td>2008-01-04T17:54:54</td>\n",
       "      <td>False</td>\n",
       "      <td>...</td>\n",
       "      <td>NaN</td>\n",
       "      <td>NaN</td>\n",
       "      <td>A</td>\n",
       "      <td>NaN</td>\n",
       "      <td>NaN</td>\n",
       "      <td>NaN</td>\n",
       "      <td>NaN</td>\n",
       "      <td>68.20B</td>\n",
       "      <td>NAFRev2</td>\n",
       "      <td>N</td>\n",
       "    </tr>\n",
       "    <tr>\n",
       "      <th>...</th>\n",
       "      <td>...</td>\n",
       "      <td>...</td>\n",
       "      <td>...</td>\n",
       "      <td>...</td>\n",
       "      <td>...</td>\n",
       "      <td>...</td>\n",
       "      <td>...</td>\n",
       "      <td>...</td>\n",
       "      <td>...</td>\n",
       "      <td>...</td>\n",
       "      <td>...</td>\n",
       "      <td>...</td>\n",
       "      <td>...</td>\n",
       "      <td>...</td>\n",
       "      <td>...</td>\n",
       "      <td>...</td>\n",
       "      <td>...</td>\n",
       "      <td>...</td>\n",
       "      <td>...</td>\n",
       "      <td>...</td>\n",
       "      <td>...</td>\n",
       "    </tr>\n",
       "    <tr>\n",
       "      <th>54640</th>\n",
       "      <td>998823504</td>\n",
       "      <td>24209</td>\n",
       "      <td>99882350424209</td>\n",
       "      <td>O</td>\n",
       "      <td>2006-01-01</td>\n",
       "      <td>NN</td>\n",
       "      <td>NaN</td>\n",
       "      <td>NaN</td>\n",
       "      <td>2018-10-22T19:02:51</td>\n",
       "      <td>False</td>\n",
       "      <td>...</td>\n",
       "      <td>NaN</td>\n",
       "      <td>NaN</td>\n",
       "      <td>A</td>\n",
       "      <td>ADECCO</td>\n",
       "      <td>NaN</td>\n",
       "      <td>NaN</td>\n",
       "      <td>NaN</td>\n",
       "      <td>78.20Z</td>\n",
       "      <td>NAFRev2</td>\n",
       "      <td>O</td>\n",
       "    </tr>\n",
       "    <tr>\n",
       "      <th>54641</th>\n",
       "      <td>998823504</td>\n",
       "      <td>32376</td>\n",
       "      <td>99882350432376</td>\n",
       "      <td>O</td>\n",
       "      <td>2017-12-15</td>\n",
       "      <td>NaN</td>\n",
       "      <td>NaN</td>\n",
       "      <td>NaN</td>\n",
       "      <td>2019-11-14T14:00:15</td>\n",
       "      <td>False</td>\n",
       "      <td>...</td>\n",
       "      <td>NaN</td>\n",
       "      <td>NaN</td>\n",
       "      <td>A</td>\n",
       "      <td>ADECCO</td>\n",
       "      <td>NaN</td>\n",
       "      <td>NaN</td>\n",
       "      <td>ADECCO FRANCE</td>\n",
       "      <td>78.20Z</td>\n",
       "      <td>NAFRev2</td>\n",
       "      <td>O</td>\n",
       "    </tr>\n",
       "  </tbody>\n",
       "</table>\n",
       "<p>54642 rows × 76 columns</p>\n",
       "</div>"
      ],
      "text/plain": [
       "           siren    nic           siret statutDiffusionEtablissement  \\\n",
       "0        6310965     22    631096500022                            O   \n",
       "1       15580079     34   1558007900034                            O   \n",
       "...          ...    ...             ...                          ...   \n",
       "54640  998823504  24209  99882350424209                            O   \n",
       "54641  998823504  32376  99882350432376                            O   \n",
       "\n",
       "      dateCreationEtablissement trancheEffectifsEtablissement  \\\n",
       "0                    1982-08-10                            NN   \n",
       "1                    2004-06-29                            NN   \n",
       "...                         ...                           ...   \n",
       "54640                2006-01-01                            NN   \n",
       "54641                2017-12-15                           NaN   \n",
       "\n",
       "       anneeEffectifsEtablissement  \\\n",
       "0                              NaN   \n",
       "1                              NaN   \n",
       "...                            ...   \n",
       "54640                          NaN   \n",
       "54641                          NaN   \n",
       "\n",
       "      activitePrincipaleRegistreMetiersEtablissement  \\\n",
       "0                                                NaN   \n",
       "1                                                NaN   \n",
       "...                                              ...   \n",
       "54640                                            NaN   \n",
       "54641                                            NaN   \n",
       "\n",
       "      dateDernierTraitementEtablissement  etablissementSiege  ...  \\\n",
       "0                    2019-11-14T14:00:15                True  ...   \n",
       "1                    2008-01-04T17:54:54               False  ...   \n",
       "...                                  ...                 ...  ...   \n",
       "54640                2018-10-22T19:02:51               False  ...   \n",
       "54641                2019-11-14T14:00:15               False  ...   \n",
       "\n",
       "      codePaysEtranger2Etablissement libellePaysEtranger2Etablissement  \\\n",
       "0                                NaN                               NaN   \n",
       "1                                NaN                               NaN   \n",
       "...                              ...                               ...   \n",
       "54640                            NaN                               NaN   \n",
       "54641                            NaN                               NaN   \n",
       "\n",
       "       etatAdministratifEtablissement enseigne1Etablissement  \\\n",
       "0                                   A                    NaN   \n",
       "1                                   A                    NaN   \n",
       "...                               ...                    ...   \n",
       "54640                               A                 ADECCO   \n",
       "54641                               A                 ADECCO   \n",
       "\n",
       "       enseigne2Etablissement enseigne3Etablissement  \\\n",
       "0                         NaN                    NaN   \n",
       "1                         NaN                    NaN   \n",
       "...                       ...                    ...   \n",
       "54640                     NaN                    NaN   \n",
       "54641                     NaN                    NaN   \n",
       "\n",
       "      denominationUsuelleEtablissement activitePrincipaleEtablissement  \\\n",
       "0                                  NaN                          68.20A   \n",
       "1                                  NaN                          68.20B   \n",
       "...                                ...                             ...   \n",
       "54640                              NaN                          78.20Z   \n",
       "54641                    ADECCO FRANCE                          78.20Z   \n",
       "\n",
       "      nomenclatureActivitePrincipaleEtablissement  \\\n",
       "0                                         NAFRev2   \n",
       "1                                         NAFRev2   \n",
       "...                                           ...   \n",
       "54640                                     NAFRev2   \n",
       "54641                                     NAFRev2   \n",
       "\n",
       "      caractereEmployeurEtablissement  \n",
       "0                                   N  \n",
       "1                                   N  \n",
       "...                               ...  \n",
       "54640                               O  \n",
       "54641                               O  \n",
       "\n",
       "[54642 rows x 76 columns]"
      ]
     },
     "execution_count": 209,
     "metadata": {},
     "output_type": "execute_result"
    }
   ],
   "source": [
    "entreprise_csv"
   ]
  },
  {
   "cell_type": "markdown",
   "metadata": {},
   "source": [
    "### Dimension du jeu de données"
   ]
  },
  {
   "cell_type": "code",
   "execution_count": 218,
   "metadata": {},
   "outputs": [],
   "source": [
    "class dimension_df():\n",
    "    def __init__(self,df):\n",
    "        self.df = df\n",
    "\n",
    "    def _analyse(self):\n",
    "        print(\"Le jeu de données recense\", \n",
    "              self.df.iloc[:-1].shape[0],\n",
    "              \"entreprises pour lesquelles sont référencées\", \n",
    "              self.df.iloc[:,:].shape[1], \n",
    "              \"types de données\")"
   ]
  },
  {
   "cell_type": "code",
   "execution_count": 219,
   "metadata": {},
   "outputs": [
    {
     "name": "stdout",
     "output_type": "stream",
     "text": [
      "Le jeu de données recense 54641 entreprises pour lesquelles sont référencées 76 types de données\n"
     ]
    }
   ],
   "source": [
    "class_entreprise = dimension_df(entreprise_csv)._analyse() "
   ]
  },
  {
   "cell_type": "markdown",
   "metadata": {},
   "source": [
    "### Valeurs manquantes"
   ]
  },
  {
   "cell_type": "markdown",
   "metadata": {},
   "source": [
    "Commencons par faire ressortir toutes les valeurs manquantes présentes dans le jeu de données des entreprises."
   ]
  },
  {
   "cell_type": "code",
   "execution_count": 176,
   "metadata": {},
   "outputs": [
    {
     "data": {
      "text/plain": [
       "siren                                                 0\n",
       "nic                                                   0\n",
       "siret                                                 0\n",
       "statutDiffusionEtablissement                          0\n",
       "dateCreationEtablissement                             0\n",
       "trancheEffectifsEtablissement                     34206\n",
       "anneeEffectifsEtablissement                       47234\n",
       "activitePrincipaleRegistreMetiersEtablissement    47905\n",
       "dateDernierTraitementEtablissement                    0\n",
       "etablissementSiege                                    0\n",
       "etatAdministratifUniteLegale                          0\n",
       "statutDiffusionUniteLegale                            0\n",
       "unitePurgeeUniteLegale                            54642\n",
       "dateCreationUniteLegale                               0\n",
       "categorieJuridiqueUniteLegale                         0\n",
       "denominationUniteLegale                           19193\n",
       "sigleUniteLegale                                  52624\n",
       "denominationUsuelle1UniteLegale                   51520\n",
       "denominationUsuelle2UniteLegale                   54636\n",
       "denominationUsuelle3UniteLegale                   54641\n",
       "sexeUniteLegale                                   35570\n",
       "nomUniteLegale                                    35449\n",
       "nomUsageUniteLegale                               52123\n",
       "prenom1UniteLegale                                35449\n",
       "prenom2UniteLegale                                48199\n",
       "prenom3UniteLegale                                52055\n",
       "prenom4UniteLegale                                54413\n",
       "prenomUsuelUniteLegale                            35449\n",
       "pseudonymeUniteLegale                             54588\n",
       "activitePrincipaleUniteLegale                         0\n",
       "nomenclatureActivitePrincipaleUniteLegale             0\n",
       "identifiantAssociationUniteLegale                 53464\n",
       "economieSocialeSolidaireUniteLegale               42814\n",
       "caractereEmployeurUniteLegale                         0\n",
       "trancheEffectifsUniteLegale                       28364\n",
       "anneeEffectifsUniteLegale                         45103\n",
       "nicSiegeUniteLegale                                   0\n",
       "dateDernierTraitementUniteLegale                      0\n",
       "categorieEntreprise                               20768\n",
       "anneeCategorieEntreprise                          20768\n",
       "complementAdresseEtablissement                    31969\n",
       "numeroVoieEtablissement                            3936\n",
       "indiceRepetitionEtablissement                     53517\n",
       "typeVoieEtablissement                              1329\n",
       "libelleVoieEtablissement                             13\n",
       "codePostalEtablissement                               0\n",
       "libelleCommuneEtablissement                           0\n",
       "libelleCommuneEtrangerEtablissement               54641\n",
       "distributionSpecialeEtablissement                 54164\n",
       "codeCommuneEtablissement                              0\n",
       "codeCedexEtablissement                            54467\n",
       "libelleCedexEtablissement                         54473\n",
       "codePaysEtrangerEtablissement                     54642\n",
       "libellePaysEtrangerEtablissement                  54642\n",
       "complementAdresse2Etablissement                   54633\n",
       "numeroVoie2Etablissement                          54576\n",
       "indiceRepetition2Etablissement                    54641\n",
       "typeVoie2Etablissement                            54554\n",
       "libelleVoie2Etablissement                         54554\n",
       "codePostal2Etablissement                          54554\n",
       "libelleCommune2Etablissement                      54554\n",
       "libelleCommuneEtranger2Etablissement              54642\n",
       "distributionSpeciale2Etablissement                54642\n",
       "codeCommune2Etablissement                         54554\n",
       "codeCedex2Etablissement                           54642\n",
       "libelleCedex2Etablissement                        54642\n",
       "codePaysEtranger2Etablissement                    54642\n",
       "libellePaysEtranger2Etablissement                 54642\n",
       "etatAdministratifEtablissement                        0\n",
       "enseigne1Etablissement                            49082\n",
       "enseigne2Etablissement                            54596\n",
       "enseigne3Etablissement                            54626\n",
       "denominationUsuelleEtablissement                  50283\n",
       "activitePrincipaleEtablissement                       0\n",
       "nomenclatureActivitePrincipaleEtablissement           0\n",
       "caractereEmployeurEtablissement                       1\n",
       "dtype: int64"
      ]
     },
     "execution_count": 176,
     "metadata": {},
     "output_type": "execute_result"
    }
   ],
   "source": [
    "pd.options.display.max_rows = None\n",
    "\n",
    "entreprise_csv.isna().sum()"
   ]
  },
  {
   "cell_type": "markdown",
   "metadata": {},
   "source": [
    "Nous allons maintenant récupérer de ce jeu de données uniquement les variables qui nous intéresse, et que nous allons utiliser pour notre projet.Pour cela nous placons chacune d'entre elles dans la liste ci-dessous."
   ]
  },
  {
   "cell_type": "code",
   "execution_count": 173,
   "metadata": {},
   "outputs": [],
   "source": [
    "liste_columns = [\"siren\", \"nic\", \"denominationUniteLegale\", \"activitePrincipaleEtablissement\",\n",
    "                \"numeroVoieEtablissement\", \"typeVoieEtablissement\", \"libelleVoieEtablissement\",\n",
    "                \"codePostalEtablissement\", \"libelleCommuneEtablissement\"]"
   ]
  },
  {
   "cell_type": "markdown",
   "metadata": {},
   "source": [
    "Nous allons faire ressortir le nombre de valeurs manquantes pour chacune des variables de cette liste."
   ]
  },
  {
   "cell_type": "code",
   "execution_count": 174,
   "metadata": {},
   "outputs": [],
   "source": [
    "def constat(df):\n",
    "    print(\"\\nOn constate qu'il manque :\")\n",
    "    [print(\"\\n - \"+str(df[i].isna().sum())+\" \"+i if i in liste_columns else \"\", end = \"\") for i in df.columns]"
   ]
  },
  {
   "cell_type": "code",
   "execution_count": 147,
   "metadata": {},
   "outputs": [
    {
     "name": "stdout",
     "output_type": "stream",
     "text": [
      "\n",
      "On constate qu'il manque :\n",
      "\n",
      " - 0 siren\n",
      " - 0 nic\n",
      " - 19193 denominationUniteLegale\n",
      " - 3936 numeroVoieEtablissement\n",
      " - 1329 typeVoieEtablissement\n",
      " - 13 libelleVoieEtablissement\n",
      " - 0 codePostalEtablissement\n",
      " - 0 libelleCommuneEtablissement\n",
      " - 0 activitePrincipaleEtablissement"
     ]
    }
   ],
   "source": [
    "constat(entreprise_csv)"
   ]
  },
  {
   "cell_type": "markdown",
   "metadata": {},
   "source": [
    "Nous constatons que les variables suivantes ont un jeu de données complet :\n",
    "\n",
    "* Siren\n",
    "* Nic\n",
    "* codePostalEtablissement\n",
    "* libelleCommuneEtablissement\n",
    "* activitePrincipaleEtablissement\n",
    "\n",
    "Alors que les suivantes sont incomplètes :\n",
    "    \n",
    "* denominationUniteLegale\n",
    "* numeroVoieEtablissement\n",
    "* typeVoieEtablissement\n",
    "* libelleVoieEtablissement\n",
    "\n",
    "Ces valeurs manquantes ne nous poseront pas de problème car nous allons utiliser le code Siren pour référencer les entreprises dans la base de données. Or, nous remarquons que la variable entreprise est complète. "
   ]
  },
  {
   "cell_type": "markdown",
   "metadata": {},
   "source": [
    "### Décompte des doublons"
   ]
  },
  {
   "cell_type": "code",
   "execution_count": 22,
   "metadata": {},
   "outputs": [
    {
     "data": {
      "text/plain": [
       "0"
      ]
     },
     "execution_count": 22,
     "metadata": {},
     "output_type": "execute_result"
    }
   ],
   "source": [
    "entreprise_csv.duplicated().sum()"
   ]
  },
  {
   "cell_type": "markdown",
   "metadata": {},
   "source": [
    "---"
   ]
  },
  {
   "cell_type": "markdown",
   "metadata": {},
   "source": [
    "# Jeu de données des code_naf"
   ]
  },
  {
   "cell_type": "markdown",
   "metadata": {},
   "source": [
    "### Aperçu du fichier"
   ]
  },
  {
   "cell_type": "markdown",
   "metadata": {},
   "source": [
    "Il contient 2 variables que l'on pourra étudier :\n",
    "\n",
    "* Code\n",
    "* Libellé"
   ]
  },
  {
   "cell_type": "code",
   "execution_count": 23,
   "metadata": {},
   "outputs": [
    {
     "data": {
      "text/html": [
       "<div>\n",
       "<style scoped>\n",
       "    .dataframe tbody tr th:only-of-type {\n",
       "        vertical-align: middle;\n",
       "    }\n",
       "\n",
       "    .dataframe tbody tr th {\n",
       "        vertical-align: top;\n",
       "    }\n",
       "\n",
       "    .dataframe thead th {\n",
       "        text-align: right;\n",
       "    }\n",
       "</style>\n",
       "<table border=\"1\" class=\"dataframe\">\n",
       "  <thead>\n",
       "    <tr style=\"text-align: right;\">\n",
       "      <th></th>\n",
       "      <th>Code</th>\n",
       "      <th>Libellé</th>\n",
       "    </tr>\n",
       "  </thead>\n",
       "  <tbody>\n",
       "    <tr>\n",
       "      <th>0</th>\n",
       "      <td>A</td>\n",
       "      <td>Agriculture, sylviculture et pêche</td>\n",
       "    </tr>\n",
       "    <tr>\n",
       "      <th>1</th>\n",
       "      <td>B</td>\n",
       "      <td>Industries extractives</td>\n",
       "    </tr>\n",
       "    <tr>\n",
       "      <th>2</th>\n",
       "      <td>C</td>\n",
       "      <td>Industrie manufacturière</td>\n",
       "    </tr>\n",
       "    <tr>\n",
       "      <th>3</th>\n",
       "      <td>D</td>\n",
       "      <td>Production et distribution d'électricité, de g...</td>\n",
       "    </tr>\n",
       "    <tr>\n",
       "      <th>4</th>\n",
       "      <td>E</td>\n",
       "      <td>Production et distribution d'eau ; assainissem...</td>\n",
       "    </tr>\n",
       "    <tr>\n",
       "      <th>5</th>\n",
       "      <td>F</td>\n",
       "      <td>Construction</td>\n",
       "    </tr>\n",
       "    <tr>\n",
       "      <th>6</th>\n",
       "      <td>G</td>\n",
       "      <td>Commerce ; réparation d'automobiles et de moto...</td>\n",
       "    </tr>\n",
       "    <tr>\n",
       "      <th>7</th>\n",
       "      <td>H</td>\n",
       "      <td>Transports et entreposage</td>\n",
       "    </tr>\n",
       "    <tr>\n",
       "      <th>8</th>\n",
       "      <td>I</td>\n",
       "      <td>Hébergement et restauration</td>\n",
       "    </tr>\n",
       "    <tr>\n",
       "      <th>9</th>\n",
       "      <td>J</td>\n",
       "      <td>Information et communication</td>\n",
       "    </tr>\n",
       "    <tr>\n",
       "      <th>10</th>\n",
       "      <td>K</td>\n",
       "      <td>Activités financières et d'assurance</td>\n",
       "    </tr>\n",
       "    <tr>\n",
       "      <th>11</th>\n",
       "      <td>L</td>\n",
       "      <td>Activités immobilières</td>\n",
       "    </tr>\n",
       "    <tr>\n",
       "      <th>12</th>\n",
       "      <td>M</td>\n",
       "      <td>Activités spécialisées, scientifiques et techn...</td>\n",
       "    </tr>\n",
       "    <tr>\n",
       "      <th>13</th>\n",
       "      <td>N</td>\n",
       "      <td>Activités de services administratifs et de sou...</td>\n",
       "    </tr>\n",
       "    <tr>\n",
       "      <th>14</th>\n",
       "      <td>O</td>\n",
       "      <td>Administration publique</td>\n",
       "    </tr>\n",
       "    <tr>\n",
       "      <th>15</th>\n",
       "      <td>P</td>\n",
       "      <td>Enseignement</td>\n",
       "    </tr>\n",
       "    <tr>\n",
       "      <th>16</th>\n",
       "      <td>Q</td>\n",
       "      <td>Santé humaine et action sociale</td>\n",
       "    </tr>\n",
       "    <tr>\n",
       "      <th>17</th>\n",
       "      <td>R</td>\n",
       "      <td>Arts, spectacles et activités récréatives</td>\n",
       "    </tr>\n",
       "    <tr>\n",
       "      <th>18</th>\n",
       "      <td>S</td>\n",
       "      <td>Autres activités de services</td>\n",
       "    </tr>\n",
       "    <tr>\n",
       "      <th>19</th>\n",
       "      <td>T</td>\n",
       "      <td>Activités des ménages en tant qu'employeurs ; ...</td>\n",
       "    </tr>\n",
       "    <tr>\n",
       "      <th>20</th>\n",
       "      <td>U</td>\n",
       "      <td>Activités extra-territoriales</td>\n",
       "    </tr>\n",
       "  </tbody>\n",
       "</table>\n",
       "</div>"
      ],
      "text/plain": [
       "   Code                                            Libellé\n",
       "0     A                 Agriculture, sylviculture et pêche\n",
       "1     B                             Industries extractives\n",
       "2     C                           Industrie manufacturière\n",
       "3     D  Production et distribution d'électricité, de g...\n",
       "4     E  Production et distribution d'eau ; assainissem...\n",
       "5     F                                       Construction\n",
       "6     G  Commerce ; réparation d'automobiles et de moto...\n",
       "7     H                          Transports et entreposage\n",
       "8     I                        Hébergement et restauration\n",
       "9     J                       Information et communication\n",
       "10    K               Activités financières et d'assurance\n",
       "11    L                             Activités immobilières\n",
       "12    M  Activités spécialisées, scientifiques et techn...\n",
       "13    N  Activités de services administratifs et de sou...\n",
       "14    O                            Administration publique\n",
       "15    P                                       Enseignement\n",
       "16    Q                    Santé humaine et action sociale\n",
       "17    R          Arts, spectacles et activités récréatives\n",
       "18    S                       Autres activités de services\n",
       "19    T  Activités des ménages en tant qu'employeurs ; ...\n",
       "20    U                      Activités extra-territoriales"
      ]
     },
     "execution_count": 23,
     "metadata": {},
     "output_type": "execute_result"
    }
   ],
   "source": [
    "code_naf"
   ]
  },
  {
   "cell_type": "markdown",
   "metadata": {},
   "source": [
    "### Dimension du jeu de données"
   ]
  },
  {
   "cell_type": "code",
   "execution_count": 214,
   "metadata": {},
   "outputs": [],
   "source": [
    "class dimension_df():\n",
    "    def __init__(self,df):\n",
    "        self.df = df\n",
    "        \n",
    "    def _analyse(self):\n",
    "        print(\"Le jeu de données recense\", \n",
    "              self.df.iloc[:-1].shape[0],\n",
    "              \"codes naf pour\", \n",
    "              self.df.iloc[:,1:].shape[1], \n",
    "              \"libellé\")"
   ]
  },
  {
   "cell_type": "code",
   "execution_count": 215,
   "metadata": {},
   "outputs": [
    {
     "name": "stdout",
     "output_type": "stream",
     "text": [
      "Le jeu de données recense 20 codes naf pour 1 libellé\n"
     ]
    }
   ],
   "source": [
    "class_code_naf = dimension_df(code_naf)._analyse() "
   ]
  },
  {
   "cell_type": "markdown",
   "metadata": {},
   "source": [
    "### Valeurs manquantes"
   ]
  },
  {
   "cell_type": "markdown",
   "metadata": {},
   "source": [
    "Le jeu de données est complet"
   ]
  },
  {
   "cell_type": "code",
   "execution_count": 25,
   "metadata": {},
   "outputs": [
    {
     "data": {
      "text/plain": [
       "Code       0\n",
       "Libellé    0\n",
       "dtype: int64"
      ]
     },
     "execution_count": 25,
     "metadata": {},
     "output_type": "execute_result"
    }
   ],
   "source": [
    "code_naf.isna().sum()"
   ]
  },
  {
   "cell_type": "markdown",
   "metadata": {},
   "source": [
    "### Décompte des doublons"
   ]
  },
  {
   "cell_type": "code",
   "execution_count": 26,
   "metadata": {},
   "outputs": [
    {
     "data": {
      "text/plain": [
       "0"
      ]
     },
     "execution_count": 26,
     "metadata": {},
     "output_type": "execute_result"
    }
   ],
   "source": [
    "code_naf.duplicated().sum()"
   ]
  },
  {
   "cell_type": "markdown",
   "metadata": {},
   "source": [
    "---"
   ]
  },
  {
   "cell_type": "markdown",
   "metadata": {},
   "source": [
    "# Jeu de données des naf_5"
   ]
  },
  {
   "cell_type": "markdown",
   "metadata": {},
   "source": [
    "### Aperçu du fichier"
   ]
  },
  {
   "cell_type": "markdown",
   "metadata": {},
   "source": [
    "Il contient 5 variables que l'on pourra étudier :\n",
    "\n",
    "* NIV5\n",
    "* NIV4\n",
    "* NIV3\n",
    "* NIV2\n",
    "* NIV1"
   ]
  },
  {
   "cell_type": "code",
   "execution_count": 27,
   "metadata": {},
   "outputs": [
    {
     "data": {
      "text/html": [
       "<div>\n",
       "<style scoped>\n",
       "    .dataframe tbody tr th:only-of-type {\n",
       "        vertical-align: middle;\n",
       "    }\n",
       "\n",
       "    .dataframe tbody tr th {\n",
       "        vertical-align: top;\n",
       "    }\n",
       "\n",
       "    .dataframe thead th {\n",
       "        text-align: right;\n",
       "    }\n",
       "</style>\n",
       "<table border=\"1\" class=\"dataframe\">\n",
       "  <thead>\n",
       "    <tr style=\"text-align: right;\">\n",
       "      <th></th>\n",
       "      <th>NIV5</th>\n",
       "      <th>NIV4</th>\n",
       "      <th>NIV3</th>\n",
       "      <th>NIV2</th>\n",
       "      <th>NIV1</th>\n",
       "    </tr>\n",
       "  </thead>\n",
       "  <tbody>\n",
       "    <tr>\n",
       "      <th>0</th>\n",
       "      <td>01.11Z</td>\n",
       "      <td>1.11</td>\n",
       "      <td>1.1</td>\n",
       "      <td>1</td>\n",
       "      <td>A</td>\n",
       "    </tr>\n",
       "    <tr>\n",
       "      <th>1</th>\n",
       "      <td>01.12Z</td>\n",
       "      <td>1.12</td>\n",
       "      <td>1.1</td>\n",
       "      <td>1</td>\n",
       "      <td>A</td>\n",
       "    </tr>\n",
       "    <tr>\n",
       "      <th>2</th>\n",
       "      <td>01.13Z</td>\n",
       "      <td>1.13</td>\n",
       "      <td>1.1</td>\n",
       "      <td>1</td>\n",
       "      <td>A</td>\n",
       "    </tr>\n",
       "    <tr>\n",
       "      <th>3</th>\n",
       "      <td>01.14Z</td>\n",
       "      <td>1.14</td>\n",
       "      <td>1.1</td>\n",
       "      <td>1</td>\n",
       "      <td>A</td>\n",
       "    </tr>\n",
       "    <tr>\n",
       "      <th>4</th>\n",
       "      <td>01.15Z</td>\n",
       "      <td>1.15</td>\n",
       "      <td>1.1</td>\n",
       "      <td>1</td>\n",
       "      <td>A</td>\n",
       "    </tr>\n",
       "    <tr>\n",
       "      <th>...</th>\n",
       "      <td>...</td>\n",
       "      <td>...</td>\n",
       "      <td>...</td>\n",
       "      <td>...</td>\n",
       "      <td>...</td>\n",
       "    </tr>\n",
       "    <tr>\n",
       "      <th>727</th>\n",
       "      <td>96.09Z</td>\n",
       "      <td>96.09</td>\n",
       "      <td>96.0</td>\n",
       "      <td>96</td>\n",
       "      <td>S</td>\n",
       "    </tr>\n",
       "    <tr>\n",
       "      <th>728</th>\n",
       "      <td>97.00Z</td>\n",
       "      <td>97.00</td>\n",
       "      <td>97.0</td>\n",
       "      <td>97</td>\n",
       "      <td>T</td>\n",
       "    </tr>\n",
       "    <tr>\n",
       "      <th>729</th>\n",
       "      <td>98.10Z</td>\n",
       "      <td>98.10</td>\n",
       "      <td>98.1</td>\n",
       "      <td>98</td>\n",
       "      <td>T</td>\n",
       "    </tr>\n",
       "    <tr>\n",
       "      <th>730</th>\n",
       "      <td>98.20Z</td>\n",
       "      <td>98.20</td>\n",
       "      <td>98.2</td>\n",
       "      <td>98</td>\n",
       "      <td>T</td>\n",
       "    </tr>\n",
       "    <tr>\n",
       "      <th>731</th>\n",
       "      <td>99.00Z</td>\n",
       "      <td>99.00</td>\n",
       "      <td>99.0</td>\n",
       "      <td>99</td>\n",
       "      <td>U</td>\n",
       "    </tr>\n",
       "  </tbody>\n",
       "</table>\n",
       "<p>732 rows × 5 columns</p>\n",
       "</div>"
      ],
      "text/plain": [
       "       NIV5   NIV4  NIV3  NIV2 NIV1\n",
       "0    01.11Z   1.11   1.1     1    A\n",
       "1    01.12Z   1.12   1.1     1    A\n",
       "2    01.13Z   1.13   1.1     1    A\n",
       "3    01.14Z   1.14   1.1     1    A\n",
       "4    01.15Z   1.15   1.1     1    A\n",
       "..      ...    ...   ...   ...  ...\n",
       "727  96.09Z  96.09  96.0    96    S\n",
       "728  97.00Z  97.00  97.0    97    T\n",
       "729  98.10Z  98.10  98.1    98    T\n",
       "730  98.20Z  98.20  98.2    98    T\n",
       "731  99.00Z  99.00  99.0    99    U\n",
       "\n",
       "[732 rows x 5 columns]"
      ]
     },
     "execution_count": 27,
     "metadata": {},
     "output_type": "execute_result"
    }
   ],
   "source": [
    "naf_5"
   ]
  },
  {
   "cell_type": "markdown",
   "metadata": {},
   "source": [
    "### Dimension du jeu de données"
   ]
  },
  {
   "cell_type": "code",
   "execution_count": 228,
   "metadata": {},
   "outputs": [],
   "source": [
    "class dimension_df():\n",
    "    def __init__(self,df):\n",
    "        self.df = df\n",
    "        \n",
    "    def _analyse(self):\n",
    "        print(\"Le jeu de données recense\", \n",
    "              self.df.iloc[:].shape[0],\n",
    "              \"lignes de données pour chacun des\", \n",
    "              self.df.iloc[:,:].shape[1], \n",
    "              \"niveaux\")"
   ]
  },
  {
   "cell_type": "code",
   "execution_count": 229,
   "metadata": {},
   "outputs": [
    {
     "name": "stdout",
     "output_type": "stream",
     "text": [
      "Le jeu de données recense 732 lignes de données pour chacun des 5 niveaux\n"
     ]
    }
   ],
   "source": [
    "class_naf_5 = dimension_df(naf_5)._analyse() "
   ]
  },
  {
   "cell_type": "markdown",
   "metadata": {},
   "source": [
    "### Valeurs manquantes"
   ]
  },
  {
   "cell_type": "markdown",
   "metadata": {},
   "source": [
    "Le jeu de données est complet"
   ]
  },
  {
   "cell_type": "code",
   "execution_count": 29,
   "metadata": {},
   "outputs": [
    {
     "data": {
      "text/plain": [
       "NIV5    0\n",
       "NIV4    0\n",
       "NIV3    0\n",
       "NIV2    0\n",
       "NIV1    0\n",
       "dtype: int64"
      ]
     },
     "execution_count": 29,
     "metadata": {},
     "output_type": "execute_result"
    }
   ],
   "source": [
    "naf_5.isna().sum()"
   ]
  },
  {
   "cell_type": "markdown",
   "metadata": {},
   "source": [
    "### Décompte des doublons"
   ]
  },
  {
   "cell_type": "code",
   "execution_count": 30,
   "metadata": {},
   "outputs": [
    {
     "data": {
      "text/plain": [
       "0"
      ]
     },
     "execution_count": 30,
     "metadata": {},
     "output_type": "execute_result"
    }
   ],
   "source": [
    "naf_5.duplicated().sum()"
   ]
  },
  {
   "cell_type": "markdown",
   "metadata": {},
   "source": [
    "---"
   ]
  },
  {
   "cell_type": "markdown",
   "metadata": {},
   "source": [
    "# <p style=\"font-family: serif; font-size:2.2em; text-align: center;\"><u>Création des DataFrames</u></p> "
   ]
  },
  {
   "cell_type": "markdown",
   "metadata": {},
   "source": [
    "La création des DataFrames nous permettra d'établir la connection et le chargement des données directement depuis les tables de notre base de données."
   ]
  },
  {
   "cell_type": "markdown",
   "metadata": {},
   "source": [
    "## Création du DataFrame ville"
   ]
  },
  {
   "cell_type": "code",
   "execution_count": 31,
   "metadata": {},
   "outputs": [],
   "source": [
    "liste_ville_id = [1,2,3,4,5]\n",
    "liste_ville_nom = ['Cannes', 'Le Cannet', 'Mougins', 'Mandelieu-La-Napoule', 'Theoule-Sur-Mer']\n",
    "ville = pd.DataFrame({'vi_id': liste_ville_id,\n",
    "                     'vi_nom': liste_ville_nom})"
   ]
  },
  {
   "cell_type": "code",
   "execution_count": 32,
   "metadata": {},
   "outputs": [
    {
     "data": {
      "text/html": [
       "<div>\n",
       "<style scoped>\n",
       "    .dataframe tbody tr th:only-of-type {\n",
       "        vertical-align: middle;\n",
       "    }\n",
       "\n",
       "    .dataframe tbody tr th {\n",
       "        vertical-align: top;\n",
       "    }\n",
       "\n",
       "    .dataframe thead th {\n",
       "        text-align: right;\n",
       "    }\n",
       "</style>\n",
       "<table border=\"1\" class=\"dataframe\">\n",
       "  <thead>\n",
       "    <tr style=\"text-align: right;\">\n",
       "      <th></th>\n",
       "      <th>vi_id</th>\n",
       "      <th>vi_nom</th>\n",
       "    </tr>\n",
       "  </thead>\n",
       "  <tbody>\n",
       "    <tr>\n",
       "      <th>0</th>\n",
       "      <td>1</td>\n",
       "      <td>Cannes</td>\n",
       "    </tr>\n",
       "    <tr>\n",
       "      <th>1</th>\n",
       "      <td>2</td>\n",
       "      <td>Le Cannet</td>\n",
       "    </tr>\n",
       "    <tr>\n",
       "      <th>2</th>\n",
       "      <td>3</td>\n",
       "      <td>Mougins</td>\n",
       "    </tr>\n",
       "    <tr>\n",
       "      <th>3</th>\n",
       "      <td>4</td>\n",
       "      <td>Mandelieu-La-Napoule</td>\n",
       "    </tr>\n",
       "    <tr>\n",
       "      <th>4</th>\n",
       "      <td>5</td>\n",
       "      <td>Theoule-Sur-Mer</td>\n",
       "    </tr>\n",
       "  </tbody>\n",
       "</table>\n",
       "</div>"
      ],
      "text/plain": [
       "   vi_id                vi_nom\n",
       "0      1                Cannes\n",
       "1      2             Le Cannet\n",
       "2      3               Mougins\n",
       "3      4  Mandelieu-La-Napoule\n",
       "4      5       Theoule-Sur-Mer"
      ]
     },
     "execution_count": 32,
     "metadata": {},
     "output_type": "execute_result"
    }
   ],
   "source": [
    "# Apercu du DataFrame ville\n",
    "ville"
   ]
  },
  {
   "cell_type": "markdown",
   "metadata": {},
   "source": [
    "---"
   ]
  },
  {
   "cell_type": "markdown",
   "metadata": {},
   "source": [
    "## Création du DataFrame entreprise"
   ]
  },
  {
   "cell_type": "code",
   "execution_count": 33,
   "metadata": {},
   "outputs": [],
   "source": [
    "# On affiche les adresses en minuscule\n",
    "entreprise_csv[\"denominationUniteLegale\"] = entreprise_csv[\"denominationUniteLegale\"].str.lower()\n",
    "# Rectification des code postaux\n",
    "entreprise_csv[\"codePostalEtablissement\"] = \"0\" + entreprise_csv[\"codePostalEtablissement\"].astype(str)\n",
    "# On affiche le nom des villes en minuscule\n",
    "entreprise_csv[\"libelleCommuneEtablissement\"] = entreprise_csv[\"libelleCommuneEtablissement\"].str.title()\n",
    "# On affiche les abbreviations des types de voie en minuscule\n",
    "entreprise_csv[\"typeVoieEtablissement\"] = entreprise_csv[\"typeVoieEtablissement\"].str.lower()\n",
    "# On affiche les nom des rue en minuscule\n",
    "entreprise_csv[\"libelleVoieEtablissement\"] = entreprise_csv[\"libelleVoieEtablissement\"].str.lower()"
   ]
  },
  {
   "cell_type": "code",
   "execution_count": 34,
   "metadata": {},
   "outputs": [],
   "source": [
    "# Création du dictionnaire naf\n",
    "naf = {}\n",
    "for i in naf_5.index:\n",
    "    # Ajout paire clé-valeur\n",
    "    naf.update({naf_5.iloc[i]['NIV5']: naf_5.loc[i]['NIV1']})\n",
    "\n",
    "# Création du dictionnaire secteur d'activité\n",
    "SectAct = {}\n",
    "for i in code_naf.index:\n",
    "    # Ajout paire clé-valeur\n",
    "    SectAct.update({code_naf.iloc[i]['Code']: code_naf.index[i]+1})\n",
    "    \n",
    "# Création du dictionnaire des villes\n",
    "dict_ville = {}\n",
    "for i in ville.index:\n",
    "    dict_ville.update({ville.loc[i]['vi_nom']: ville.loc[i]['vi_id']})"
   ]
  },
  {
   "cell_type": "code",
   "execution_count": 35,
   "metadata": {},
   "outputs": [],
   "source": [
    "# Création du DataFrame entreprise\n",
    "entreprise = pd.DataFrame(columns =['en_id','en_siren','en_nic', 'en_nom', 'en_sa_id_fk', 'en_adresse', 'en_code_postal', 'en_vi_id_fk'])\n",
    "\n",
    "for i in entreprise_csv.index:\n",
    "#for i in range(2000):\n",
    "    en_id = int(str(entreprise_csv.loc[i][\"siren\"]) + str(entreprise_csv.loc[i][\"nic\"]))\n",
    "    siren = entreprise_csv.iloc[i]['siren']\n",
    "    nic = entreprise_csv.iloc[i]['nic']\n",
    "    nom = entreprise_csv.iloc[i]['denominationUniteLegale']\n",
    "    # Utilisation du dictionaire naf pour répertorier les secteurs d'activité\n",
    "    a = naf[entreprise_csv.loc[i][\"activitePrincipaleEtablissement\"]]\n",
    "    # Utilisation du dictionaire naf SectAct pour réferencer le secteur d'activité\n",
    "    secteur_activite = SectAct[a]\n",
    "    \n",
    "    \n",
    "    # Ici on test si le numero de voie est non nul/ si oui on le remplace par un str vide\n",
    "    adresse = (''if pd.isna(entreprise_csv.iloc[i]['numeroVoieEtablissement'])\n",
    "    # /sinon on le transforme en int pour supprimer les chiffres apres la virgule puis en str\n",
    " else str(int(entreprise_csv.iloc[i]['numeroVoieEtablissement'])))+\" \"+str(entreprise_csv.loc[i][\"typeVoieEtablissement\"])+\" \"+str(entreprise_csv.loc[i][\"libelleVoieEtablissement\"])\n",
    "    \n",
    "    \n",
    "    code_postal = entreprise_csv.loc[i][\"codePostalEtablissement\"]\n",
    "    en_ville = dict_ville[entreprise_csv.loc[i][\"libelleCommuneEtablissement\"]]\n",
    "    \n",
    "    df = pd.DataFrame({'en_id': en_id,\n",
    "                           'en_siren': siren,\n",
    "                           'en_nic': nic,\n",
    "                           'en_nom': nom,\n",
    "                           'en_sa_id_fk': secteur_activite,\n",
    "                           'en_adresse': adresse,\n",
    "                           'en_code_postal':code_postal,\n",
    "                           'en_vi_id_fk':en_ville}, index = [0])\n",
    "    entreprise = entreprise.append(df, ignore_index=True)"
   ]
  },
  {
   "cell_type": "code",
   "execution_count": 36,
   "metadata": {},
   "outputs": [
    {
     "data": {
      "text/html": [
       "<div>\n",
       "<style scoped>\n",
       "    .dataframe tbody tr th:only-of-type {\n",
       "        vertical-align: middle;\n",
       "    }\n",
       "\n",
       "    .dataframe tbody tr th {\n",
       "        vertical-align: top;\n",
       "    }\n",
       "\n",
       "    .dataframe thead th {\n",
       "        text-align: right;\n",
       "    }\n",
       "</style>\n",
       "<table border=\"1\" class=\"dataframe\">\n",
       "  <thead>\n",
       "    <tr style=\"text-align: right;\">\n",
       "      <th></th>\n",
       "      <th>en_id</th>\n",
       "      <th>en_siren</th>\n",
       "      <th>en_nic</th>\n",
       "      <th>en_nom</th>\n",
       "      <th>en_sa_id_fk</th>\n",
       "      <th>en_adresse</th>\n",
       "      <th>en_code_postal</th>\n",
       "      <th>en_vi_id_fk</th>\n",
       "    </tr>\n",
       "  </thead>\n",
       "  <tbody>\n",
       "    <tr>\n",
       "      <th>0</th>\n",
       "      <td>631096522</td>\n",
       "      <td>6310965</td>\n",
       "      <td>22</td>\n",
       "      <td>NaN</td>\n",
       "      <td>12</td>\n",
       "      <td>av gaston de fontmichel</td>\n",
       "      <td>06210</td>\n",
       "      <td>4</td>\n",
       "    </tr>\n",
       "    <tr>\n",
       "      <th>1</th>\n",
       "      <td>1558007934</td>\n",
       "      <td>15580079</td>\n",
       "      <td>34</td>\n",
       "      <td>societe immobiliere walter sperger</td>\n",
       "      <td>12</td>\n",
       "      <td>2 bd leader</td>\n",
       "      <td>06150</td>\n",
       "      <td>1</td>\n",
       "    </tr>\n",
       "    <tr>\n",
       "      <th>2</th>\n",
       "      <td>1976012318</td>\n",
       "      <td>19760123</td>\n",
       "      <td>18</td>\n",
       "      <td>ctim noailles</td>\n",
       "      <td>14</td>\n",
       "      <td>17 av de grasse</td>\n",
       "      <td>06400</td>\n",
       "      <td>1</td>\n",
       "    </tr>\n",
       "    <tr>\n",
       "      <th>3</th>\n",
       "      <td>1976014913</td>\n",
       "      <td>19760149</td>\n",
       "      <td>13</td>\n",
       "      <td>ctim durango</td>\n",
       "      <td>14</td>\n",
       "      <td>116 bd sadi carnot</td>\n",
       "      <td>06110</td>\n",
       "      <td>2</td>\n",
       "    </tr>\n",
       "    <tr>\n",
       "      <th>4</th>\n",
       "      <td>1976020611</td>\n",
       "      <td>19760206</td>\n",
       "      <td>11</td>\n",
       "      <td>ctim residence gallia</td>\n",
       "      <td>14</td>\n",
       "      <td>27 bd montfleury</td>\n",
       "      <td>06400</td>\n",
       "      <td>1</td>\n",
       "    </tr>\n",
       "    <tr>\n",
       "      <th>...</th>\n",
       "      <td>...</td>\n",
       "      <td>...</td>\n",
       "      <td>...</td>\n",
       "      <td>...</td>\n",
       "      <td>...</td>\n",
       "      <td>...</td>\n",
       "      <td>...</td>\n",
       "      <td>...</td>\n",
       "    </tr>\n",
       "    <tr>\n",
       "      <th>54637</th>\n",
       "      <td>99774992438</td>\n",
       "      <td>997749924</td>\n",
       "      <td>38</td>\n",
       "      <td>sa cotel</td>\n",
       "      <td>9</td>\n",
       "      <td>13 rue du canada</td>\n",
       "      <td>06400</td>\n",
       "      <td>1</td>\n",
       "    </tr>\n",
       "    <tr>\n",
       "      <th>54638</th>\n",
       "      <td>99786880763</td>\n",
       "      <td>997868807</td>\n",
       "      <td>63</td>\n",
       "      <td>intergras</td>\n",
       "      <td>7</td>\n",
       "      <td>562 che de bigaud</td>\n",
       "      <td>06250</td>\n",
       "      <td>3</td>\n",
       "    </tr>\n",
       "    <tr>\n",
       "      <th>54639</th>\n",
       "      <td>99882350411511</td>\n",
       "      <td>998823504</td>\n",
       "      <td>11511</td>\n",
       "      <td>adecco france</td>\n",
       "      <td>14</td>\n",
       "      <td>34 av francis tonner</td>\n",
       "      <td>06150</td>\n",
       "      <td>1</td>\n",
       "    </tr>\n",
       "    <tr>\n",
       "      <th>54640</th>\n",
       "      <td>99882350424209</td>\n",
       "      <td>998823504</td>\n",
       "      <td>24209</td>\n",
       "      <td>adecco france</td>\n",
       "      <td>14</td>\n",
       "      <td>3 rue du bosquet</td>\n",
       "      <td>06150</td>\n",
       "      <td>1</td>\n",
       "    </tr>\n",
       "    <tr>\n",
       "      <th>54641</th>\n",
       "      <td>99882350432376</td>\n",
       "      <td>998823504</td>\n",
       "      <td>32376</td>\n",
       "      <td>adecco france</td>\n",
       "      <td>14</td>\n",
       "      <td>226 av saint exupery</td>\n",
       "      <td>06210</td>\n",
       "      <td>4</td>\n",
       "    </tr>\n",
       "  </tbody>\n",
       "</table>\n",
       "<p>54642 rows × 8 columns</p>\n",
       "</div>"
      ],
      "text/plain": [
       "                en_id   en_siren en_nic                              en_nom  \\\n",
       "0           631096522    6310965     22                                 NaN   \n",
       "1          1558007934   15580079     34  societe immobiliere walter sperger   \n",
       "2          1976012318   19760123     18                       ctim noailles   \n",
       "3          1976014913   19760149     13                        ctim durango   \n",
       "4          1976020611   19760206     11               ctim residence gallia   \n",
       "...               ...        ...    ...                                 ...   \n",
       "54637     99774992438  997749924     38                            sa cotel   \n",
       "54638     99786880763  997868807     63                           intergras   \n",
       "54639  99882350411511  998823504  11511                       adecco france   \n",
       "54640  99882350424209  998823504  24209                       adecco france   \n",
       "54641  99882350432376  998823504  32376                       adecco france   \n",
       "\n",
       "      en_sa_id_fk                en_adresse en_code_postal en_vi_id_fk  \n",
       "0              12   av gaston de fontmichel          06210           4  \n",
       "1              12               2 bd leader          06150           1  \n",
       "2              14           17 av de grasse          06400           1  \n",
       "3              14        116 bd sadi carnot          06110           2  \n",
       "4              14          27 bd montfleury          06400           1  \n",
       "...           ...                       ...            ...         ...  \n",
       "54637           9          13 rue du canada          06400           1  \n",
       "54638           7         562 che de bigaud          06250           3  \n",
       "54639          14      34 av francis tonner          06150           1  \n",
       "54640          14          3 rue du bosquet          06150           1  \n",
       "54641          14      226 av saint exupery          06210           4  \n",
       "\n",
       "[54642 rows x 8 columns]"
      ]
     },
     "execution_count": 36,
     "metadata": {},
     "output_type": "execute_result"
    }
   ],
   "source": [
    "# Apercu du DataFrame entreprise\n",
    "entreprise"
   ]
  },
  {
   "cell_type": "markdown",
   "metadata": {},
   "source": [
    "---"
   ]
  },
  {
   "cell_type": "markdown",
   "metadata": {},
   "source": [
    "## Création du DataFrame secteur_activite"
   ]
  },
  {
   "cell_type": "code",
   "execution_count": 37,
   "metadata": {},
   "outputs": [],
   "source": [
    "# On utilise le fichier code naf pour le DataFrame secteur activité\n",
    "secteur_activite = pd.DataFrame(code_naf, columns = [\"sa_id\", \"Libellé\"])\n",
    "secteur_activite[\"sa_id\"] = secteur_activite.index + 1\n",
    "secteur_activite.rename(columns={\"Libellé\": \"sa_nom\"},inplace=True)"
   ]
  },
  {
   "cell_type": "code",
   "execution_count": 38,
   "metadata": {},
   "outputs": [
    {
     "data": {
      "text/html": [
       "<div>\n",
       "<style scoped>\n",
       "    .dataframe tbody tr th:only-of-type {\n",
       "        vertical-align: middle;\n",
       "    }\n",
       "\n",
       "    .dataframe tbody tr th {\n",
       "        vertical-align: top;\n",
       "    }\n",
       "\n",
       "    .dataframe thead th {\n",
       "        text-align: right;\n",
       "    }\n",
       "</style>\n",
       "<table border=\"1\" class=\"dataframe\">\n",
       "  <thead>\n",
       "    <tr style=\"text-align: right;\">\n",
       "      <th></th>\n",
       "      <th>sa_id</th>\n",
       "      <th>sa_nom</th>\n",
       "    </tr>\n",
       "  </thead>\n",
       "  <tbody>\n",
       "    <tr>\n",
       "      <th>0</th>\n",
       "      <td>1</td>\n",
       "      <td>Agriculture, sylviculture et pêche</td>\n",
       "    </tr>\n",
       "    <tr>\n",
       "      <th>1</th>\n",
       "      <td>2</td>\n",
       "      <td>Industries extractives</td>\n",
       "    </tr>\n",
       "    <tr>\n",
       "      <th>2</th>\n",
       "      <td>3</td>\n",
       "      <td>Industrie manufacturière</td>\n",
       "    </tr>\n",
       "    <tr>\n",
       "      <th>3</th>\n",
       "      <td>4</td>\n",
       "      <td>Production et distribution d'électricité, de g...</td>\n",
       "    </tr>\n",
       "    <tr>\n",
       "      <th>4</th>\n",
       "      <td>5</td>\n",
       "      <td>Production et distribution d'eau ; assainissem...</td>\n",
       "    </tr>\n",
       "    <tr>\n",
       "      <th>5</th>\n",
       "      <td>6</td>\n",
       "      <td>Construction</td>\n",
       "    </tr>\n",
       "    <tr>\n",
       "      <th>6</th>\n",
       "      <td>7</td>\n",
       "      <td>Commerce ; réparation d'automobiles et de moto...</td>\n",
       "    </tr>\n",
       "    <tr>\n",
       "      <th>7</th>\n",
       "      <td>8</td>\n",
       "      <td>Transports et entreposage</td>\n",
       "    </tr>\n",
       "    <tr>\n",
       "      <th>8</th>\n",
       "      <td>9</td>\n",
       "      <td>Hébergement et restauration</td>\n",
       "    </tr>\n",
       "    <tr>\n",
       "      <th>9</th>\n",
       "      <td>10</td>\n",
       "      <td>Information et communication</td>\n",
       "    </tr>\n",
       "    <tr>\n",
       "      <th>10</th>\n",
       "      <td>11</td>\n",
       "      <td>Activités financières et d'assurance</td>\n",
       "    </tr>\n",
       "    <tr>\n",
       "      <th>11</th>\n",
       "      <td>12</td>\n",
       "      <td>Activités immobilières</td>\n",
       "    </tr>\n",
       "    <tr>\n",
       "      <th>12</th>\n",
       "      <td>13</td>\n",
       "      <td>Activités spécialisées, scientifiques et techn...</td>\n",
       "    </tr>\n",
       "    <tr>\n",
       "      <th>13</th>\n",
       "      <td>14</td>\n",
       "      <td>Activités de services administratifs et de sou...</td>\n",
       "    </tr>\n",
       "    <tr>\n",
       "      <th>14</th>\n",
       "      <td>15</td>\n",
       "      <td>Administration publique</td>\n",
       "    </tr>\n",
       "    <tr>\n",
       "      <th>15</th>\n",
       "      <td>16</td>\n",
       "      <td>Enseignement</td>\n",
       "    </tr>\n",
       "    <tr>\n",
       "      <th>16</th>\n",
       "      <td>17</td>\n",
       "      <td>Santé humaine et action sociale</td>\n",
       "    </tr>\n",
       "    <tr>\n",
       "      <th>17</th>\n",
       "      <td>18</td>\n",
       "      <td>Arts, spectacles et activités récréatives</td>\n",
       "    </tr>\n",
       "    <tr>\n",
       "      <th>18</th>\n",
       "      <td>19</td>\n",
       "      <td>Autres activités de services</td>\n",
       "    </tr>\n",
       "    <tr>\n",
       "      <th>19</th>\n",
       "      <td>20</td>\n",
       "      <td>Activités des ménages en tant qu'employeurs ; ...</td>\n",
       "    </tr>\n",
       "    <tr>\n",
       "      <th>20</th>\n",
       "      <td>21</td>\n",
       "      <td>Activités extra-territoriales</td>\n",
       "    </tr>\n",
       "  </tbody>\n",
       "</table>\n",
       "</div>"
      ],
      "text/plain": [
       "    sa_id                                             sa_nom\n",
       "0       1                 Agriculture, sylviculture et pêche\n",
       "1       2                             Industries extractives\n",
       "2       3                           Industrie manufacturière\n",
       "3       4  Production et distribution d'électricité, de g...\n",
       "4       5  Production et distribution d'eau ; assainissem...\n",
       "5       6                                       Construction\n",
       "6       7  Commerce ; réparation d'automobiles et de moto...\n",
       "7       8                          Transports et entreposage\n",
       "8       9                        Hébergement et restauration\n",
       "9      10                       Information et communication\n",
       "10     11               Activités financières et d'assurance\n",
       "11     12                             Activités immobilières\n",
       "12     13  Activités spécialisées, scientifiques et techn...\n",
       "13     14  Activités de services administratifs et de sou...\n",
       "14     15                            Administration publique\n",
       "15     16                                       Enseignement\n",
       "16     17                    Santé humaine et action sociale\n",
       "17     18          Arts, spectacles et activités récréatives\n",
       "18     19                       Autres activités de services\n",
       "19     20  Activités des ménages en tant qu'employeurs ; ...\n",
       "20     21                      Activités extra-territoriales"
      ]
     },
     "execution_count": 38,
     "metadata": {},
     "output_type": "execute_result"
    }
   ],
   "source": [
    "# Apercu du DataFrame sesecteur_activite\n",
    "secteur_activite"
   ]
  },
  {
   "cell_type": "markdown",
   "metadata": {},
   "source": [
    "---"
   ]
  },
  {
   "cell_type": "markdown",
   "metadata": {},
   "source": [
    "## Création du DataFrame categorie_socio_pro"
   ]
  },
  {
   "cell_type": "code",
   "execution_count": 39,
   "metadata": {},
   "outputs": [],
   "source": [
    "# On utilise le fichier CSP_15_24 pour le DataFrame categorie_socio_pro\n",
    "categorie_socio_pro = pd.DataFrame(CSP_15_24, columns =[\"csp_id\",\"Catégorie\"])\n",
    "categorie_socio_pro[\"csp_id\"] = categorie_socio_pro.index + 1\n",
    "categorie_socio_pro.rename(columns = {\"Catégorie\": \"csp_nom\"},inplace=True)"
   ]
  },
  {
   "cell_type": "code",
   "execution_count": 40,
   "metadata": {},
   "outputs": [
    {
     "data": {
      "text/html": [
       "<div>\n",
       "<style scoped>\n",
       "    .dataframe tbody tr th:only-of-type {\n",
       "        vertical-align: middle;\n",
       "    }\n",
       "\n",
       "    .dataframe tbody tr th {\n",
       "        vertical-align: top;\n",
       "    }\n",
       "\n",
       "    .dataframe thead th {\n",
       "        text-align: right;\n",
       "    }\n",
       "</style>\n",
       "<table border=\"1\" class=\"dataframe\">\n",
       "  <thead>\n",
       "    <tr style=\"text-align: right;\">\n",
       "      <th></th>\n",
       "      <th>csp_id</th>\n",
       "      <th>csp_nom</th>\n",
       "    </tr>\n",
       "  </thead>\n",
       "  <tbody>\n",
       "    <tr>\n",
       "      <th>0</th>\n",
       "      <td>1</td>\n",
       "      <td>Agriculteurs exploitants</td>\n",
       "    </tr>\n",
       "    <tr>\n",
       "      <th>1</th>\n",
       "      <td>2</td>\n",
       "      <td>Artisans. commerçants. chefs entreprise</td>\n",
       "    </tr>\n",
       "    <tr>\n",
       "      <th>2</th>\n",
       "      <td>3</td>\n",
       "      <td>Cadres et professions intellectuelles supérieures</td>\n",
       "    </tr>\n",
       "    <tr>\n",
       "      <th>3</th>\n",
       "      <td>4</td>\n",
       "      <td>Professions intermédiaires</td>\n",
       "    </tr>\n",
       "    <tr>\n",
       "      <th>4</th>\n",
       "      <td>5</td>\n",
       "      <td>Employés</td>\n",
       "    </tr>\n",
       "    <tr>\n",
       "      <th>5</th>\n",
       "      <td>6</td>\n",
       "      <td>Ouvriers</td>\n",
       "    </tr>\n",
       "    <tr>\n",
       "      <th>6</th>\n",
       "      <td>7</td>\n",
       "      <td>Retraités</td>\n",
       "    </tr>\n",
       "    <tr>\n",
       "      <th>7</th>\n",
       "      <td>8</td>\n",
       "      <td>Autres personnes sans activité professionnelle</td>\n",
       "    </tr>\n",
       "    <tr>\n",
       "      <th>8</th>\n",
       "      <td>9</td>\n",
       "      <td>Total</td>\n",
       "    </tr>\n",
       "  </tbody>\n",
       "</table>\n",
       "</div>"
      ],
      "text/plain": [
       "   csp_id                                            csp_nom\n",
       "0       1                           Agriculteurs exploitants\n",
       "1       2            Artisans. commerçants. chefs entreprise\n",
       "2       3  Cadres et professions intellectuelles supérieures\n",
       "3       4                         Professions intermédiaires\n",
       "4       5                                           Employés\n",
       "5       6                                           Ouvriers\n",
       "6       7                                          Retraités\n",
       "7       8     Autres personnes sans activité professionnelle\n",
       "8       9                                              Total"
      ]
     },
     "execution_count": 40,
     "metadata": {},
     "output_type": "execute_result"
    }
   ],
   "source": [
    "# Apercu du DataFrame categorie_socio_pro\n",
    "categorie_socio_pro"
   ]
  },
  {
   "cell_type": "markdown",
   "metadata": {},
   "source": [
    "---"
   ]
  },
  {
   "cell_type": "markdown",
   "metadata": {},
   "source": [
    "## Création du DataFrame age"
   ]
  },
  {
   "cell_type": "code",
   "execution_count": 41,
   "metadata": {},
   "outputs": [],
   "source": [
    "liste_ag_id = [1,2,3]\n",
    "liste_ag_nom = [\"15 a 24\", \"25 a 54\",\"55 et plus\"]\n",
    "age = pd.DataFrame({'ag_id': liste_ag_id,\n",
    "                     'ag_tranche_age': liste_ag_nom})"
   ]
  },
  {
   "cell_type": "code",
   "execution_count": 42,
   "metadata": {},
   "outputs": [
    {
     "data": {
      "text/html": [
       "<div>\n",
       "<style scoped>\n",
       "    .dataframe tbody tr th:only-of-type {\n",
       "        vertical-align: middle;\n",
       "    }\n",
       "\n",
       "    .dataframe tbody tr th {\n",
       "        vertical-align: top;\n",
       "    }\n",
       "\n",
       "    .dataframe thead th {\n",
       "        text-align: right;\n",
       "    }\n",
       "</style>\n",
       "<table border=\"1\" class=\"dataframe\">\n",
       "  <thead>\n",
       "    <tr style=\"text-align: right;\">\n",
       "      <th></th>\n",
       "      <th>ag_id</th>\n",
       "      <th>ag_tranche_age</th>\n",
       "    </tr>\n",
       "  </thead>\n",
       "  <tbody>\n",
       "    <tr>\n",
       "      <th>0</th>\n",
       "      <td>1</td>\n",
       "      <td>15 a 24</td>\n",
       "    </tr>\n",
       "    <tr>\n",
       "      <th>1</th>\n",
       "      <td>2</td>\n",
       "      <td>25 a 54</td>\n",
       "    </tr>\n",
       "    <tr>\n",
       "      <th>2</th>\n",
       "      <td>3</td>\n",
       "      <td>55 et plus</td>\n",
       "    </tr>\n",
       "  </tbody>\n",
       "</table>\n",
       "</div>"
      ],
      "text/plain": [
       "   ag_id ag_tranche_age\n",
       "0      1        15 a 24\n",
       "1      2        25 a 54\n",
       "2      3     55 et plus"
      ]
     },
     "execution_count": 42,
     "metadata": {},
     "output_type": "execute_result"
    }
   ],
   "source": [
    "# Apercu du DataFrame age\n",
    "age"
   ]
  },
  {
   "cell_type": "markdown",
   "metadata": {},
   "source": [
    "---"
   ]
  },
  {
   "cell_type": "markdown",
   "metadata": {},
   "source": [
    "## Création du DataFrame age du DataFrame population"
   ]
  },
  {
   "cell_type": "code",
   "execution_count": 43,
   "metadata": {},
   "outputs": [],
   "source": [
    "# On rectifie l'ortographe de la colonne Theoule-Sur-Mer\n",
    "CSP_25_54.rename(columns={\"Théoule-Sur-Mer\": \"Theoule-Sur-Mer\"}, inplace = True)\n",
    "CSP_55_plus.rename(columns={\"Théoule-Sur-Mer\": \"Theoule-Sur-Mer\"}, inplace = True)\n",
    "# On rectifie l'ortographe de la colonne Le Cannet\n",
    "CSP_55_plus.rename(columns={\"le Cannet\": \"Le Cannet\"}, inplace = True)"
   ]
  },
  {
   "cell_type": "code",
   "execution_count": 44,
   "metadata": {},
   "outputs": [],
   "source": [
    "# Création d'une fonction add_df qui renvoie un DataFrame adapté pour la table population\n",
    "def add_df(df):\n",
    "    # Création d'un DataFrame adapté pour la table population\n",
    "    dataf = pd.DataFrame(columns = [\"po_id\",\"po_source\", \"po_annee\", \"po_nbre_pop\", \"po_csp_id_fk\", \"po_ag_id_fk\", \"po_vi_id_fk\"])\n",
    "    # Dans une premiere boucle on itère sur le nbre de ligne qui correcpond à csp\n",
    "    for i in df.index:\n",
    "        # Dans une deuxieme boucle imbriquer on itère sur le nbre de colonne qui correspond aux villes\n",
    "        for j in df.columns[1:]:\n",
    "            nbre = df.iloc[i][j]\n",
    "            ville1 = dict_ville[j]\n",
    "            csp = i + 1\n",
    "            DF = pd.DataFrame({'po_id': i,\n",
    "                           'po_source': \"Insee, Recensement de la population (RP), exploitation complémentaire - 2017\",\n",
    "                           'po_annee': 2017,\n",
    "                           'po_nbre_pop': nbre,\n",
    "                           'po_csp_id_fk': csp,\n",
    "                           'po_vi_id_fk': ville1}, index = [0])\n",
    "            dataf = dataf.append(DF, ignore_index=True)\n",
    "    return dataf"
   ]
  },
  {
   "cell_type": "code",
   "execution_count": 45,
   "metadata": {},
   "outputs": [],
   "source": [
    "# On utilise la fonction add_df pour creer des dataframe en fonction de la tranche d'age\n",
    "population15_24 = add_df(CSP_15_24)\n",
    "population25_54 = add_df(CSP_25_54)\n",
    "population55_plus = add_df(CSP_55_plus)\n",
    "\n",
    "# On assigne la clé entrangère de la table age\n",
    "password = Bin_(config[\"password\"])._UserP()\n",
    "population15_24['po_ag_id_fk']=1\n",
    "population25_54['po_ag_id_fk']=2\n",
    "population55_plus['po_ag_id_fk']=3\n",
    "\n",
    "# On réunis les 3 DataFrames dans le DataFrame poplulation\n",
    "population = pd.concat([population15_24,population25_54,population55_plus])\n",
    "population.reset_index(inplace = True)\n",
    "population['po_id'] = population.index\n",
    "population.drop(columns=['index'], inplace=True)\n",
    "\n",
    "# On modifie le type de po_année\n",
    "# population['po_annee']= pd.to_datetime(population['po_annee'], format=\"%Y\")"
   ]
  },
  {
   "cell_type": "code",
   "execution_count": 46,
   "metadata": {},
   "outputs": [
    {
     "data": {
      "text/html": [
       "<div>\n",
       "<style scoped>\n",
       "    .dataframe tbody tr th:only-of-type {\n",
       "        vertical-align: middle;\n",
       "    }\n",
       "\n",
       "    .dataframe tbody tr th {\n",
       "        vertical-align: top;\n",
       "    }\n",
       "\n",
       "    .dataframe thead th {\n",
       "        text-align: right;\n",
       "    }\n",
       "</style>\n",
       "<table border=\"1\" class=\"dataframe\">\n",
       "  <thead>\n",
       "    <tr style=\"text-align: right;\">\n",
       "      <th></th>\n",
       "      <th>po_id</th>\n",
       "      <th>po_source</th>\n",
       "      <th>po_annee</th>\n",
       "      <th>po_nbre_pop</th>\n",
       "      <th>po_csp_id_fk</th>\n",
       "      <th>po_ag_id_fk</th>\n",
       "      <th>po_vi_id_fk</th>\n",
       "    </tr>\n",
       "  </thead>\n",
       "  <tbody>\n",
       "    <tr>\n",
       "      <th>0</th>\n",
       "      <td>0</td>\n",
       "      <td>Insee, Recensement de la population (RP), expl...</td>\n",
       "      <td>2017</td>\n",
       "      <td>0</td>\n",
       "      <td>1</td>\n",
       "      <td>1</td>\n",
       "      <td>4</td>\n",
       "    </tr>\n",
       "    <tr>\n",
       "      <th>1</th>\n",
       "      <td>1</td>\n",
       "      <td>Insee, Recensement de la population (RP), expl...</td>\n",
       "      <td>2017</td>\n",
       "      <td>0</td>\n",
       "      <td>1</td>\n",
       "      <td>1</td>\n",
       "      <td>3</td>\n",
       "    </tr>\n",
       "    <tr>\n",
       "      <th>2</th>\n",
       "      <td>2</td>\n",
       "      <td>Insee, Recensement de la population (RP), expl...</td>\n",
       "      <td>2017</td>\n",
       "      <td>0</td>\n",
       "      <td>1</td>\n",
       "      <td>1</td>\n",
       "      <td>2</td>\n",
       "    </tr>\n",
       "    <tr>\n",
       "      <th>3</th>\n",
       "      <td>3</td>\n",
       "      <td>Insee, Recensement de la population (RP), expl...</td>\n",
       "      <td>2017</td>\n",
       "      <td>0</td>\n",
       "      <td>1</td>\n",
       "      <td>1</td>\n",
       "      <td>1</td>\n",
       "    </tr>\n",
       "    <tr>\n",
       "      <th>4</th>\n",
       "      <td>4</td>\n",
       "      <td>Insee, Recensement de la population (RP), expl...</td>\n",
       "      <td>2017</td>\n",
       "      <td>0</td>\n",
       "      <td>1</td>\n",
       "      <td>1</td>\n",
       "      <td>5</td>\n",
       "    </tr>\n",
       "    <tr>\n",
       "      <th>...</th>\n",
       "      <td>...</td>\n",
       "      <td>...</td>\n",
       "      <td>...</td>\n",
       "      <td>...</td>\n",
       "      <td>...</td>\n",
       "      <td>...</td>\n",
       "      <td>...</td>\n",
       "    </tr>\n",
       "    <tr>\n",
       "      <th>130</th>\n",
       "      <td>130</td>\n",
       "      <td>Insee, Recensement de la population (RP), expl...</td>\n",
       "      <td>2017</td>\n",
       "      <td>9305</td>\n",
       "      <td>9</td>\n",
       "      <td>3</td>\n",
       "      <td>4</td>\n",
       "    </tr>\n",
       "    <tr>\n",
       "      <th>131</th>\n",
       "      <td>131</td>\n",
       "      <td>Insee, Recensement de la population (RP), expl...</td>\n",
       "      <td>2017</td>\n",
       "      <td>6607</td>\n",
       "      <td>9</td>\n",
       "      <td>3</td>\n",
       "      <td>3</td>\n",
       "    </tr>\n",
       "    <tr>\n",
       "      <th>132</th>\n",
       "      <td>132</td>\n",
       "      <td>Insee, Recensement de la population (RP), expl...</td>\n",
       "      <td>2017</td>\n",
       "      <td>17155</td>\n",
       "      <td>9</td>\n",
       "      <td>3</td>\n",
       "      <td>2</td>\n",
       "    </tr>\n",
       "    <tr>\n",
       "      <th>133</th>\n",
       "      <td>133</td>\n",
       "      <td>Insee, Recensement de la population (RP), expl...</td>\n",
       "      <td>2017</td>\n",
       "      <td>31161</td>\n",
       "      <td>9</td>\n",
       "      <td>3</td>\n",
       "      <td>1</td>\n",
       "    </tr>\n",
       "    <tr>\n",
       "      <th>134</th>\n",
       "      <td>134</td>\n",
       "      <td>Insee, Recensement de la population (RP), expl...</td>\n",
       "      <td>2017</td>\n",
       "      <td>623</td>\n",
       "      <td>9</td>\n",
       "      <td>3</td>\n",
       "      <td>5</td>\n",
       "    </tr>\n",
       "  </tbody>\n",
       "</table>\n",
       "<p>135 rows × 7 columns</p>\n",
       "</div>"
      ],
      "text/plain": [
       "     po_id                                          po_source po_annee  \\\n",
       "0        0  Insee, Recensement de la population (RP), expl...     2017   \n",
       "1        1  Insee, Recensement de la population (RP), expl...     2017   \n",
       "2        2  Insee, Recensement de la population (RP), expl...     2017   \n",
       "3        3  Insee, Recensement de la population (RP), expl...     2017   \n",
       "4        4  Insee, Recensement de la population (RP), expl...     2017   \n",
       "..     ...                                                ...      ...   \n",
       "130    130  Insee, Recensement de la population (RP), expl...     2017   \n",
       "131    131  Insee, Recensement de la population (RP), expl...     2017   \n",
       "132    132  Insee, Recensement de la population (RP), expl...     2017   \n",
       "133    133  Insee, Recensement de la population (RP), expl...     2017   \n",
       "134    134  Insee, Recensement de la population (RP), expl...     2017   \n",
       "\n",
       "    po_nbre_pop po_csp_id_fk  po_ag_id_fk po_vi_id_fk  \n",
       "0             0            1            1           4  \n",
       "1             0            1            1           3  \n",
       "2             0            1            1           2  \n",
       "3             0            1            1           1  \n",
       "4             0            1            1           5  \n",
       "..          ...          ...          ...         ...  \n",
       "130        9305            9            3           4  \n",
       "131        6607            9            3           3  \n",
       "132       17155            9            3           2  \n",
       "133       31161            9            3           1  \n",
       "134         623            9            3           5  \n",
       "\n",
       "[135 rows x 7 columns]"
      ]
     },
     "execution_count": 46,
     "metadata": {},
     "output_type": "execute_result"
    }
   ],
   "source": [
    "# Apercu du DataFrame population\n",
    "population"
   ]
  },
  {
   "cell_type": "markdown",
   "metadata": {},
   "source": [
    "---"
   ]
  },
  {
   "cell_type": "markdown",
   "metadata": {},
   "source": [
    "## Création du DataFrame categorie_logement"
   ]
  },
  {
   "cell_type": "code",
   "execution_count": 47,
   "metadata": {},
   "outputs": [],
   "source": [
    "# On utilise le fichier logement_par_catégorie pour le DataFrame categorie_logement\n",
    "categorie_logement = pd.DataFrame(logement_par_catégorie, columns =[\"cl_id\",\"Catégorie\"])\n",
    "categorie_logement[\"cl_id\"] = categorie_logement.index + 1\n",
    "categorie_logement.rename(columns = {\"Catégorie\": \"cl_nom\"},inplace=True)"
   ]
  },
  {
   "cell_type": "code",
   "execution_count": 48,
   "metadata": {},
   "outputs": [
    {
     "data": {
      "text/html": [
       "<div>\n",
       "<style scoped>\n",
       "    .dataframe tbody tr th:only-of-type {\n",
       "        vertical-align: middle;\n",
       "    }\n",
       "\n",
       "    .dataframe tbody tr th {\n",
       "        vertical-align: top;\n",
       "    }\n",
       "\n",
       "    .dataframe thead th {\n",
       "        text-align: right;\n",
       "    }\n",
       "</style>\n",
       "<table border=\"1\" class=\"dataframe\">\n",
       "  <thead>\n",
       "    <tr style=\"text-align: right;\">\n",
       "      <th></th>\n",
       "      <th>cl_id</th>\n",
       "      <th>cl_nom</th>\n",
       "    </tr>\n",
       "  </thead>\n",
       "  <tbody>\n",
       "    <tr>\n",
       "      <th>0</th>\n",
       "      <td>1</td>\n",
       "      <td>Résidences principales</td>\n",
       "    </tr>\n",
       "    <tr>\n",
       "      <th>1</th>\n",
       "      <td>2</td>\n",
       "      <td>Résid. secondaires et log. occasionnels</td>\n",
       "    </tr>\n",
       "    <tr>\n",
       "      <th>2</th>\n",
       "      <td>3</td>\n",
       "      <td>Logements vacants</td>\n",
       "    </tr>\n",
       "    <tr>\n",
       "      <th>3</th>\n",
       "      <td>4</td>\n",
       "      <td>Total</td>\n",
       "    </tr>\n",
       "  </tbody>\n",
       "</table>\n",
       "</div>"
      ],
      "text/plain": [
       "   cl_id                                   cl_nom\n",
       "0      1                   Résidences principales\n",
       "1      2  Résid. secondaires et log. occasionnels\n",
       "2      3                        Logements vacants\n",
       "3      4                                    Total"
      ]
     },
     "execution_count": 48,
     "metadata": {},
     "output_type": "execute_result"
    }
   ],
   "source": [
    "# Apercu du DataFrame categorie_logement\n",
    "categorie_logement"
   ]
  },
  {
   "cell_type": "markdown",
   "metadata": {},
   "source": [
    "---"
   ]
  },
  {
   "cell_type": "markdown",
   "metadata": {},
   "source": [
    "## Création du DataFrame logement"
   ]
  },
  {
   "cell_type": "code",
   "execution_count": 49,
   "metadata": {},
   "outputs": [],
   "source": [
    "# On rectifie l'ortographe de la colonne Mandelieu-la-Napoule\n",
    "logement_par_catégorie.rename(columns={\"Mandelieu-la-Napoule\": \"Mandelieu-La-Napoule\"}, inplace = True)\n",
    "# On rectifie l'ortographe de la colonne Theoule-Sur-Mer\n",
    "logement_par_catégorie.rename(columns={\"Théoule-sur-Mer\": \"Theoule-Sur-Mer\"}, inplace = True)"
   ]
  },
  {
   "cell_type": "code",
   "execution_count": 50,
   "metadata": {},
   "outputs": [],
   "source": [
    "# Création du DataFrame logement\n",
    "logement = pd.DataFrame(columns = [\"lo_id\",\"lo_nbre\",\"lo_vi_id_fk\",\"lo_cl_id_fk\"])\n",
    "\n",
    "for i in logement_par_catégorie.index:\n",
    "    for j in logement_par_catégorie.columns[2:]:\n",
    "        nbre_lg = logement_par_catégorie.iloc[i][j]\n",
    "        ville_lg = dict_ville[j]\n",
    "        type_lg = i +1\n",
    "        df_lg = pd.DataFrame({'lo_nbre': nbre_lg,\n",
    "                           'lo_vi_id_fk': ville_lg,\n",
    "                           'lo_cl_id_fk': type_lg}, index = [0])\n",
    "        logement = logement.append(df_lg, ignore_index=True)\n",
    "        \n",
    "logement['lo_id'] = logement.index + 1"
   ]
  },
  {
   "cell_type": "code",
   "execution_count": 51,
   "metadata": {},
   "outputs": [
    {
     "data": {
      "text/html": [
       "<div>\n",
       "<style scoped>\n",
       "    .dataframe tbody tr th:only-of-type {\n",
       "        vertical-align: middle;\n",
       "    }\n",
       "\n",
       "    .dataframe tbody tr th {\n",
       "        vertical-align: top;\n",
       "    }\n",
       "\n",
       "    .dataframe thead th {\n",
       "        text-align: right;\n",
       "    }\n",
       "</style>\n",
       "<table border=\"1\" class=\"dataframe\">\n",
       "  <thead>\n",
       "    <tr style=\"text-align: right;\">\n",
       "      <th></th>\n",
       "      <th>lo_id</th>\n",
       "      <th>lo_nbre</th>\n",
       "      <th>lo_vi_id_fk</th>\n",
       "      <th>lo_cl_id_fk</th>\n",
       "    </tr>\n",
       "  </thead>\n",
       "  <tbody>\n",
       "    <tr>\n",
       "      <th>0</th>\n",
       "      <td>1</td>\n",
       "      <td>11339</td>\n",
       "      <td>4</td>\n",
       "      <td>1</td>\n",
       "    </tr>\n",
       "    <tr>\n",
       "      <th>1</th>\n",
       "      <td>2</td>\n",
       "      <td>8403</td>\n",
       "      <td>3</td>\n",
       "      <td>1</td>\n",
       "    </tr>\n",
       "    <tr>\n",
       "      <th>2</th>\n",
       "      <td>3</td>\n",
       "      <td>21276</td>\n",
       "      <td>2</td>\n",
       "      <td>1</td>\n",
       "    </tr>\n",
       "    <tr>\n",
       "      <th>3</th>\n",
       "      <td>4</td>\n",
       "      <td>37735</td>\n",
       "      <td>1</td>\n",
       "      <td>1</td>\n",
       "    </tr>\n",
       "    <tr>\n",
       "      <th>4</th>\n",
       "      <td>5</td>\n",
       "      <td>694</td>\n",
       "      <td>5</td>\n",
       "      <td>1</td>\n",
       "    </tr>\n",
       "    <tr>\n",
       "      <th>5</th>\n",
       "      <td>6</td>\n",
       "      <td>8694</td>\n",
       "      <td>4</td>\n",
       "      <td>2</td>\n",
       "    </tr>\n",
       "    <tr>\n",
       "      <th>6</th>\n",
       "      <td>7</td>\n",
       "      <td>1983</td>\n",
       "      <td>3</td>\n",
       "      <td>2</td>\n",
       "    </tr>\n",
       "    <tr>\n",
       "      <th>7</th>\n",
       "      <td>8</td>\n",
       "      <td>4104</td>\n",
       "      <td>2</td>\n",
       "      <td>2</td>\n",
       "    </tr>\n",
       "    <tr>\n",
       "      <th>8</th>\n",
       "      <td>9</td>\n",
       "      <td>31433</td>\n",
       "      <td>1</td>\n",
       "      <td>2</td>\n",
       "    </tr>\n",
       "    <tr>\n",
       "      <th>9</th>\n",
       "      <td>10</td>\n",
       "      <td>2564</td>\n",
       "      <td>5</td>\n",
       "      <td>2</td>\n",
       "    </tr>\n",
       "    <tr>\n",
       "      <th>10</th>\n",
       "      <td>11</td>\n",
       "      <td>1201</td>\n",
       "      <td>4</td>\n",
       "      <td>3</td>\n",
       "    </tr>\n",
       "    <tr>\n",
       "      <th>11</th>\n",
       "      <td>12</td>\n",
       "      <td>501</td>\n",
       "      <td>3</td>\n",
       "      <td>3</td>\n",
       "    </tr>\n",
       "    <tr>\n",
       "      <th>12</th>\n",
       "      <td>13</td>\n",
       "      <td>940</td>\n",
       "      <td>2</td>\n",
       "      <td>3</td>\n",
       "    </tr>\n",
       "    <tr>\n",
       "      <th>13</th>\n",
       "      <td>14</td>\n",
       "      <td>2096</td>\n",
       "      <td>1</td>\n",
       "      <td>3</td>\n",
       "    </tr>\n",
       "    <tr>\n",
       "      <th>14</th>\n",
       "      <td>15</td>\n",
       "      <td>77</td>\n",
       "      <td>5</td>\n",
       "      <td>3</td>\n",
       "    </tr>\n",
       "    <tr>\n",
       "      <th>15</th>\n",
       "      <td>16</td>\n",
       "      <td>21234</td>\n",
       "      <td>4</td>\n",
       "      <td>4</td>\n",
       "    </tr>\n",
       "    <tr>\n",
       "      <th>16</th>\n",
       "      <td>17</td>\n",
       "      <td>10887</td>\n",
       "      <td>3</td>\n",
       "      <td>4</td>\n",
       "    </tr>\n",
       "    <tr>\n",
       "      <th>17</th>\n",
       "      <td>18</td>\n",
       "      <td>26320</td>\n",
       "      <td>2</td>\n",
       "      <td>4</td>\n",
       "    </tr>\n",
       "    <tr>\n",
       "      <th>18</th>\n",
       "      <td>19</td>\n",
       "      <td>71264</td>\n",
       "      <td>1</td>\n",
       "      <td>4</td>\n",
       "    </tr>\n",
       "    <tr>\n",
       "      <th>19</th>\n",
       "      <td>20</td>\n",
       "      <td>3335</td>\n",
       "      <td>5</td>\n",
       "      <td>4</td>\n",
       "    </tr>\n",
       "  </tbody>\n",
       "</table>\n",
       "</div>"
      ],
      "text/plain": [
       "    lo_id lo_nbre lo_vi_id_fk lo_cl_id_fk\n",
       "0       1   11339           4           1\n",
       "1       2    8403           3           1\n",
       "2       3   21276           2           1\n",
       "3       4   37735           1           1\n",
       "4       5     694           5           1\n",
       "5       6    8694           4           2\n",
       "6       7    1983           3           2\n",
       "7       8    4104           2           2\n",
       "8       9   31433           1           2\n",
       "9      10    2564           5           2\n",
       "10     11    1201           4           3\n",
       "11     12     501           3           3\n",
       "12     13     940           2           3\n",
       "13     14    2096           1           3\n",
       "14     15      77           5           3\n",
       "15     16   21234           4           4\n",
       "16     17   10887           3           4\n",
       "17     18   26320           2           4\n",
       "18     19   71264           1           4\n",
       "19     20    3335           5           4"
      ]
     },
     "execution_count": 51,
     "metadata": {},
     "output_type": "execute_result"
    }
   ],
   "source": [
    "# Apercu du DataFrame logement\n",
    "logement"
   ]
  },
  {
   "cell_type": "markdown",
   "metadata": {},
   "source": [
    "### Exemple de boucle :"
   ]
  },
  {
   "cell_type": "code",
   "execution_count": 52,
   "metadata": {},
   "outputs": [
    {
     "name": "stdout",
     "output_type": "stream",
     "text": [
      "le chiffre est :    11339 ;\tla logement_par_catégorie est : 0 ;\t la ville est : Mandelieu-La-Napoule\n",
      "le chiffre est :    8403 ;\tla logement_par_catégorie est : 0 ;\t la ville est : Mougins\n",
      "le chiffre est :    21276 ;\tla logement_par_catégorie est : 0 ;\t la ville est : Le Cannet\n",
      "le chiffre est :    37735 ;\tla logement_par_catégorie est : 0 ;\t la ville est : Cannes\n",
      "le chiffre est :    694 ;\tla logement_par_catégorie est : 0 ;\t la ville est : Theoule-Sur-Mer\n",
      "le chiffre est :    8694 ;\tla logement_par_catégorie est : 1 ;\t la ville est : Mandelieu-La-Napoule\n",
      "le chiffre est :    1983 ;\tla logement_par_catégorie est : 1 ;\t la ville est : Mougins\n",
      "le chiffre est :    4104 ;\tla logement_par_catégorie est : 1 ;\t la ville est : Le Cannet\n",
      "le chiffre est :    31433 ;\tla logement_par_catégorie est : 1 ;\t la ville est : Cannes\n",
      "le chiffre est :    2564 ;\tla logement_par_catégorie est : 1 ;\t la ville est : Theoule-Sur-Mer\n",
      "le chiffre est :    1201 ;\tla logement_par_catégorie est : 2 ;\t la ville est : Mandelieu-La-Napoule\n",
      "le chiffre est :    501 ;\tla logement_par_catégorie est : 2 ;\t la ville est : Mougins\n",
      "le chiffre est :    940 ;\tla logement_par_catégorie est : 2 ;\t la ville est : Le Cannet\n",
      "le chiffre est :    2096 ;\tla logement_par_catégorie est : 2 ;\t la ville est : Cannes\n",
      "le chiffre est :    77 ;\tla logement_par_catégorie est : 2 ;\t la ville est : Theoule-Sur-Mer\n",
      "le chiffre est :    21234 ;\tla logement_par_catégorie est : 3 ;\t la ville est : Mandelieu-La-Napoule\n",
      "le chiffre est :    10887 ;\tla logement_par_catégorie est : 3 ;\t la ville est : Mougins\n",
      "le chiffre est :    26320 ;\tla logement_par_catégorie est : 3 ;\t la ville est : Le Cannet\n",
      "le chiffre est :    71264 ;\tla logement_par_catégorie est : 3 ;\t la ville est : Cannes\n",
      "le chiffre est :    3335 ;\tla logement_par_catégorie est : 3 ;\t la ville est : Theoule-Sur-Mer\n"
     ]
    }
   ],
   "source": [
    "for i in logement_par_catégorie.index:\n",
    "    for j in logement_par_catégorie.columns[2:]:\n",
    "        print(\"le chiffre est :   \", logement_par_catégorie.iloc[i][j],\";\\tla logement_par_catégorie est :\", i,\";\\t la ville est :\", str(j))"
   ]
  },
  {
   "cell_type": "markdown",
   "metadata": {},
   "source": [
    "### Analyse du jeu de données"
   ]
  },
  {
   "cell_type": "code",
   "execution_count": 53,
   "metadata": {},
   "outputs": [
    {
     "name": "stdout",
     "output_type": "stream",
     "text": [
      "Le jeu de donnees compte 54642 entreprises localisées dans les  5 villes de l'agglomération.\n"
     ]
    }
   ],
   "source": [
    "print(\"Le jeu de donnees compte\", entreprise.shape[0], \"entreprises localisées dans les \", ville.shape[0], \"villes de l'agglomération.\")"
   ]
  },
  {
   "cell_type": "markdown",
   "metadata": {},
   "source": [
    "### Décompte des secteurs d'activités"
   ]
  },
  {
   "cell_type": "code",
   "execution_count": 54,
   "metadata": {},
   "outputs": [
    {
     "data": {
      "text/plain": [
       "commune de cannes                  56\n",
       "commune le cannet                  25\n",
       "elres                              21\n",
       "commune de mandelieu la napoule    17\n",
       "distribution casino france         17\n",
       "Name: en_nom, dtype: int64"
      ]
     },
     "execution_count": 54,
     "metadata": {},
     "output_type": "execute_result"
    }
   ],
   "source": [
    "en_vc = entreprise['en_nom'].value_counts()\n",
    "en_vc.head(5)"
   ]
  },
  {
   "cell_type": "markdown",
   "metadata": {},
   "source": [
    "### Générer le résumé statistique du dataframe"
   ]
  },
  {
   "cell_type": "code",
   "execution_count": 55,
   "metadata": {},
   "outputs": [
    {
     "data": {
      "text/html": [
       "<div>\n",
       "<style scoped>\n",
       "    .dataframe tbody tr th:only-of-type {\n",
       "        vertical-align: middle;\n",
       "    }\n",
       "\n",
       "    .dataframe tbody tr th {\n",
       "        vertical-align: top;\n",
       "    }\n",
       "\n",
       "    .dataframe thead th {\n",
       "        text-align: right;\n",
       "    }\n",
       "</style>\n",
       "<table border=\"1\" class=\"dataframe\">\n",
       "  <thead>\n",
       "    <tr style=\"text-align: right;\">\n",
       "      <th></th>\n",
       "      <th>po_id</th>\n",
       "      <th>po_source</th>\n",
       "      <th>po_annee</th>\n",
       "      <th>po_nbre_pop</th>\n",
       "      <th>po_csp_id_fk</th>\n",
       "      <th>po_ag_id_fk</th>\n",
       "      <th>po_vi_id_fk</th>\n",
       "    </tr>\n",
       "  </thead>\n",
       "  <tbody>\n",
       "    <tr>\n",
       "      <th>count</th>\n",
       "      <td>135.000000</td>\n",
       "      <td>135</td>\n",
       "      <td>135.0</td>\n",
       "      <td>135.0</td>\n",
       "      <td>135.0</td>\n",
       "      <td>135.000000</td>\n",
       "      <td>135.0</td>\n",
       "    </tr>\n",
       "    <tr>\n",
       "      <th>unique</th>\n",
       "      <td>NaN</td>\n",
       "      <td>1</td>\n",
       "      <td>1.0</td>\n",
       "      <td>110.0</td>\n",
       "      <td>9.0</td>\n",
       "      <td>NaN</td>\n",
       "      <td>5.0</td>\n",
       "    </tr>\n",
       "    <tr>\n",
       "      <th>top</th>\n",
       "      <td>NaN</td>\n",
       "      <td>Insee, Recensement de la population (RP), expl...</td>\n",
       "      <td>2017.0</td>\n",
       "      <td>0.0</td>\n",
       "      <td>9.0</td>\n",
       "      <td>NaN</td>\n",
       "      <td>5.0</td>\n",
       "    </tr>\n",
       "    <tr>\n",
       "      <th>freq</th>\n",
       "      <td>NaN</td>\n",
       "      <td>135</td>\n",
       "      <td>135.0</td>\n",
       "      <td>12.0</td>\n",
       "      <td>15.0</td>\n",
       "      <td>NaN</td>\n",
       "      <td>27.0</td>\n",
       "    </tr>\n",
       "    <tr>\n",
       "      <th>mean</th>\n",
       "      <td>67.000000</td>\n",
       "      <td>NaN</td>\n",
       "      <td>NaN</td>\n",
       "      <td>NaN</td>\n",
       "      <td>NaN</td>\n",
       "      <td>2.000000</td>\n",
       "      <td>NaN</td>\n",
       "    </tr>\n",
       "    <tr>\n",
       "      <th>std</th>\n",
       "      <td>39.115214</td>\n",
       "      <td>NaN</td>\n",
       "      <td>NaN</td>\n",
       "      <td>NaN</td>\n",
       "      <td>NaN</td>\n",
       "      <td>0.819538</td>\n",
       "      <td>NaN</td>\n",
       "    </tr>\n",
       "    <tr>\n",
       "      <th>min</th>\n",
       "      <td>0.000000</td>\n",
       "      <td>NaN</td>\n",
       "      <td>NaN</td>\n",
       "      <td>NaN</td>\n",
       "      <td>NaN</td>\n",
       "      <td>1.000000</td>\n",
       "      <td>NaN</td>\n",
       "    </tr>\n",
       "    <tr>\n",
       "      <th>25%</th>\n",
       "      <td>33.500000</td>\n",
       "      <td>NaN</td>\n",
       "      <td>NaN</td>\n",
       "      <td>NaN</td>\n",
       "      <td>NaN</td>\n",
       "      <td>1.000000</td>\n",
       "      <td>NaN</td>\n",
       "    </tr>\n",
       "    <tr>\n",
       "      <th>50%</th>\n",
       "      <td>67.000000</td>\n",
       "      <td>NaN</td>\n",
       "      <td>NaN</td>\n",
       "      <td>NaN</td>\n",
       "      <td>NaN</td>\n",
       "      <td>2.000000</td>\n",
       "      <td>NaN</td>\n",
       "    </tr>\n",
       "    <tr>\n",
       "      <th>75%</th>\n",
       "      <td>100.500000</td>\n",
       "      <td>NaN</td>\n",
       "      <td>NaN</td>\n",
       "      <td>NaN</td>\n",
       "      <td>NaN</td>\n",
       "      <td>3.000000</td>\n",
       "      <td>NaN</td>\n",
       "    </tr>\n",
       "    <tr>\n",
       "      <th>max</th>\n",
       "      <td>134.000000</td>\n",
       "      <td>NaN</td>\n",
       "      <td>NaN</td>\n",
       "      <td>NaN</td>\n",
       "      <td>NaN</td>\n",
       "      <td>3.000000</td>\n",
       "      <td>NaN</td>\n",
       "    </tr>\n",
       "  </tbody>\n",
       "</table>\n",
       "</div>"
      ],
      "text/plain": [
       "             po_id                                          po_source  \\\n",
       "count   135.000000                                                135   \n",
       "unique         NaN                                                  1   \n",
       "top            NaN  Insee, Recensement de la population (RP), expl...   \n",
       "freq           NaN                                                135   \n",
       "mean     67.000000                                                NaN   \n",
       "std      39.115214                                                NaN   \n",
       "min       0.000000                                                NaN   \n",
       "25%      33.500000                                                NaN   \n",
       "50%      67.000000                                                NaN   \n",
       "75%     100.500000                                                NaN   \n",
       "max     134.000000                                                NaN   \n",
       "\n",
       "        po_annee  po_nbre_pop  po_csp_id_fk  po_ag_id_fk  po_vi_id_fk  \n",
       "count      135.0        135.0         135.0   135.000000        135.0  \n",
       "unique       1.0        110.0           9.0          NaN          5.0  \n",
       "top       2017.0          0.0           9.0          NaN          5.0  \n",
       "freq       135.0         12.0          15.0          NaN         27.0  \n",
       "mean         NaN          NaN           NaN     2.000000          NaN  \n",
       "std          NaN          NaN           NaN     0.819538          NaN  \n",
       "min          NaN          NaN           NaN     1.000000          NaN  \n",
       "25%          NaN          NaN           NaN     1.000000          NaN  \n",
       "50%          NaN          NaN           NaN     2.000000          NaN  \n",
       "75%          NaN          NaN           NaN     3.000000          NaN  \n",
       "max          NaN          NaN           NaN     3.000000          NaN  "
      ]
     },
     "execution_count": 55,
     "metadata": {},
     "output_type": "execute_result"
    }
   ],
   "source": [
    "population.describe(include='all')"
   ]
  },
  {
   "cell_type": "code",
   "execution_count": 56,
   "metadata": {},
   "outputs": [
    {
     "data": {
      "text/html": [
       "<div>\n",
       "<style scoped>\n",
       "    .dataframe tbody tr th:only-of-type {\n",
       "        vertical-align: middle;\n",
       "    }\n",
       "\n",
       "    .dataframe tbody tr th {\n",
       "        vertical-align: top;\n",
       "    }\n",
       "\n",
       "    .dataframe thead th {\n",
       "        text-align: right;\n",
       "    }\n",
       "</style>\n",
       "<table border=\"1\" class=\"dataframe\">\n",
       "  <thead>\n",
       "    <tr style=\"text-align: right;\">\n",
       "      <th></th>\n",
       "      <th>en_id</th>\n",
       "      <th>en_siren</th>\n",
       "      <th>en_nic</th>\n",
       "      <th>en_nom</th>\n",
       "      <th>en_sa_id_fk</th>\n",
       "      <th>en_adresse</th>\n",
       "      <th>en_code_postal</th>\n",
       "      <th>en_vi_id_fk</th>\n",
       "    </tr>\n",
       "  </thead>\n",
       "  <tbody>\n",
       "    <tr>\n",
       "      <th>count</th>\n",
       "      <td>54642</td>\n",
       "      <td>54642</td>\n",
       "      <td>54642</td>\n",
       "      <td>35449</td>\n",
       "      <td>54642</td>\n",
       "      <td>54642</td>\n",
       "      <td>54642</td>\n",
       "      <td>54642</td>\n",
       "    </tr>\n",
       "    <tr>\n",
       "      <th>unique</th>\n",
       "      <td>54642</td>\n",
       "      <td>52305</td>\n",
       "      <td>1001</td>\n",
       "      <td>32633</td>\n",
       "      <td>20</td>\n",
       "      <td>13795</td>\n",
       "      <td>6</td>\n",
       "      <td>5</td>\n",
       "    </tr>\n",
       "    <tr>\n",
       "      <th>top</th>\n",
       "      <td>38874639863</td>\n",
       "      <td>210600292</td>\n",
       "      <td>10</td>\n",
       "      <td>commune de cannes</td>\n",
       "      <td>12</td>\n",
       "      <td>29 bd de la ferrage</td>\n",
       "      <td>06400</td>\n",
       "      <td>1</td>\n",
       "    </tr>\n",
       "    <tr>\n",
       "      <th>freq</th>\n",
       "      <td>1</td>\n",
       "      <td>56</td>\n",
       "      <td>3522</td>\n",
       "      <td>56</td>\n",
       "      <td>19458</td>\n",
       "      <td>352</td>\n",
       "      <td>24233</td>\n",
       "      <td>29694</td>\n",
       "    </tr>\n",
       "  </tbody>\n",
       "</table>\n",
       "</div>"
      ],
      "text/plain": [
       "              en_id   en_siren  en_nic             en_nom  en_sa_id_fk  \\\n",
       "count         54642      54642   54642              35449        54642   \n",
       "unique        54642      52305    1001              32633           20   \n",
       "top     38874639863  210600292      10  commune de cannes           12   \n",
       "freq              1         56    3522                 56        19458   \n",
       "\n",
       "                 en_adresse en_code_postal  en_vi_id_fk  \n",
       "count                 54642          54642        54642  \n",
       "unique                13795              6            5  \n",
       "top     29 bd de la ferrage          06400            1  \n",
       "freq                    352          24233        29694  "
      ]
     },
     "execution_count": 56,
     "metadata": {},
     "output_type": "execute_result"
    }
   ],
   "source": [
    "entreprise.describe(include='all')"
   ]
  },
  {
   "cell_type": "markdown",
   "metadata": {},
   "source": [
    "---"
   ]
  },
  {
   "cell_type": "markdown",
   "metadata": {},
   "source": [
    "# <p style=\"font-family: serif; font-size:2.2em; text-align: center;\"><u>Data Cleaning DataFrames</u></p> "
   ]
  },
  {
   "cell_type": "markdown",
   "metadata": {},
   "source": [
    "L'Institut national de la statistique et des études économiques est une direction générale du ministère de l'Économie et des Finances. Il a pour mission de collecter, analyser et diffuser des informations sur l'économie et la société française sur l'ensemble de son territoire.\n",
    "\n",
    "L'INSEE est ainsi un organisme qui publie des statistiques officielles. Les données qui en ressortent sont dons déjà fiables, néttoyées. Les csv ne devraient donc pas nécessairement avoir besoin d'etre nottoyés.\n",
    "\n",
    "Pour pour s'assurer de l'intégrité de nos données, nous allons tout de meme y mener quelques vérifications."
   ]
  },
  {
   "cell_type": "markdown",
   "metadata": {},
   "source": [
    "# Décompte des valeurs manquantes "
   ]
  },
  {
   "cell_type": "markdown",
   "metadata": {},
   "source": [
    "### Dataframe Ville"
   ]
  },
  {
   "cell_type": "code",
   "execution_count": 57,
   "metadata": {},
   "outputs": [
    {
     "data": {
      "text/plain": [
       "vi_id     0\n",
       "vi_nom    0\n",
       "dtype: int64"
      ]
     },
     "execution_count": 57,
     "metadata": {},
     "output_type": "execute_result"
    }
   ],
   "source": [
    "ville.isna().sum()"
   ]
  },
  {
   "cell_type": "code",
   "execution_count": 58,
   "metadata": {},
   "outputs": [
    {
     "data": {
      "text/plain": [
       "0"
      ]
     },
     "execution_count": 58,
     "metadata": {},
     "output_type": "execute_result"
    }
   ],
   "source": [
    "ville.duplicated().sum()"
   ]
  },
  {
   "cell_type": "markdown",
   "metadata": {},
   "source": [
    "---"
   ]
  },
  {
   "cell_type": "markdown",
   "metadata": {},
   "source": [
    "### Dataframe secteur_activite"
   ]
  },
  {
   "cell_type": "code",
   "execution_count": 59,
   "metadata": {},
   "outputs": [
    {
     "data": {
      "text/plain": [
       "sa_id     0\n",
       "sa_nom    0\n",
       "dtype: int64"
      ]
     },
     "execution_count": 59,
     "metadata": {},
     "output_type": "execute_result"
    }
   ],
   "source": [
    "secteur_activite.isna().sum()"
   ]
  },
  {
   "cell_type": "code",
   "execution_count": 60,
   "metadata": {},
   "outputs": [
    {
     "data": {
      "text/plain": [
       "0"
      ]
     },
     "execution_count": 60,
     "metadata": {},
     "output_type": "execute_result"
    }
   ],
   "source": [
    "secteur_activite.duplicated().sum()"
   ]
  },
  {
   "cell_type": "markdown",
   "metadata": {},
   "source": [
    "---"
   ]
  },
  {
   "cell_type": "markdown",
   "metadata": {},
   "source": [
    "### Dataframe categorie_socio_pro"
   ]
  },
  {
   "cell_type": "code",
   "execution_count": 61,
   "metadata": {},
   "outputs": [
    {
     "data": {
      "text/plain": [
       "csp_id     0\n",
       "csp_nom    0\n",
       "dtype: int64"
      ]
     },
     "execution_count": 61,
     "metadata": {},
     "output_type": "execute_result"
    }
   ],
   "source": [
    "categorie_socio_pro.isna().sum()"
   ]
  },
  {
   "cell_type": "code",
   "execution_count": 62,
   "metadata": {},
   "outputs": [
    {
     "data": {
      "text/plain": [
       "0"
      ]
     },
     "execution_count": 62,
     "metadata": {},
     "output_type": "execute_result"
    }
   ],
   "source": [
    "categorie_socio_pro.duplicated().sum()"
   ]
  },
  {
   "cell_type": "markdown",
   "metadata": {},
   "source": [
    "---"
   ]
  },
  {
   "cell_type": "markdown",
   "metadata": {},
   "source": [
    "### Dataframe age"
   ]
  },
  {
   "cell_type": "code",
   "execution_count": 63,
   "metadata": {},
   "outputs": [
    {
     "data": {
      "text/plain": [
       "ag_id             0\n",
       "ag_tranche_age    0\n",
       "dtype: int64"
      ]
     },
     "execution_count": 63,
     "metadata": {},
     "output_type": "execute_result"
    }
   ],
   "source": [
    "age.isna().sum()"
   ]
  },
  {
   "cell_type": "code",
   "execution_count": 64,
   "metadata": {},
   "outputs": [
    {
     "data": {
      "text/plain": [
       "0"
      ]
     },
     "execution_count": 64,
     "metadata": {},
     "output_type": "execute_result"
    }
   ],
   "source": [
    "age.duplicated().sum()"
   ]
  },
  {
   "cell_type": "markdown",
   "metadata": {},
   "source": [
    "---"
   ]
  },
  {
   "cell_type": "markdown",
   "metadata": {},
   "source": [
    "### Dataframe categorie_logement"
   ]
  },
  {
   "cell_type": "code",
   "execution_count": 65,
   "metadata": {},
   "outputs": [
    {
     "data": {
      "text/plain": [
       "cl_id     0\n",
       "cl_nom    0\n",
       "dtype: int64"
      ]
     },
     "execution_count": 65,
     "metadata": {},
     "output_type": "execute_result"
    }
   ],
   "source": [
    "categorie_logement.isna().sum()"
   ]
  },
  {
   "cell_type": "code",
   "execution_count": 66,
   "metadata": {},
   "outputs": [
    {
     "data": {
      "text/plain": [
       "0"
      ]
     },
     "execution_count": 66,
     "metadata": {},
     "output_type": "execute_result"
    }
   ],
   "source": [
    "categorie_logement.duplicated().sum()"
   ]
  },
  {
   "cell_type": "markdown",
   "metadata": {},
   "source": [
    "---"
   ]
  },
  {
   "cell_type": "markdown",
   "metadata": {},
   "source": [
    "### Dataframe logement"
   ]
  },
  {
   "cell_type": "code",
   "execution_count": 67,
   "metadata": {},
   "outputs": [
    {
     "data": {
      "text/plain": [
       "lo_id          0\n",
       "lo_nbre        0\n",
       "lo_vi_id_fk    0\n",
       "lo_cl_id_fk    0\n",
       "dtype: int64"
      ]
     },
     "execution_count": 67,
     "metadata": {},
     "output_type": "execute_result"
    }
   ],
   "source": [
    "logement.isna().sum()"
   ]
  },
  {
   "cell_type": "code",
   "execution_count": 68,
   "metadata": {},
   "outputs": [
    {
     "data": {
      "text/plain": [
       "0"
      ]
     },
     "execution_count": 68,
     "metadata": {},
     "output_type": "execute_result"
    }
   ],
   "source": [
    "logement.duplicated().sum()"
   ]
  },
  {
   "cell_type": "markdown",
   "metadata": {},
   "source": [
    "---"
   ]
  },
  {
   "cell_type": "markdown",
   "metadata": {},
   "source": [
    "### Dataframe population"
   ]
  },
  {
   "cell_type": "code",
   "execution_count": 69,
   "metadata": {},
   "outputs": [
    {
     "data": {
      "text/plain": [
       "po_id           0\n",
       "po_source       0\n",
       "po_annee        0\n",
       "po_nbre_pop     0\n",
       "po_csp_id_fk    0\n",
       "po_ag_id_fk     0\n",
       "po_vi_id_fk     0\n",
       "dtype: int64"
      ]
     },
     "execution_count": 69,
     "metadata": {},
     "output_type": "execute_result"
    }
   ],
   "source": [
    "population.isna().sum()"
   ]
  },
  {
   "cell_type": "code",
   "execution_count": 70,
   "metadata": {},
   "outputs": [
    {
     "data": {
      "text/plain": [
       "0"
      ]
     },
     "execution_count": 70,
     "metadata": {},
     "output_type": "execute_result"
    }
   ],
   "source": [
    "population.duplicated().sum()"
   ]
  },
  {
   "cell_type": "markdown",
   "metadata": {},
   "source": [
    "---"
   ]
  },
  {
   "cell_type": "markdown",
   "metadata": {},
   "source": [
    "### Dataframe entreprise"
   ]
  },
  {
   "cell_type": "code",
   "execution_count": 71,
   "metadata": {},
   "outputs": [
    {
     "data": {
      "text/plain": [
       "en_id                 0\n",
       "en_siren              0\n",
       "en_nic                0\n",
       "en_nom            19193\n",
       "en_sa_id_fk           0\n",
       "en_adresse            0\n",
       "en_code_postal        0\n",
       "en_vi_id_fk           0\n",
       "dtype: int64"
      ]
     },
     "execution_count": 71,
     "metadata": {},
     "output_type": "execute_result"
    }
   ],
   "source": [
    "entreprise.isna().sum()"
   ]
  },
  {
   "cell_type": "code",
   "execution_count": 72,
   "metadata": {},
   "outputs": [
    {
     "data": {
      "text/plain": [
       "0"
      ]
     },
     "execution_count": 72,
     "metadata": {},
     "output_type": "execute_result"
    }
   ],
   "source": [
    "entreprise.duplicated().sum()"
   ]
  },
  {
   "cell_type": "markdown",
   "metadata": {},
   "source": [
    "---"
   ]
  },
  {
   "cell_type": "markdown",
   "metadata": {},
   "source": [
    "Les jeu de données est complet. Il n'y a pas besoin de droper de doublons par exemple.\n",
    "\n",
    "Nous pouvons procéder à l'intégration des données dans la base de données."
   ]
  },
  {
   "cell_type": "markdown",
   "metadata": {},
   "source": [
    "---"
   ]
  },
  {
   "cell_type": "markdown",
   "metadata": {},
   "source": [
    "# <p style=\"font-family: serif; font-size:2.2em; text-align: center;\"><u>Connexion et insertion des données dans la BDD</u></p> "
   ]
  },
  {
   "cell_type": "markdown",
   "metadata": {},
   "source": []
  },
  {
   "cell_type": "code",
   "execution_count": null,
   "metadata": {},
   "outputs": [],
   "source": []
  },
  {
   "cell_type": "code",
   "execution_count": null,
   "metadata": {},
   "outputs": [],
   "source": []
  },
  {
   "cell_type": "code",
   "execution_count": null,
   "metadata": {},
   "outputs": [],
   "source": []
  },
  {
   "cell_type": "markdown",
   "metadata": {},
   "source": [
    "## Connexion à la base de données sur Workbench"
   ]
  },
  {
   "cell_type": "code",
   "execution_count": 73,
   "metadata": {},
   "outputs": [],
   "source": [
    "engine = create_engine('mysql+' + config[\"connector\"] + '://' + config[\"user\"] + \":\" + password + \"@\" + config[\"host\"] + \":\" + config[\"port\"] + \"/\" + config[\"bdd\"], echo=True)"
   ]
  },
  {
   "cell_type": "code",
   "execution_count": 74,
   "metadata": {},
   "outputs": [
    {
     "name": "stdout",
     "output_type": "stream",
     "text": [
      "2020-12-07 12:10:30,239 INFO sqlalchemy.engine.base.Engine SHOW VARIABLES LIKE 'sql_mode'\n",
      "2020-12-07 12:10:30,240 INFO sqlalchemy.engine.base.Engine {}\n",
      "2020-12-07 12:10:30,356 INFO sqlalchemy.engine.base.Engine SHOW VARIABLES LIKE 'lower_case_table_names'\n",
      "2020-12-07 12:10:30,358 INFO sqlalchemy.engine.base.Engine {}\n",
      "2020-12-07 12:10:30,371 INFO sqlalchemy.engine.base.Engine SELECT DATABASE()\n",
      "2020-12-07 12:10:30,372 INFO sqlalchemy.engine.base.Engine {}\n",
      "2020-12-07 12:10:30,384 INFO sqlalchemy.engine.base.Engine show collation where `Charset` = 'utf8mb4' and `Collation` = 'utf8mb4_bin'\n",
      "2020-12-07 12:10:30,385 INFO sqlalchemy.engine.base.Engine {}\n",
      "2020-12-07 12:10:30,398 INFO sqlalchemy.engine.base.Engine SELECT CAST('test plain returns' AS CHAR(60)) AS anon_1\n",
      "2020-12-07 12:10:30,399 INFO sqlalchemy.engine.base.Engine {}\n",
      "2020-12-07 12:10:30,402 INFO sqlalchemy.engine.base.Engine SELECT CAST('test unicode returns' AS CHAR(60)) AS anon_1\n",
      "2020-12-07 12:10:30,403 INFO sqlalchemy.engine.base.Engine {}\n",
      "2020-12-07 12:10:30,421 INFO sqlalchemy.engine.base.Engine SELECT CAST('test collated returns' AS CHAR CHARACTER SET utf8mb4) COLLATE utf8mb4_bin AS anon_1\n",
      "2020-12-07 12:10:30,422 INFO sqlalchemy.engine.base.Engine {}\n",
      "2020-12-07 12:10:30,425 INFO sqlalchemy.engine.base.Engine DESCRIBE `ville`\n",
      "2020-12-07 12:10:30,426 INFO sqlalchemy.engine.base.Engine {}\n",
      "2020-12-07 12:10:30,444 INFO sqlalchemy.engine.base.Engine BEGIN (implicit)\n",
      "2020-12-07 12:10:30,445 INFO sqlalchemy.engine.base.Engine INSERT INTO ville (vi_id, vi_nom) VALUES (%(vi_id)s, %(vi_nom)s)\n",
      "2020-12-07 12:10:30,446 INFO sqlalchemy.engine.base.Engine ({'vi_id': 1, 'vi_nom': 'Cannes'}, {'vi_id': 2, 'vi_nom': 'Le Cannet'}, {'vi_id': 3, 'vi_nom': 'Mougins'}, {'vi_id': 4, 'vi_nom': 'Mandelieu-La-Napoule'}, {'vi_id': 5, 'vi_nom': 'Theoule-Sur-Mer'})\n",
      "2020-12-07 12:10:30,476 INFO sqlalchemy.engine.base.Engine COMMIT\n"
     ]
    }
   ],
   "source": [
    "ville.to_sql('ville', con=engine, if_exists='append', index=False)"
   ]
  },
  {
   "cell_type": "code",
   "execution_count": 75,
   "metadata": {},
   "outputs": [
    {
     "name": "stdout",
     "output_type": "stream",
     "text": [
      "2020-12-07 12:10:30,553 INFO sqlalchemy.engine.base.Engine DESCRIBE `secteur_activite`\n",
      "2020-12-07 12:10:30,554 INFO sqlalchemy.engine.base.Engine {}\n",
      "2020-12-07 12:10:30,683 INFO sqlalchemy.engine.base.Engine BEGIN (implicit)\n",
      "2020-12-07 12:10:30,685 INFO sqlalchemy.engine.base.Engine INSERT INTO secteur_activite (sa_id, sa_nom) VALUES (%(sa_id)s, %(sa_nom)s)\n",
      "2020-12-07 12:10:30,687 INFO sqlalchemy.engine.base.Engine ({'sa_id': 1, 'sa_nom': 'Agriculture, sylviculture et pêche'}, {'sa_id': 2, 'sa_nom': 'Industries extractives'}, {'sa_id': 3, 'sa_nom': 'Industrie manufacturière'}, {'sa_id': 4, 'sa_nom': \"Production et distribution d'électricité, de gaz, de vapeur et d'air conditionné\"}, {'sa_id': 5, 'sa_nom': \"Production et distribution d'eau ; assainissement, gestion des déchets et dépollution\"}, {'sa_id': 6, 'sa_nom': 'Construction'}, {'sa_id': 7, 'sa_nom': \"Commerce ; réparation d'automobiles et de motocycles\"}, {'sa_id': 8, 'sa_nom': 'Transports et entreposage'}  ... displaying 10 of 21 total bound parameter sets ...  {'sa_id': 20, 'sa_nom': \"Activités des ménages en tant qu'employeurs ; activités indifférenciées des ménages en tant que producteurs de biens et services pour usage propre\"}, {'sa_id': 21, 'sa_nom': 'Activités extra-territoriales'})\n",
      "2020-12-07 12:10:30,739 INFO sqlalchemy.engine.base.Engine COMMIT\n"
     ]
    }
   ],
   "source": [
    "secteur_activite.to_sql('secteur_activite', con=engine, if_exists='append', index=False)"
   ]
  },
  {
   "cell_type": "code",
   "execution_count": 76,
   "metadata": {},
   "outputs": [
    {
     "name": "stdout",
     "output_type": "stream",
     "text": [
      "2020-12-07 12:10:30,798 INFO sqlalchemy.engine.base.Engine DESCRIBE `categorie_socio_pro`\n",
      "2020-12-07 12:10:30,799 INFO sqlalchemy.engine.base.Engine {}\n",
      "2020-12-07 12:10:30,801 INFO sqlalchemy.engine.base.Engine BEGIN (implicit)\n",
      "2020-12-07 12:10:30,802 INFO sqlalchemy.engine.base.Engine INSERT INTO categorie_socio_pro (csp_id, csp_nom) VALUES (%(csp_id)s, %(csp_nom)s)\n",
      "2020-12-07 12:10:30,803 INFO sqlalchemy.engine.base.Engine ({'csp_id': 1, 'csp_nom': 'Agriculteurs exploitants'}, {'csp_id': 2, 'csp_nom': 'Artisans. commerçants. chefs entreprise'}, {'csp_id': 3, 'csp_nom': 'Cadres et professions intellectuelles supérieures'}, {'csp_id': 4, 'csp_nom': 'Professions intermédiaires'}, {'csp_id': 5, 'csp_nom': 'Employés'}, {'csp_id': 6, 'csp_nom': 'Ouvriers'}, {'csp_id': 7, 'csp_nom': 'Retraités'}, {'csp_id': 8, 'csp_nom': 'Autres personnes sans activité professionnelle'}, {'csp_id': 9, 'csp_nom': 'Total'})\n",
      "2020-12-07 12:10:30,825 INFO sqlalchemy.engine.base.Engine COMMIT\n"
     ]
    }
   ],
   "source": [
    "categorie_socio_pro.to_sql('categorie_socio_pro', con=engine, if_exists='append', index=False)"
   ]
  },
  {
   "cell_type": "code",
   "execution_count": 77,
   "metadata": {},
   "outputs": [
    {
     "name": "stdout",
     "output_type": "stream",
     "text": [
      "2020-12-07 12:10:31,005 INFO sqlalchemy.engine.base.Engine DESCRIBE `age`\n",
      "2020-12-07 12:10:31,006 INFO sqlalchemy.engine.base.Engine {}\n",
      "2020-12-07 12:10:31,049 INFO sqlalchemy.engine.base.Engine BEGIN (implicit)\n",
      "2020-12-07 12:10:31,051 INFO sqlalchemy.engine.base.Engine INSERT INTO age (ag_id, ag_tranche_age) VALUES (%(ag_id)s, %(ag_tranche_age)s)\n",
      "2020-12-07 12:10:31,052 INFO sqlalchemy.engine.base.Engine ({'ag_id': 1, 'ag_tranche_age': '15 a 24'}, {'ag_id': 2, 'ag_tranche_age': '25 a 54'}, {'ag_id': 3, 'ag_tranche_age': '55 et plus'})\n",
      "2020-12-07 12:10:31,056 INFO sqlalchemy.engine.base.Engine COMMIT\n"
     ]
    }
   ],
   "source": [
    "age.to_sql('age', con=engine, if_exists='append', index=False)"
   ]
  },
  {
   "cell_type": "code",
   "execution_count": 78,
   "metadata": {},
   "outputs": [
    {
     "name": "stdout",
     "output_type": "stream",
     "text": [
      "2020-12-07 12:10:31,156 INFO sqlalchemy.engine.base.Engine DESCRIBE `categorie_logement`\n",
      "2020-12-07 12:10:31,157 INFO sqlalchemy.engine.base.Engine {}\n",
      "2020-12-07 12:10:31,162 INFO sqlalchemy.engine.base.Engine BEGIN (implicit)\n",
      "2020-12-07 12:10:31,164 INFO sqlalchemy.engine.base.Engine INSERT INTO categorie_logement (cl_id, cl_nom) VALUES (%(cl_id)s, %(cl_nom)s)\n",
      "2020-12-07 12:10:31,166 INFO sqlalchemy.engine.base.Engine ({'cl_id': 1, 'cl_nom': 'Résidences principales'}, {'cl_id': 2, 'cl_nom': 'Résid. secondaires et log. occasionnels'}, {'cl_id': 3, 'cl_nom': 'Logements vacants'}, {'cl_id': 4, 'cl_nom': 'Total'})\n",
      "2020-12-07 12:10:31,171 INFO sqlalchemy.engine.base.Engine COMMIT\n"
     ]
    }
   ],
   "source": [
    "categorie_logement.to_sql('categorie_logement', con=engine, if_exists='append', index=False)"
   ]
  },
  {
   "cell_type": "code",
   "execution_count": 79,
   "metadata": {},
   "outputs": [
    {
     "name": "stdout",
     "output_type": "stream",
     "text": [
      "2020-12-07 12:10:31,360 INFO sqlalchemy.engine.base.Engine DESCRIBE `logement`\n",
      "2020-12-07 12:10:31,362 INFO sqlalchemy.engine.base.Engine {}\n",
      "2020-12-07 12:10:31,417 INFO sqlalchemy.engine.base.Engine BEGIN (implicit)\n",
      "2020-12-07 12:10:31,419 INFO sqlalchemy.engine.base.Engine INSERT INTO logement (lo_id, lo_nbre, lo_vi_id_fk, lo_cl_id_fk) VALUES (%(lo_id)s, %(lo_nbre)s, %(lo_vi_id_fk)s, %(lo_cl_id_fk)s)\n",
      "2020-12-07 12:10:31,420 INFO sqlalchemy.engine.base.Engine ({'lo_id': 1, 'lo_nbre': 11339, 'lo_vi_id_fk': 4, 'lo_cl_id_fk': 1}, {'lo_id': 2, 'lo_nbre': 8403, 'lo_vi_id_fk': 3, 'lo_cl_id_fk': 1}, {'lo_id': 3, 'lo_nbre': 21276, 'lo_vi_id_fk': 2, 'lo_cl_id_fk': 1}, {'lo_id': 4, 'lo_nbre': 37735, 'lo_vi_id_fk': 1, 'lo_cl_id_fk': 1}, {'lo_id': 5, 'lo_nbre': 694, 'lo_vi_id_fk': 5, 'lo_cl_id_fk': 1}, {'lo_id': 6, 'lo_nbre': 8694, 'lo_vi_id_fk': 4, 'lo_cl_id_fk': 2}, {'lo_id': 7, 'lo_nbre': 1983, 'lo_vi_id_fk': 3, 'lo_cl_id_fk': 2}, {'lo_id': 8, 'lo_nbre': 4104, 'lo_vi_id_fk': 2, 'lo_cl_id_fk': 2}  ... displaying 10 of 20 total bound parameter sets ...  {'lo_id': 19, 'lo_nbre': 71264, 'lo_vi_id_fk': 1, 'lo_cl_id_fk': 4}, {'lo_id': 20, 'lo_nbre': 3335, 'lo_vi_id_fk': 5, 'lo_cl_id_fk': 4})\n",
      "2020-12-07 12:10:31,631 INFO sqlalchemy.engine.base.Engine COMMIT\n"
     ]
    }
   ],
   "source": [
    "logement.to_sql('logement', con=engine, if_exists='append', index=False)"
   ]
  },
  {
   "cell_type": "markdown",
   "metadata": {},
   "source": [
    "---"
   ]
  },
  {
   "cell_type": "markdown",
   "metadata": {},
   "source": [
    "Une valeur a du etre rajouté car l'indexaction pour la table population est définie par la colonne des Siren, et non pas par l'id (comme pour les autres tables). Or les codes Siren comprennent une suite de 9 chiffres, alors que l'indexation commencent avec la valeur 1. En ajoutant une nouvelle valeur, l'index de la table prendra cette nouvelle donnée comme référence et pourra ainsi entrer les suivantes.\n",
    "\n",
    "Pour l'ajout de cette valeur la commande suivante a été crée :\n",
    "\n",
    "INSERT INTO population (po_id, po_source, po_annee, po_nbre_pop, po_csp_id_fk, po_ag_id_fk, po_vi_id_fk) \n",
    "\n",
    "VALUES (111111, \"ligne insertion\" , 2017, 1, 1, 1, 1);"
   ]
  },
  {
   "cell_type": "code",
   "execution_count": 81,
   "metadata": {},
   "outputs": [
    {
     "name": "stdout",
     "output_type": "stream",
     "text": [
      "2020-12-07 12:19:53,676 INFO sqlalchemy.engine.base.Engine DESCRIBE `population`\n",
      "2020-12-07 12:19:53,678 INFO sqlalchemy.engine.base.Engine {}\n",
      "2020-12-07 12:19:53,680 INFO sqlalchemy.engine.base.Engine BEGIN (implicit)\n",
      "2020-12-07 12:19:53,683 INFO sqlalchemy.engine.base.Engine INSERT INTO population (po_id, po_source, po_annee, po_nbre_pop, po_csp_id_fk, po_ag_id_fk, po_vi_id_fk) VALUES (%(po_id)s, %(po_source)s, %(po_annee)s, %(po_nbre_pop)s, %(po_csp_id_fk)s, %(po_ag_id_fk)s, %(po_vi_id_fk)s)\n",
      "2020-12-07 12:19:53,684 INFO sqlalchemy.engine.base.Engine ({'po_id': 0, 'po_source': 'Insee, Recensement de la population (RP), exploitation complémentaire - 2017', 'po_annee': 2017, 'po_nbre_pop': 0, 'po_csp_id_fk': 1, 'po_ag_id_fk': 1, 'po_vi_id_fk': 4}, {'po_id': 1, 'po_source': 'Insee, Recensement de la population (RP), exploitation complémentaire - 2017', 'po_annee': 2017, 'po_nbre_pop': 0, 'po_csp_id_fk': 1, 'po_ag_id_fk': 1, 'po_vi_id_fk': 3}, {'po_id': 2, 'po_source': 'Insee, Recensement de la population (RP), exploitation complémentaire - 2017', 'po_annee': 2017, 'po_nbre_pop': 0, 'po_csp_id_fk': 1, 'po_ag_id_fk': 1, 'po_vi_id_fk': 2}, {'po_id': 3, 'po_source': 'Insee, Recensement de la population (RP), exploitation complémentaire - 2017', 'po_annee': 2017, 'po_nbre_pop': 0, 'po_csp_id_fk': 1, 'po_ag_id_fk': 1, 'po_vi_id_fk': 1}, {'po_id': 4, 'po_source': 'Insee, Recensement de la population (RP), exploitation complémentaire - 2017', 'po_annee': 2017, 'po_nbre_pop': 0, 'po_csp_id_fk': 1, 'po_ag_id_fk': 1, 'po_vi_id_fk': 5}, {'po_id': 5, 'po_source': 'Insee, Recensement de la population (RP), exploitation complémentaire - 2017', 'po_annee': 2017, 'po_nbre_pop': 16, 'po_csp_id_fk': 2, 'po_ag_id_fk': 1, 'po_vi_id_fk': 4}, {'po_id': 6, 'po_source': 'Insee, Recensement de la population (RP), exploitation complémentaire - 2017', 'po_annee': 2017, 'po_nbre_pop': 34, 'po_csp_id_fk': 2, 'po_ag_id_fk': 1, 'po_vi_id_fk': 3}, {'po_id': 7, 'po_source': 'Insee, Recensement de la population (RP), exploitation complémentaire - 2017', 'po_annee': 2017, 'po_nbre_pop': 26, 'po_csp_id_fk': 2, 'po_ag_id_fk': 1, 'po_vi_id_fk': 2}  ... displaying 10 of 135 total bound parameter sets ...  {'po_id': 133, 'po_source': 'Insee, Recensement de la population (RP), exploitation complémentaire - 2017', 'po_annee': 2017, 'po_nbre_pop': 31161, 'po_csp_id_fk': 9, 'po_ag_id_fk': 3, 'po_vi_id_fk': 1}, {'po_id': 134, 'po_source': 'Insee, Recensement de la population (RP), exploitation complémentaire - 2017', 'po_annee': 2017, 'po_nbre_pop': 623, 'po_csp_id_fk': 9, 'po_ag_id_fk': 3, 'po_vi_id_fk': 5})\n",
      "2020-12-07 12:19:53,884 INFO sqlalchemy.engine.base.Engine COMMIT\n"
     ]
    }
   ],
   "source": [
    "population.to_sql('population', con=engine, if_exists='append', index=False)"
   ]
  },
  {
   "cell_type": "markdown",
   "metadata": {},
   "source": [
    "Nous avons "
   ]
  },
  {
   "cell_type": "markdown",
   "metadata": {},
   "source": [
    "---"
   ]
  },
  {
   "cell_type": "code",
   "execution_count": 82,
   "metadata": {},
   "outputs": [
    {
     "name": "stdout",
     "output_type": "stream",
     "text": [
      "2020-12-07 12:29:44,226 INFO sqlalchemy.engine.base.Engine DESCRIBE `entreprise`\n",
      "2020-12-07 12:29:44,227 INFO sqlalchemy.engine.base.Engine {}\n",
      "2020-12-07 12:29:44,341 INFO sqlalchemy.engine.base.Engine BEGIN (implicit)\n",
      "2020-12-07 12:29:45,002 INFO sqlalchemy.engine.base.Engine INSERT INTO entreprise (en_id, en_siren, en_nic, en_nom, en_sa_id_fk, en_adresse, en_code_postal, en_vi_id_fk) VALUES (%(en_id)s, %(en_siren)s, %(en_nic)s, %(en_nom)s, %(en_sa_id_fk)s, %(en_adresse)s, %(en_code_postal)s, %(en_vi_id_fk)s)\n",
      "2020-12-07 12:29:45,003 INFO sqlalchemy.engine.base.Engine ({'en_id': 631096522, 'en_siren': 6310965, 'en_nic': 22, 'en_nom': None, 'en_sa_id_fk': 12, 'en_adresse': ' av gaston de fontmichel', 'en_code_postal': '06210', 'en_vi_id_fk': 4}, {'en_id': 1558007934, 'en_siren': 15580079, 'en_nic': 34, 'en_nom': 'societe immobiliere walter sperger', 'en_sa_id_fk': 12, 'en_adresse': '2 bd leader', 'en_code_postal': '06150', 'en_vi_id_fk': 1}, {'en_id': 1976012318, 'en_siren': 19760123, 'en_nic': 18, 'en_nom': 'ctim noailles', 'en_sa_id_fk': 14, 'en_adresse': '17 av de grasse', 'en_code_postal': '06400', 'en_vi_id_fk': 1}, {'en_id': 1976014913, 'en_siren': 19760149, 'en_nic': 13, 'en_nom': 'ctim durango', 'en_sa_id_fk': 14, 'en_adresse': '116 bd sadi carnot', 'en_code_postal': '06110', 'en_vi_id_fk': 2}, {'en_id': 1976020611, 'en_siren': 19760206, 'en_nic': 11, 'en_nom': 'ctim residence gallia', 'en_sa_id_fk': 14, 'en_adresse': '27 bd montfleury', 'en_code_postal': '06400', 'en_vi_id_fk': 1}, {'en_id': 1976090910, 'en_siren': 19760909, 'en_nic': 10, 'en_nom': 'ctim grand sud', 'en_sa_id_fk': 14, 'en_adresse': '1 bd sadi carnot', 'en_code_postal': '06110', 'en_vi_id_fk': 2}, {'en_id': 1976121218, 'en_siren': 19761212, 'en_nic': 18, 'en_nom': 'ctim emeraude', 'en_sa_id_fk': 14, 'en_adresse': '7 rue du lac', 'en_code_postal': '06400', 'en_vi_id_fk': 1}, {'en_id': 1976151916, 'en_siren': 19761519, 'en_nic': 16, 'en_nom': 'ctim villa lerina', 'en_sa_id_fk': 14, 'en_adresse': '63 bd de la croisette', 'en_code_postal': '06400', 'en_vi_id_fk': 1}  ... displaying 10 of 54642 total bound parameter sets ...  {'en_id': 99882350424209, 'en_siren': 998823504, 'en_nic': 24209, 'en_nom': 'adecco france', 'en_sa_id_fk': 14, 'en_adresse': '3 rue du bosquet', 'en_code_postal': '06150', 'en_vi_id_fk': 1}, {'en_id': 99882350432376, 'en_siren': 998823504, 'en_nic': 32376, 'en_nom': 'adecco france', 'en_sa_id_fk': 14, 'en_adresse': '226 av saint exupery', 'en_code_postal': '06210', 'en_vi_id_fk': 4})\n",
      "2020-12-07 12:29:51,524 INFO sqlalchemy.engine.base.Engine COMMIT\n"
     ]
    }
   ],
   "source": [
    "entreprise.to_sql('entreprise', con=engine, if_exists='append', index=False)"
   ]
  },
  {
   "cell_type": "code",
   "execution_count": null,
   "metadata": {},
   "outputs": [],
   "source": []
  }
 ],
 "metadata": {
  "kernelspec": {
   "display_name": "Python 3",
   "language": "python",
   "name": "python3"
  },
  "language_info": {
   "codemirror_mode": {
    "name": "ipython",
    "version": 3
   },
   "file_extension": ".py",
   "mimetype": "text/x-python",
   "name": "python",
   "nbconvert_exporter": "python",
   "pygments_lexer": "ipython3",
   "version": "3.7.6"
  }
 },
 "nbformat": 4,
 "nbformat_minor": 4
}
