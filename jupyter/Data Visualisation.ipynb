{
 "cells": [
  {
   "cell_type": "markdown",
   "metadata": {},
   "source": [
    "# Importation des librairies"
   ]
  },
  {
   "cell_type": "code",
   "execution_count": 73,
   "metadata": {},
   "outputs": [],
   "source": [
    "import pandas as pd\n",
    "import seaborn as sns\n",
    "import matplotlib.pyplot as plt\n",
    "import plotly\n",
    "import plotly.express as px\n",
    "from json import load\n",
    "from sqlalchemy import create_engine"
   ]
  },
  {
   "cell_type": "code",
   "execution_count": 30,
   "metadata": {},
   "outputs": [],
   "source": [
    "#On importe le fichier json pour rendre anonyme l'entrée de nos données personnelles lors de la connexion avec la base de données \n",
    "fichierConfig = \"../data/config.json\" \n",
    "with open(fichierConfig) as fichier:config = json.load(fichier)[\"mysql\"]"
   ]
  },
  {
   "cell_type": "code",
   "execution_count": 31,
   "metadata": {},
   "outputs": [],
   "source": [
    "engine = create_engine('mysql+' + config[\"connector\"] + '://' + config[\"user\"] + \":\" + config[\"password\"] + \"@\" + config[\"host\"] + \":\" + config[\"port\"] + \"/\" + config[\"bdd\"], echo=True)"
   ]
  },
  {
   "cell_type": "code",
   "execution_count": 39,
   "metadata": {},
   "outputs": [
    {
     "name": "stdout",
     "output_type": "stream",
     "text": [
      "2020-12-24 17:07:41,266 INFO sqlalchemy.engine.base.Engine SELECT * FROM categorie_socio_pro JOIN population\n",
      "ON categorie_socio_pro.csp_id = population.po_csp_id_fk\n",
      "JOIN ville\n",
      "ON population.po_vi_id_fk = ville.vi_id\n",
      "JOIN age \n",
      "ON age.ag_id = population.po_ag_id_fk;\n",
      "2020-12-24 17:07:41,267 INFO sqlalchemy.engine.base.Engine {}\n"
     ]
    },
    {
     "data": {
      "text/html": [
       "<div>\n",
       "<style scoped>\n",
       "    .dataframe tbody tr th:only-of-type {\n",
       "        vertical-align: middle;\n",
       "    }\n",
       "\n",
       "    .dataframe tbody tr th {\n",
       "        vertical-align: top;\n",
       "    }\n",
       "\n",
       "    .dataframe thead th {\n",
       "        text-align: right;\n",
       "    }\n",
       "</style>\n",
       "<table border=\"1\" class=\"dataframe\">\n",
       "  <thead>\n",
       "    <tr style=\"text-align: right;\">\n",
       "      <th></th>\n",
       "      <th>csp_id</th>\n",
       "      <th>csp_nom</th>\n",
       "      <th>po_id</th>\n",
       "      <th>po_source</th>\n",
       "      <th>po_annee</th>\n",
       "      <th>po_nbre_pop</th>\n",
       "      <th>po_csp_id_fk</th>\n",
       "      <th>po_ag_id_fk</th>\n",
       "      <th>po_vi_id_fk</th>\n",
       "      <th>vi_id</th>\n",
       "      <th>vi_nom</th>\n",
       "      <th>ag_id</th>\n",
       "      <th>ag_tranche_age</th>\n",
       "    </tr>\n",
       "  </thead>\n",
       "  <tbody>\n",
       "    <tr>\n",
       "      <th>0</th>\n",
       "      <td>1</td>\n",
       "      <td>Agriculteurs exploitants</td>\n",
       "      <td>3</td>\n",
       "      <td>Insee, Recensement de la population (RP), expl...</td>\n",
       "      <td>2017</td>\n",
       "      <td>0</td>\n",
       "      <td>1</td>\n",
       "      <td>1</td>\n",
       "      <td>1</td>\n",
       "      <td>1</td>\n",
       "      <td>Cannes</td>\n",
       "      <td>1</td>\n",
       "      <td>15 a 24</td>\n",
       "    </tr>\n",
       "    <tr>\n",
       "      <th>1</th>\n",
       "      <td>2</td>\n",
       "      <td>Artisans. commerçants. chefs entreprise</td>\n",
       "      <td>8</td>\n",
       "      <td>Insee, Recensement de la population (RP), expl...</td>\n",
       "      <td>2017</td>\n",
       "      <td>40</td>\n",
       "      <td>2</td>\n",
       "      <td>1</td>\n",
       "      <td>1</td>\n",
       "      <td>1</td>\n",
       "      <td>Cannes</td>\n",
       "      <td>1</td>\n",
       "      <td>15 a 24</td>\n",
       "    </tr>\n",
       "    <tr>\n",
       "      <th>2</th>\n",
       "      <td>3</td>\n",
       "      <td>Cadres et professions intellectuelles supérieures</td>\n",
       "      <td>13</td>\n",
       "      <td>Insee, Recensement de la population (RP), expl...</td>\n",
       "      <td>2017</td>\n",
       "      <td>72</td>\n",
       "      <td>3</td>\n",
       "      <td>1</td>\n",
       "      <td>1</td>\n",
       "      <td>1</td>\n",
       "      <td>Cannes</td>\n",
       "      <td>1</td>\n",
       "      <td>15 a 24</td>\n",
       "    </tr>\n",
       "    <tr>\n",
       "      <th>3</th>\n",
       "      <td>4</td>\n",
       "      <td>Professions intermédiaires</td>\n",
       "      <td>18</td>\n",
       "      <td>Insee, Recensement de la population (RP), expl...</td>\n",
       "      <td>2017</td>\n",
       "      <td>477</td>\n",
       "      <td>4</td>\n",
       "      <td>1</td>\n",
       "      <td>1</td>\n",
       "      <td>1</td>\n",
       "      <td>Cannes</td>\n",
       "      <td>1</td>\n",
       "      <td>15 a 24</td>\n",
       "    </tr>\n",
       "    <tr>\n",
       "      <th>4</th>\n",
       "      <td>5</td>\n",
       "      <td>Employés</td>\n",
       "      <td>23</td>\n",
       "      <td>Insee, Recensement de la population (RP), expl...</td>\n",
       "      <td>2017</td>\n",
       "      <td>1324</td>\n",
       "      <td>5</td>\n",
       "      <td>1</td>\n",
       "      <td>1</td>\n",
       "      <td>1</td>\n",
       "      <td>Cannes</td>\n",
       "      <td>1</td>\n",
       "      <td>15 a 24</td>\n",
       "    </tr>\n",
       "    <tr>\n",
       "      <th>...</th>\n",
       "      <td>...</td>\n",
       "      <td>...</td>\n",
       "      <td>...</td>\n",
       "      <td>...</td>\n",
       "      <td>...</td>\n",
       "      <td>...</td>\n",
       "      <td>...</td>\n",
       "      <td>...</td>\n",
       "      <td>...</td>\n",
       "      <td>...</td>\n",
       "      <td>...</td>\n",
       "      <td>...</td>\n",
       "      <td>...</td>\n",
       "    </tr>\n",
       "    <tr>\n",
       "      <th>130</th>\n",
       "      <td>5</td>\n",
       "      <td>Employés</td>\n",
       "      <td>114</td>\n",
       "      <td>Insee, Recensement de la population (RP), expl...</td>\n",
       "      <td>2017</td>\n",
       "      <td>52</td>\n",
       "      <td>5</td>\n",
       "      <td>3</td>\n",
       "      <td>5</td>\n",
       "      <td>5</td>\n",
       "      <td>Theoule-Sur-Mer</td>\n",
       "      <td>3</td>\n",
       "      <td>0</td>\n",
       "    </tr>\n",
       "    <tr>\n",
       "      <th>131</th>\n",
       "      <td>6</td>\n",
       "      <td>Ouvriers</td>\n",
       "      <td>119</td>\n",
       "      <td>Insee, Recensement de la population (RP), expl...</td>\n",
       "      <td>2017</td>\n",
       "      <td>5</td>\n",
       "      <td>6</td>\n",
       "      <td>3</td>\n",
       "      <td>5</td>\n",
       "      <td>5</td>\n",
       "      <td>Theoule-Sur-Mer</td>\n",
       "      <td>3</td>\n",
       "      <td>0</td>\n",
       "    </tr>\n",
       "    <tr>\n",
       "      <th>132</th>\n",
       "      <td>7</td>\n",
       "      <td>Retraités</td>\n",
       "      <td>124</td>\n",
       "      <td>Insee, Recensement de la population (RP), expl...</td>\n",
       "      <td>2017</td>\n",
       "      <td>429</td>\n",
       "      <td>7</td>\n",
       "      <td>3</td>\n",
       "      <td>5</td>\n",
       "      <td>5</td>\n",
       "      <td>Theoule-Sur-Mer</td>\n",
       "      <td>3</td>\n",
       "      <td>0</td>\n",
       "    </tr>\n",
       "    <tr>\n",
       "      <th>133</th>\n",
       "      <td>8</td>\n",
       "      <td>Autres personnes sans activité professionnelle</td>\n",
       "      <td>129</td>\n",
       "      <td>Insee, Recensement de la population (RP), expl...</td>\n",
       "      <td>2017</td>\n",
       "      <td>64</td>\n",
       "      <td>8</td>\n",
       "      <td>3</td>\n",
       "      <td>5</td>\n",
       "      <td>5</td>\n",
       "      <td>Theoule-Sur-Mer</td>\n",
       "      <td>3</td>\n",
       "      <td>0</td>\n",
       "    </tr>\n",
       "    <tr>\n",
       "      <th>134</th>\n",
       "      <td>9</td>\n",
       "      <td>Total</td>\n",
       "      <td>134</td>\n",
       "      <td>Insee, Recensement de la population (RP), expl...</td>\n",
       "      <td>2017</td>\n",
       "      <td>623</td>\n",
       "      <td>9</td>\n",
       "      <td>3</td>\n",
       "      <td>5</td>\n",
       "      <td>5</td>\n",
       "      <td>Theoule-Sur-Mer</td>\n",
       "      <td>3</td>\n",
       "      <td>0</td>\n",
       "    </tr>\n",
       "  </tbody>\n",
       "</table>\n",
       "<p>135 rows × 13 columns</p>\n",
       "</div>"
      ],
      "text/plain": [
       "     csp_id                                            csp_nom  po_id  \\\n",
       "0         1                           Agriculteurs exploitants      3   \n",
       "1         2            Artisans. commerçants. chefs entreprise      8   \n",
       "2         3  Cadres et professions intellectuelles supérieures     13   \n",
       "3         4                         Professions intermédiaires     18   \n",
       "4         5                                           Employés     23   \n",
       "..      ...                                                ...    ...   \n",
       "130       5                                           Employés    114   \n",
       "131       6                                           Ouvriers    119   \n",
       "132       7                                          Retraités    124   \n",
       "133       8     Autres personnes sans activité professionnelle    129   \n",
       "134       9                                              Total    134   \n",
       "\n",
       "                                             po_source  po_annee  po_nbre_pop  \\\n",
       "0    Insee, Recensement de la population (RP), expl...      2017            0   \n",
       "1    Insee, Recensement de la population (RP), expl...      2017           40   \n",
       "2    Insee, Recensement de la population (RP), expl...      2017           72   \n",
       "3    Insee, Recensement de la population (RP), expl...      2017          477   \n",
       "4    Insee, Recensement de la population (RP), expl...      2017         1324   \n",
       "..                                                 ...       ...          ...   \n",
       "130  Insee, Recensement de la population (RP), expl...      2017           52   \n",
       "131  Insee, Recensement de la population (RP), expl...      2017            5   \n",
       "132  Insee, Recensement de la population (RP), expl...      2017          429   \n",
       "133  Insee, Recensement de la population (RP), expl...      2017           64   \n",
       "134  Insee, Recensement de la population (RP), expl...      2017          623   \n",
       "\n",
       "     po_csp_id_fk  po_ag_id_fk  po_vi_id_fk  vi_id           vi_nom  ag_id  \\\n",
       "0               1            1            1      1           Cannes      1   \n",
       "1               2            1            1      1           Cannes      1   \n",
       "2               3            1            1      1           Cannes      1   \n",
       "3               4            1            1      1           Cannes      1   \n",
       "4               5            1            1      1           Cannes      1   \n",
       "..            ...          ...          ...    ...              ...    ...   \n",
       "130             5            3            5      5  Theoule-Sur-Mer      3   \n",
       "131             6            3            5      5  Theoule-Sur-Mer      3   \n",
       "132             7            3            5      5  Theoule-Sur-Mer      3   \n",
       "133             8            3            5      5  Theoule-Sur-Mer      3   \n",
       "134             9            3            5      5  Theoule-Sur-Mer      3   \n",
       "\n",
       "    ag_tranche_age  \n",
       "0          15 a 24  \n",
       "1          15 a 24  \n",
       "2          15 a 24  \n",
       "3          15 a 24  \n",
       "4          15 a 24  \n",
       "..             ...  \n",
       "130              0  \n",
       "131              0  \n",
       "132              0  \n",
       "133              0  \n",
       "134              0  \n",
       "\n",
       "[135 rows x 13 columns]"
      ]
     },
     "execution_count": 39,
     "metadata": {},
     "output_type": "execute_result"
    }
   ],
   "source": [
    "#On place dans une variable les jointures des tables catégorie socio-pro, population, ville et age\n",
    "jointure_csp_age_ville = \"\"\"SELECT * FROM categorie_socio_pro JOIN population\n",
    "ON categorie_socio_pro.csp_id = population.po_csp_id_fk\n",
    "JOIN ville\n",
    "ON population.po_vi_id_fk = ville.vi_id\n",
    "JOIN age \n",
    "ON age.ag_id = population.po_ag_id_fk;\"\"\"\n",
    "\n",
    "#On charge la variable que l'on vient de créer en la connectant à la BDD\n",
    "df = pd.read_sql_query(jointure_csp_ville, engine)\n",
    "df"
   ]
  },
  {
   "cell_type": "code",
   "execution_count": 41,
   "metadata": {},
   "outputs": [
    {
     "name": "stdout",
     "output_type": "stream",
     "text": [
      "2020-12-24 17:08:13,232 INFO sqlalchemy.engine.base.Engine SELECT * FROM ville\n",
      "JOIN entreprise\n",
      "ON ville.vi_id = entreprise.en_vi_id_fk\n",
      "JOIN secteur_activite\n",
      "ON entreprise.en_sa_id_fk = secteur_activite.sa_id;\n",
      "2020-12-24 17:08:13,233 INFO sqlalchemy.engine.base.Engine {}\n"
     ]
    },
    {
     "data": {
      "text/html": [
       "<div>\n",
       "<style scoped>\n",
       "    .dataframe tbody tr th:only-of-type {\n",
       "        vertical-align: middle;\n",
       "    }\n",
       "\n",
       "    .dataframe tbody tr th {\n",
       "        vertical-align: top;\n",
       "    }\n",
       "\n",
       "    .dataframe thead th {\n",
       "        text-align: right;\n",
       "    }\n",
       "</style>\n",
       "<table border=\"1\" class=\"dataframe\">\n",
       "  <thead>\n",
       "    <tr style=\"text-align: right;\">\n",
       "      <th></th>\n",
       "      <th>vi_id</th>\n",
       "      <th>vi_nom</th>\n",
       "      <th>en_id</th>\n",
       "      <th>en_nom</th>\n",
       "      <th>en_siren</th>\n",
       "      <th>en_nic</th>\n",
       "      <th>en_adresse</th>\n",
       "      <th>en_code_postal</th>\n",
       "      <th>en_vi_id_fk</th>\n",
       "      <th>en_sa_id_fk</th>\n",
       "      <th>sa_id</th>\n",
       "      <th>sa_nom</th>\n",
       "    </tr>\n",
       "  </thead>\n",
       "  <tbody>\n",
       "    <tr>\n",
       "      <th>0</th>\n",
       "      <td>1</td>\n",
       "      <td>Cannes</td>\n",
       "      <td>30431958528</td>\n",
       "      <td>None</td>\n",
       "      <td>304319585</td>\n",
       "      <td>28</td>\n",
       "      <td>av pierre de coubertin</td>\n",
       "      <td>6150</td>\n",
       "      <td>1</td>\n",
       "      <td>1</td>\n",
       "      <td>1</td>\n",
       "      <td>Agriculture, sylviculture et pêche</td>\n",
       "    </tr>\n",
       "    <tr>\n",
       "      <th>1</th>\n",
       "      <td>1</td>\n",
       "      <td>Cannes</td>\n",
       "      <td>31056075013</td>\n",
       "      <td>None</td>\n",
       "      <td>310560750</td>\n",
       "      <td>13</td>\n",
       "      <td>46 bd du perier</td>\n",
       "      <td>6400</td>\n",
       "      <td>1</td>\n",
       "      <td>1</td>\n",
       "      <td>1</td>\n",
       "      <td>Agriculture, sylviculture et pêche</td>\n",
       "    </tr>\n",
       "    <tr>\n",
       "      <th>2</th>\n",
       "      <td>1</td>\n",
       "      <td>Cannes</td>\n",
       "      <td>32668413113</td>\n",
       "      <td>groupe forestier de la montagne orpiere</td>\n",
       "      <td>326684131</td>\n",
       "      <td>13</td>\n",
       "      <td>26 av coste belle</td>\n",
       "      <td>6400</td>\n",
       "      <td>1</td>\n",
       "      <td>1</td>\n",
       "      <td>1</td>\n",
       "      <td>Agriculture, sylviculture et pêche</td>\n",
       "    </tr>\n",
       "    <tr>\n",
       "      <th>3</th>\n",
       "      <td>1</td>\n",
       "      <td>Cannes</td>\n",
       "      <td>32823582536</td>\n",
       "      <td>None</td>\n",
       "      <td>328235825</td>\n",
       "      <td>36</td>\n",
       "      <td>9 rue lalanne</td>\n",
       "      <td>6400</td>\n",
       "      <td>1</td>\n",
       "      <td>1</td>\n",
       "      <td>1</td>\n",
       "      <td>Agriculture, sylviculture et pêche</td>\n",
       "    </tr>\n",
       "    <tr>\n",
       "      <th>4</th>\n",
       "      <td>1</td>\n",
       "      <td>Cannes</td>\n",
       "      <td>33135939812</td>\n",
       "      <td>None</td>\n",
       "      <td>331359398</td>\n",
       "      <td>12</td>\n",
       "      <td>che de l abadie</td>\n",
       "      <td>6150</td>\n",
       "      <td>1</td>\n",
       "      <td>1</td>\n",
       "      <td>1</td>\n",
       "      <td>Agriculture, sylviculture et pêche</td>\n",
       "    </tr>\n",
       "    <tr>\n",
       "      <th>...</th>\n",
       "      <td>...</td>\n",
       "      <td>...</td>\n",
       "      <td>...</td>\n",
       "      <td>...</td>\n",
       "      <td>...</td>\n",
       "      <td>...</td>\n",
       "      <td>...</td>\n",
       "      <td>...</td>\n",
       "      <td>...</td>\n",
       "      <td>...</td>\n",
       "      <td>...</td>\n",
       "      <td>...</td>\n",
       "    </tr>\n",
       "    <tr>\n",
       "      <th>54637</th>\n",
       "      <td>5</td>\n",
       "      <td>Theoule-Sur-Mer</td>\n",
       "      <td>83815350015</td>\n",
       "      <td>None</td>\n",
       "      <td>838153500</td>\n",
       "      <td>15</td>\n",
       "      <td>1 bd eugene de quay</td>\n",
       "      <td>6590</td>\n",
       "      <td>5</td>\n",
       "      <td>19</td>\n",
       "      <td>19</td>\n",
       "      <td>Autres activités de services</td>\n",
       "    </tr>\n",
       "    <tr>\n",
       "      <th>54638</th>\n",
       "      <td>5</td>\n",
       "      <td>Theoule-Sur-Mer</td>\n",
       "      <td>84878998813</td>\n",
       "      <td>ass amicale des sapeurs pompiers de theoule su...</td>\n",
       "      <td>848789988</td>\n",
       "      <td>13</td>\n",
       "      <td>42 av de lerins</td>\n",
       "      <td>6590</td>\n",
       "      <td>5</td>\n",
       "      <td>19</td>\n",
       "      <td>19</td>\n",
       "      <td>Autres activités de services</td>\n",
       "    </tr>\n",
       "    <tr>\n",
       "      <th>54639</th>\n",
       "      <td>5</td>\n",
       "      <td>Theoule-Sur-Mer</td>\n",
       "      <td>84972285512</td>\n",
       "      <td>ultime espoir</td>\n",
       "      <td>849722855</td>\n",
       "      <td>12</td>\n",
       "      <td>25 av van loo</td>\n",
       "      <td>6590</td>\n",
       "      <td>5</td>\n",
       "      <td>19</td>\n",
       "      <td>19</td>\n",
       "      <td>Autres activités de services</td>\n",
       "    </tr>\n",
       "    <tr>\n",
       "      <th>54640</th>\n",
       "      <td>5</td>\n",
       "      <td>Theoule-Sur-Mer</td>\n",
       "      <td>85086739111</td>\n",
       "      <td>None</td>\n",
       "      <td>850867391</td>\n",
       "      <td>11</td>\n",
       "      <td>10 av du trayas</td>\n",
       "      <td>6590</td>\n",
       "      <td>5</td>\n",
       "      <td>19</td>\n",
       "      <td>19</td>\n",
       "      <td>Autres activités de services</td>\n",
       "    </tr>\n",
       "    <tr>\n",
       "      <th>54641</th>\n",
       "      <td>5</td>\n",
       "      <td>Theoule-Sur-Mer</td>\n",
       "      <td>88212890311</td>\n",
       "      <td>les amis de l'eglise de theoule</td>\n",
       "      <td>882128903</td>\n",
       "      <td>11</td>\n",
       "      <td>36 av de lerins</td>\n",
       "      <td>6590</td>\n",
       "      <td>5</td>\n",
       "      <td>19</td>\n",
       "      <td>19</td>\n",
       "      <td>Autres activités de services</td>\n",
       "    </tr>\n",
       "  </tbody>\n",
       "</table>\n",
       "<p>54642 rows × 12 columns</p>\n",
       "</div>"
      ],
      "text/plain": [
       "       vi_id           vi_nom        en_id  \\\n",
       "0          1           Cannes  30431958528   \n",
       "1          1           Cannes  31056075013   \n",
       "2          1           Cannes  32668413113   \n",
       "3          1           Cannes  32823582536   \n",
       "4          1           Cannes  33135939812   \n",
       "...      ...              ...          ...   \n",
       "54637      5  Theoule-Sur-Mer  83815350015   \n",
       "54638      5  Theoule-Sur-Mer  84878998813   \n",
       "54639      5  Theoule-Sur-Mer  84972285512   \n",
       "54640      5  Theoule-Sur-Mer  85086739111   \n",
       "54641      5  Theoule-Sur-Mer  88212890311   \n",
       "\n",
       "                                                  en_nom   en_siren  en_nic  \\\n",
       "0                                                   None  304319585      28   \n",
       "1                                                   None  310560750      13   \n",
       "2                groupe forestier de la montagne orpiere  326684131      13   \n",
       "3                                                   None  328235825      36   \n",
       "4                                                   None  331359398      12   \n",
       "...                                                  ...        ...     ...   \n",
       "54637                                               None  838153500      15   \n",
       "54638  ass amicale des sapeurs pompiers de theoule su...  848789988      13   \n",
       "54639                                      ultime espoir  849722855      12   \n",
       "54640                                               None  850867391      11   \n",
       "54641                    les amis de l'eglise de theoule  882128903      11   \n",
       "\n",
       "                    en_adresse  en_code_postal  en_vi_id_fk  en_sa_id_fk  \\\n",
       "0       av pierre de coubertin            6150            1            1   \n",
       "1              46 bd du perier            6400            1            1   \n",
       "2            26 av coste belle            6400            1            1   \n",
       "3                9 rue lalanne            6400            1            1   \n",
       "4              che de l abadie            6150            1            1   \n",
       "...                        ...             ...          ...          ...   \n",
       "54637      1 bd eugene de quay            6590            5           19   \n",
       "54638          42 av de lerins            6590            5           19   \n",
       "54639            25 av van loo            6590            5           19   \n",
       "54640          10 av du trayas            6590            5           19   \n",
       "54641          36 av de lerins            6590            5           19   \n",
       "\n",
       "       sa_id                              sa_nom  \n",
       "0          1  Agriculture, sylviculture et pêche  \n",
       "1          1  Agriculture, sylviculture et pêche  \n",
       "2          1  Agriculture, sylviculture et pêche  \n",
       "3          1  Agriculture, sylviculture et pêche  \n",
       "4          1  Agriculture, sylviculture et pêche  \n",
       "...      ...                                 ...  \n",
       "54637     19        Autres activités de services  \n",
       "54638     19        Autres activités de services  \n",
       "54639     19        Autres activités de services  \n",
       "54640     19        Autres activités de services  \n",
       "54641     19        Autres activités de services  \n",
       "\n",
       "[54642 rows x 12 columns]"
      ]
     },
     "execution_count": 41,
     "metadata": {},
     "output_type": "execute_result"
    }
   ],
   "source": [
    "#On place dans une variable les jointures des tables ville, entreprise et secteur d'activité\n",
    "jointure_ville_entreprise_sa = \"\"\"SELECT * FROM ville\n",
    "JOIN entreprise\n",
    "ON ville.vi_id = entreprise.en_vi_id_fk\n",
    "JOIN secteur_activite\n",
    "ON entreprise.en_sa_id_fk = secteur_activite.sa_id;\"\"\"\n",
    "\n",
    "#On charge la variable que l'on vient de créer en la connectant à la BDD\n",
    "df1 = pd.read_sql_query(jointure_ville_entreprise_sa, engine)\n",
    "df1"
   ]
  },
  {
   "cell_type": "code",
   "execution_count": 48,
   "metadata": {
    "scrolled": false
   },
   "outputs": [
    {
     "name": "stdout",
     "output_type": "stream",
     "text": [
      "2020-12-24 17:21:29,610 INFO sqlalchemy.engine.base.Engine SELECT * FROM ville\n",
      "JOIN logement\n",
      "ON ville.vi_id = logement.lo_vi_id_fk\n",
      "JOIN categorie_logement\n",
      "ON logement.lo_cl_id_fk = categorie_logement.cl_id;\n",
      "2020-12-24 17:21:29,612 INFO sqlalchemy.engine.base.Engine {}\n"
     ]
    },
    {
     "data": {
      "text/html": [
       "<div>\n",
       "<style scoped>\n",
       "    .dataframe tbody tr th:only-of-type {\n",
       "        vertical-align: middle;\n",
       "    }\n",
       "\n",
       "    .dataframe tbody tr th {\n",
       "        vertical-align: top;\n",
       "    }\n",
       "\n",
       "    .dataframe thead th {\n",
       "        text-align: right;\n",
       "    }\n",
       "</style>\n",
       "<table border=\"1\" class=\"dataframe\">\n",
       "  <thead>\n",
       "    <tr style=\"text-align: right;\">\n",
       "      <th></th>\n",
       "      <th>vi_id</th>\n",
       "      <th>vi_nom</th>\n",
       "      <th>lo_id</th>\n",
       "      <th>lo_nbre</th>\n",
       "      <th>lo_vi_id_fk</th>\n",
       "      <th>lo_cl_id_fk</th>\n",
       "      <th>cl_id</th>\n",
       "      <th>cl_nom</th>\n",
       "    </tr>\n",
       "  </thead>\n",
       "  <tbody>\n",
       "    <tr>\n",
       "      <th>0</th>\n",
       "      <td>1</td>\n",
       "      <td>Cannes</td>\n",
       "      <td>4</td>\n",
       "      <td>37735</td>\n",
       "      <td>1</td>\n",
       "      <td>1</td>\n",
       "      <td>1</td>\n",
       "      <td>Résidences principales</td>\n",
       "    </tr>\n",
       "    <tr>\n",
       "      <th>1</th>\n",
       "      <td>2</td>\n",
       "      <td>Le Cannet</td>\n",
       "      <td>3</td>\n",
       "      <td>21276</td>\n",
       "      <td>2</td>\n",
       "      <td>1</td>\n",
       "      <td>1</td>\n",
       "      <td>Résidences principales</td>\n",
       "    </tr>\n",
       "    <tr>\n",
       "      <th>2</th>\n",
       "      <td>3</td>\n",
       "      <td>Mougins</td>\n",
       "      <td>2</td>\n",
       "      <td>8403</td>\n",
       "      <td>3</td>\n",
       "      <td>1</td>\n",
       "      <td>1</td>\n",
       "      <td>Résidences principales</td>\n",
       "    </tr>\n",
       "    <tr>\n",
       "      <th>3</th>\n",
       "      <td>5</td>\n",
       "      <td>Theoule-Sur-Mer</td>\n",
       "      <td>5</td>\n",
       "      <td>694</td>\n",
       "      <td>5</td>\n",
       "      <td>1</td>\n",
       "      <td>1</td>\n",
       "      <td>Résidences principales</td>\n",
       "    </tr>\n",
       "    <tr>\n",
       "      <th>4</th>\n",
       "      <td>1</td>\n",
       "      <td>Cannes</td>\n",
       "      <td>9</td>\n",
       "      <td>31433</td>\n",
       "      <td>1</td>\n",
       "      <td>2</td>\n",
       "      <td>2</td>\n",
       "      <td>Résid. secondaires et log. occasionnels</td>\n",
       "    </tr>\n",
       "    <tr>\n",
       "      <th>5</th>\n",
       "      <td>2</td>\n",
       "      <td>Le Cannet</td>\n",
       "      <td>8</td>\n",
       "      <td>4104</td>\n",
       "      <td>2</td>\n",
       "      <td>2</td>\n",
       "      <td>2</td>\n",
       "      <td>Résid. secondaires et log. occasionnels</td>\n",
       "    </tr>\n",
       "    <tr>\n",
       "      <th>6</th>\n",
       "      <td>3</td>\n",
       "      <td>Mougins</td>\n",
       "      <td>7</td>\n",
       "      <td>1983</td>\n",
       "      <td>3</td>\n",
       "      <td>2</td>\n",
       "      <td>2</td>\n",
       "      <td>Résid. secondaires et log. occasionnels</td>\n",
       "    </tr>\n",
       "    <tr>\n",
       "      <th>7</th>\n",
       "      <td>4</td>\n",
       "      <td>Mandelieu-La-Napoule</td>\n",
       "      <td>6</td>\n",
       "      <td>8694</td>\n",
       "      <td>4</td>\n",
       "      <td>2</td>\n",
       "      <td>2</td>\n",
       "      <td>Résid. secondaires et log. occasionnels</td>\n",
       "    </tr>\n",
       "    <tr>\n",
       "      <th>8</th>\n",
       "      <td>5</td>\n",
       "      <td>Theoule-Sur-Mer</td>\n",
       "      <td>10</td>\n",
       "      <td>2564</td>\n",
       "      <td>5</td>\n",
       "      <td>2</td>\n",
       "      <td>2</td>\n",
       "      <td>Résid. secondaires et log. occasionnels</td>\n",
       "    </tr>\n",
       "    <tr>\n",
       "      <th>9</th>\n",
       "      <td>1</td>\n",
       "      <td>Cannes</td>\n",
       "      <td>14</td>\n",
       "      <td>2096</td>\n",
       "      <td>1</td>\n",
       "      <td>3</td>\n",
       "      <td>3</td>\n",
       "      <td>Logements vacants</td>\n",
       "    </tr>\n",
       "    <tr>\n",
       "      <th>10</th>\n",
       "      <td>2</td>\n",
       "      <td>Le Cannet</td>\n",
       "      <td>13</td>\n",
       "      <td>940</td>\n",
       "      <td>2</td>\n",
       "      <td>3</td>\n",
       "      <td>3</td>\n",
       "      <td>Logements vacants</td>\n",
       "    </tr>\n",
       "    <tr>\n",
       "      <th>11</th>\n",
       "      <td>3</td>\n",
       "      <td>Mougins</td>\n",
       "      <td>12</td>\n",
       "      <td>501</td>\n",
       "      <td>3</td>\n",
       "      <td>3</td>\n",
       "      <td>3</td>\n",
       "      <td>Logements vacants</td>\n",
       "    </tr>\n",
       "    <tr>\n",
       "      <th>12</th>\n",
       "      <td>4</td>\n",
       "      <td>Mandelieu-La-Napoule</td>\n",
       "      <td>11</td>\n",
       "      <td>1201</td>\n",
       "      <td>4</td>\n",
       "      <td>3</td>\n",
       "      <td>3</td>\n",
       "      <td>Logements vacants</td>\n",
       "    </tr>\n",
       "    <tr>\n",
       "      <th>13</th>\n",
       "      <td>5</td>\n",
       "      <td>Theoule-Sur-Mer</td>\n",
       "      <td>15</td>\n",
       "      <td>77</td>\n",
       "      <td>5</td>\n",
       "      <td>3</td>\n",
       "      <td>3</td>\n",
       "      <td>Logements vacants</td>\n",
       "    </tr>\n",
       "    <tr>\n",
       "      <th>14</th>\n",
       "      <td>1</td>\n",
       "      <td>Cannes</td>\n",
       "      <td>19</td>\n",
       "      <td>71264</td>\n",
       "      <td>1</td>\n",
       "      <td>4</td>\n",
       "      <td>4</td>\n",
       "      <td>Total</td>\n",
       "    </tr>\n",
       "    <tr>\n",
       "      <th>15</th>\n",
       "      <td>2</td>\n",
       "      <td>Le Cannet</td>\n",
       "      <td>18</td>\n",
       "      <td>26320</td>\n",
       "      <td>2</td>\n",
       "      <td>4</td>\n",
       "      <td>4</td>\n",
       "      <td>Total</td>\n",
       "    </tr>\n",
       "    <tr>\n",
       "      <th>16</th>\n",
       "      <td>3</td>\n",
       "      <td>Mougins</td>\n",
       "      <td>17</td>\n",
       "      <td>10887</td>\n",
       "      <td>3</td>\n",
       "      <td>4</td>\n",
       "      <td>4</td>\n",
       "      <td>Total</td>\n",
       "    </tr>\n",
       "    <tr>\n",
       "      <th>17</th>\n",
       "      <td>4</td>\n",
       "      <td>Mandelieu-La-Napoule</td>\n",
       "      <td>16</td>\n",
       "      <td>21234</td>\n",
       "      <td>4</td>\n",
       "      <td>4</td>\n",
       "      <td>4</td>\n",
       "      <td>Total</td>\n",
       "    </tr>\n",
       "    <tr>\n",
       "      <th>18</th>\n",
       "      <td>5</td>\n",
       "      <td>Theoule-Sur-Mer</td>\n",
       "      <td>20</td>\n",
       "      <td>3335</td>\n",
       "      <td>5</td>\n",
       "      <td>4</td>\n",
       "      <td>4</td>\n",
       "      <td>Total</td>\n",
       "    </tr>\n",
       "  </tbody>\n",
       "</table>\n",
       "</div>"
      ],
      "text/plain": [
       "    vi_id                vi_nom  lo_id lo_nbre  lo_vi_id_fk  lo_cl_id_fk  \\\n",
       "0       1                Cannes      4   37735            1            1   \n",
       "1       2             Le Cannet      3   21276            2            1   \n",
       "2       3               Mougins      2    8403            3            1   \n",
       "3       5       Theoule-Sur-Mer      5     694            5            1   \n",
       "4       1                Cannes      9   31433            1            2   \n",
       "5       2             Le Cannet      8    4104            2            2   \n",
       "6       3               Mougins      7    1983            3            2   \n",
       "7       4  Mandelieu-La-Napoule      6    8694            4            2   \n",
       "8       5       Theoule-Sur-Mer     10    2564            5            2   \n",
       "9       1                Cannes     14    2096            1            3   \n",
       "10      2             Le Cannet     13     940            2            3   \n",
       "11      3               Mougins     12     501            3            3   \n",
       "12      4  Mandelieu-La-Napoule     11    1201            4            3   \n",
       "13      5       Theoule-Sur-Mer     15      77            5            3   \n",
       "14      1                Cannes     19   71264            1            4   \n",
       "15      2             Le Cannet     18   26320            2            4   \n",
       "16      3               Mougins     17   10887            3            4   \n",
       "17      4  Mandelieu-La-Napoule     16   21234            4            4   \n",
       "18      5       Theoule-Sur-Mer     20    3335            5            4   \n",
       "\n",
       "    cl_id                                   cl_nom  \n",
       "0       1                   Résidences principales  \n",
       "1       1                   Résidences principales  \n",
       "2       1                   Résidences principales  \n",
       "3       1                   Résidences principales  \n",
       "4       2  Résid. secondaires et log. occasionnels  \n",
       "5       2  Résid. secondaires et log. occasionnels  \n",
       "6       2  Résid. secondaires et log. occasionnels  \n",
       "7       2  Résid. secondaires et log. occasionnels  \n",
       "8       2  Résid. secondaires et log. occasionnels  \n",
       "9       3                        Logements vacants  \n",
       "10      3                        Logements vacants  \n",
       "11      3                        Logements vacants  \n",
       "12      3                        Logements vacants  \n",
       "13      3                        Logements vacants  \n",
       "14      4                                    Total  \n",
       "15      4                                    Total  \n",
       "16      4                                    Total  \n",
       "17      4                                    Total  \n",
       "18      4                                    Total  "
      ]
     },
     "execution_count": 48,
     "metadata": {},
     "output_type": "execute_result"
    }
   ],
   "source": [
    "#On place dans une variable les jointures des tables ville, logement et catégorie logement\n",
    "jointure_ville_logement_cl = \"\"\"SELECT * FROM ville\n",
    "JOIN logement\n",
    "ON ville.vi_id = logement.lo_vi_id_fk\n",
    "JOIN categorie_logement\n",
    "ON logement.lo_cl_id_fk = categorie_logement.cl_id;\"\"\"\n",
    "\n",
    "#On charge la variable que l'on vient de créer en la connectant à la BDD\n",
    "df2 = pd.read_sql_query(jointure_ville_logement_cl, engine)\n",
    "df2"
   ]
  },
  {
   "cell_type": "code",
   "execution_count": 38,
   "metadata": {},
   "outputs": [
    {
     "data": {
      "text/plain": [
       "<matplotlib.axes._subplots.AxesSubplot at 0x7fe70a189310>"
      ]
     },
     "execution_count": 38,
     "metadata": {},
     "output_type": "execute_result"
    },
    {
     "data": {
      "image/png": "[encoded data removed]",
      "text/plain": [
       "<Figure size 1080x432 with 1 Axes>"
      ]
     },
     "metadata": {
      "needs_background": "light"
     },
     "output_type": "display_data"
    }
   ],
   "source": [
    "#Diagramme à barre présentant le nombre de catégories socio-professionnelles par ville de l'agglomération en \n",
    "#fonction du nombre de population par ville\n",
    "plt.figure(figsize = [15, 6])\n",
    "plt.title(\"Nombre de catégorie socio-professionnelles par ville\")\n",
    "sns.barplot(x=\"vi_nom\", hue=\"csp_nom\", y=\"po_nbre_pop\", data=df, order=df['vi_nom'].value_counts().keys())"
   ]
  },
  {
   "cell_type": "code",
   "execution_count": 46,
   "metadata": {},
   "outputs": [
    {
     "data": {
      "text/plain": [
       "<matplotlib.axes._subplots.AxesSubplot at 0x7fe708e13410>"
      ]
     },
     "execution_count": 46,
     "metadata": {},
     "output_type": "execute_result"
    },
    {
     "data": {
      "image/png": "[encoded data removed]",
      "text/plain": [
       "<Figure size 1584x720 with 1 Axes>"
      ]
     },
     "metadata": {
      "needs_background": "light"
     },
     "output_type": "display_data"
    }
   ],
   "source": [
    "#Diagramme à barre présentant le nombre de secteurs d'activité par ville de l'agglomération\n",
    "plt.figure(figsize = [22, 10])\n",
    "plt.title(\"Nombre de secteur d'activité par ville\")\n",
    "sns.countplot(x=\"vi_nom\", hue=\"sa_nom\", data=df1, order=df1['vi_nom'].value_counts().keys())"
   ]
  },
  {
   "cell_type": "code",
   "execution_count": 84,
   "metadata": {},
   "outputs": [
    {
     "data": {
      "text/plain": [
       "<matplotlib.axes._subplots.AxesSubplot at 0x7fe6ff50cad0>"
      ]
     },
     "execution_count": 84,
     "metadata": {},
     "output_type": "execute_result"
    },
    {
     "data": {
      "image/png": "[encoded data removed]",
      "text/plain": [
       "<Figure size 1080x432 with 1 Axes>"
      ]
     },
     "metadata": {
      "needs_background": "light"
     },
     "output_type": "display_data"
    }
   ],
   "source": [
    "#Diagramme à barre présentant le nombre de catégories logement par ville de l'agglomération\n",
    "plt.figure(figsize = [15, 6])\n",
    "plt.title(\"Nombre de catégorie logement par ville\")\n",
    "sns.barplot(x=\"vi_nom\", hue=\"cl_nom\", y=\"lo_nbre\", data=df2, order=df2['vi_nom'].value_counts().keys())"
   ]
  },
  {
   "cell_type": "code",
   "execution_count": 85,
   "metadata": {},
   "outputs": [
    {
     "data": {
      "text/plain": [
       "<matplotlib.axes._subplots.AxesSubplot at 0x7fe6ff6348d0>"
      ]
     },
     "execution_count": 85,
     "metadata": {},
     "output_type": "execute_result"
    },
    {
     "data": {
      "image/png": "[encoded data removed]",
      "text/plain": [
       "<Figure size 1080x432 with 1 Axes>"
      ]
     },
     "metadata": {
      "needs_background": "light"
     },
     "output_type": "display_data"
    }
   ],
   "source": [
    "#Diagramme à barre présentant le nombre d'habitants par tranche d'age par ville de l'agglomération\n",
    "df3 = df.groupby(by=[\"vi_nom\", \"ag_tranche_age\"])[\"po_nbre_pop\"].sum().reset_index(name=\"quantite\")\n",
    "\n",
    "plt.figure(figsize = [15, 6])\n",
    "plt.title(\"Nombre d'habitants par tranche d'age par ville\")\n",
    "sns.barplot(x=\"vi_nom\", hue=\"ag_tranche_age\", y=\"quantite\", data=df3, order=df['vi_nom'].value_counts().keys())"
   ]
  },
  {
   "cell_type": "code",
   "execution_count": 79,
   "metadata": {},
   "outputs": [
    {
     "data": {
      "application/vnd.plotly.v1+json": {
       "config": {
        "plotlyServerURL": "https://plot.ly"
       },
       "data": [
        {
         "alignmentgroup": "True",
         "hovertemplate": "ag_tranche_age=0<br>vi_nom=%{x}<br>quantite=%{y}<extra></extra>",
         "legendgroup": "0",
         "marker": {
          "color": "#636efa"
         },
         "name": "0",
         "offsetgroup": "0",
         "orientation": "v",
         "showlegend": true,
         "textposition": "auto",
         "type": "bar",
         "x": [
          "Cannes",
          "Le Cannet",
          "Mandelieu-La-Napoule",
          "Mougins",
          "Theoule-Sur-Mer"
         ],
         "xaxis": "x",
         "y": [
          62322,
          34310,
          18610,
          13214,
          1246
         ],
         "yaxis": "y"
        },
        {
         "alignmentgroup": "True",
         "hovertemplate": "ag_tranche_age=15 a 24<br>vi_nom=%{x}<br>quantite=%{y}<extra></extra>",
         "legendgroup": "15 a 24",
         "marker": {
          "color": "#EF553B"
         },
         "name": "15 a 24",
         "offsetgroup": "15 a 24",
         "orientation": "v",
         "showlegend": true,
         "textposition": "auto",
         "type": "bar",
         "x": [
          "Cannes",
          "Le Cannet",
          "Mandelieu-La-Napoule",
          "Mougins",
          "Theoule-Sur-Mer"
         ],
         "xaxis": "x",
         "y": [
          14298,
          7324,
          3986,
          3328,
          230
         ],
         "yaxis": "y"
        },
        {
         "alignmentgroup": "True",
         "hovertemplate": "ag_tranche_age=25 a 54<br>vi_nom=%{x}<br>quantite=%{y}<extra></extra>",
         "legendgroup": "25 a 54",
         "marker": {
          "color": "#00cc96"
         },
         "name": "25 a 54",
         "offsetgroup": "25 a 54",
         "orientation": "v",
         "showlegend": true,
         "textposition": "auto",
         "type": "bar",
         "x": [
          "Cannes",
          "Le Cannet",
          "Mandelieu-La-Napoule",
          "Mougins",
          "Theoule-Sur-Mer"
         ],
         "xaxis": "x",
         "y": [
          50378,
          30170,
          16146,
          15882,
          994
         ],
         "yaxis": "y"
        }
       ],
       "layout": {
        "barmode": "relative",
        "legend": {
         "title": {
          "text": "ag_tranche_age"
         },
         "tracegroupgap": 0
        },
        "template": {
         "data": {
          "bar": [
           {
            "error_x": {
             "color": "#2a3f5f"
            },
            "error_y": {
             "color": "#2a3f5f"
            },
            "marker": {
             "line": {
              "color": "#E5ECF6",
              "width": 0.5
             }
            },
            "type": "bar"
           }
          ],
          "barpolar": [
           {
            "marker": {
             "line": {
              "color": "#E5ECF6",
              "width": 0.5
             }
            },
            "type": "barpolar"
           }
          ],
          "carpet": [
           {
            "aaxis": {
             "endlinecolor": "#2a3f5f",
             "gridcolor": "white",
             "linecolor": "white",
             "minorgridcolor": "white",
             "startlinecolor": "#2a3f5f"
            },
            "baxis": {
             "endlinecolor": "#2a3f5f",
             "gridcolor": "white",
             "linecolor": "white",
             "minorgridcolor": "white",
             "startlinecolor": "#2a3f5f"
            },
            "type": "carpet"
           }
          ],
          "choropleth": [
           {
            "colorbar": {
             "outlinewidth": 0,
             "ticks": ""
            },
            "type": "choropleth"
           }
          ],
          "contour": [
           {
            "colorbar": {
             "outlinewidth": 0,
             "ticks": ""
            },
            "colorscale": [
             [
              0,
              "#0d0887"
             ],
             [
              0.1111111111111111,
              "#46039f"
             ],
             [
              0.2222222222222222,
              "#7201a8"
             ],
             [
              0.3333333333333333,
              "#9c179e"
             ],
             [
              0.4444444444444444,
              "#bd3786"
             ],
             [
              0.5555555555555556,
              "#d8576b"
             ],
             [
              0.6666666666666666,
              "#ed7953"
             ],
             [
              0.7777777777777778,
              "#fb9f3a"
             ],
             [
              0.8888888888888888,
              "#fdca26"
             ],
             [
              1,
              "#f0f921"
             ]
            ],
            "type": "contour"
           }
          ],
          "contourcarpet": [
           {
            "colorbar": {
             "outlinewidth": 0,
             "ticks": ""
            },
            "type": "contourcarpet"
           }
          ],
          "heatmap": [
           {
            "colorbar": {
             "outlinewidth": 0,
             "ticks": ""
            },
            "colorscale": [
             [
              0,
              "#0d0887"
             ],
             [
              0.1111111111111111,
              "#46039f"
             ],
             [
              0.2222222222222222,
              "#7201a8"
             ],
             [
              0.3333333333333333,
              "#9c179e"
             ],
             [
              0.4444444444444444,
              "#bd3786"
             ],
             [
              0.5555555555555556,
              "#d8576b"
             ],
             [
              0.6666666666666666,
              "#ed7953"
             ],
             [
              0.7777777777777778,
              "#fb9f3a"
             ],
             [
              0.8888888888888888,
              "#fdca26"
             ],
             [
              1,
              "#f0f921"
             ]
            ],
            "type": "heatmap"
           }
          ],
          "heatmapgl": [
           {
            "colorbar": {
             "outlinewidth": 0,
             "ticks": ""
            },
            "colorscale": [
             [
              0,
              "#0d0887"
             ],
             [
              0.1111111111111111,
              "#46039f"
             ],
             [
              0.2222222222222222,
              "#7201a8"
             ],
             [
              0.3333333333333333,
              "#9c179e"
             ],
             [
              0.4444444444444444,
              "#bd3786"
             ],
             [
              0.5555555555555556,
              "#d8576b"
             ],
             [
              0.6666666666666666,
              "#ed7953"
             ],
             [
              0.7777777777777778,
              "#fb9f3a"
             ],
             [
              0.8888888888888888,
              "#fdca26"
             ],
             [
              1,
              "#f0f921"
             ]
            ],
            "type": "heatmapgl"
           }
          ],
          "histogram": [
           {
            "marker": {
             "colorbar": {
              "outlinewidth": 0,
              "ticks": ""
             }
            },
            "type": "histogram"
           }
          ],
          "histogram2d": [
           {
            "colorbar": {
             "outlinewidth": 0,
             "ticks": ""
            },
            "colorscale": [
             [
              0,
              "#0d0887"
             ],
             [
              0.1111111111111111,
              "#46039f"
             ],
             [
              0.2222222222222222,
              "#7201a8"
             ],
             [
              0.3333333333333333,
              "#9c179e"
             ],
             [
              0.4444444444444444,
              "#bd3786"
             ],
             [
              0.5555555555555556,
              "#d8576b"
             ],
             [
              0.6666666666666666,
              "#ed7953"
             ],
             [
              0.7777777777777778,
              "#fb9f3a"
             ],
             [
              0.8888888888888888,
              "#fdca26"
             ],
             [
              1,
              "#f0f921"
             ]
            ],
            "type": "histogram2d"
           }
          ],
          "histogram2dcontour": [
           {
            "colorbar": {
             "outlinewidth": 0,
             "ticks": ""
            },
            "colorscale": [
             [
              0,
              "#0d0887"
             ],
             [
              0.1111111111111111,
              "#46039f"
             ],
             [
              0.2222222222222222,
              "#7201a8"
             ],
             [
              0.3333333333333333,
              "#9c179e"
             ],
             [
              0.4444444444444444,
              "#bd3786"
             ],
             [
              0.5555555555555556,
              "#d8576b"
             ],
             [
              0.6666666666666666,
              "#ed7953"
             ],
             [
              0.7777777777777778,
              "#fb9f3a"
             ],
             [
              0.8888888888888888,
              "#fdca26"
             ],
             [
              1,
              "#f0f921"
             ]
            ],
            "type": "histogram2dcontour"
           }
          ],
          "mesh3d": [
           {
            "colorbar": {
             "outlinewidth": 0,
             "ticks": ""
            },
            "type": "mesh3d"
           }
          ],
          "parcoords": [
           {
            "line": {
             "colorbar": {
              "outlinewidth": 0,
              "ticks": ""
             }
            },
            "type": "parcoords"
           }
          ],
          "pie": [
           {
            "automargin": true,
            "type": "pie"
           }
          ],
          "scatter": [
           {
            "marker": {
             "colorbar": {
              "outlinewidth": 0,
              "ticks": ""
             }
            },
            "type": "scatter"
           }
          ],
          "scatter3d": [
           {
            "line": {
             "colorbar": {
              "outlinewidth": 0,
              "ticks": ""
             }
            },
            "marker": {
             "colorbar": {
              "outlinewidth": 0,
              "ticks": ""
             }
            },
            "type": "scatter3d"
           }
          ],
          "scattercarpet": [
           {
            "marker": {
             "colorbar": {
              "outlinewidth": 0,
              "ticks": ""
             }
            },
            "type": "scattercarpet"
           }
          ],
          "scattergeo": [
           {
            "marker": {
             "colorbar": {
              "outlinewidth": 0,
              "ticks": ""
             }
            },
            "type": "scattergeo"
           }
          ],
          "scattergl": [
           {
            "marker": {
             "colorbar": {
              "outlinewidth": 0,
              "ticks": ""
             }
            },
            "type": "scattergl"
           }
          ],
          "scattermapbox": [
           {
            "marker": {
             "colorbar": {
              "outlinewidth": 0,
              "ticks": ""
             }
            },
            "type": "scattermapbox"
           }
          ],
          "scatterpolar": [
           {
            "marker": {
             "colorbar": {
              "outlinewidth": 0,
              "ticks": ""
             }
            },
            "type": "scatterpolar"
           }
          ],
          "scatterpolargl": [
           {
            "marker": {
             "colorbar": {
              "outlinewidth": 0,
              "ticks": ""
             }
            },
            "type": "scatterpolargl"
           }
          ],
          "scatterternary": [
           {
            "marker": {
             "colorbar": {
              "outlinewidth": 0,
              "ticks": ""
             }
            },
            "type": "scatterternary"
           }
          ],
          "surface": [
           {
            "colorbar": {
             "outlinewidth": 0,
             "ticks": ""
            },
            "colorscale": [
             [
              0,
              "#0d0887"
             ],
             [
              0.1111111111111111,
              "#46039f"
             ],
             [
              0.2222222222222222,
              "#7201a8"
             ],
             [
              0.3333333333333333,
              "#9c179e"
             ],
             [
              0.4444444444444444,
              "#bd3786"
             ],
             [
              0.5555555555555556,
              "#d8576b"
             ],
             [
              0.6666666666666666,
              "#ed7953"
             ],
             [
              0.7777777777777778,
              "#fb9f3a"
             ],
             [
              0.8888888888888888,
              "#fdca26"
             ],
             [
              1,
              "#f0f921"
             ]
            ],
            "type": "surface"
           }
          ],
          "table": [
           {
            "cells": {
             "fill": {
              "color": "#EBF0F8"
             },
             "line": {
              "color": "white"
             }
            },
            "header": {
             "fill": {
              "color": "#C8D4E3"
             },
             "line": {
              "color": "white"
             }
            },
            "type": "table"
           }
          ]
         },
         "layout": {
          "annotationdefaults": {
           "arrowcolor": "#2a3f5f",
           "arrowhead": 0,
           "arrowwidth": 1
          },
          "autotypenumbers": "strict",
          "coloraxis": {
           "colorbar": {
            "outlinewidth": 0,
            "ticks": ""
           }
          },
          "colorscale": {
           "diverging": [
            [
             0,
             "#8e0152"
            ],
            [
             0.1,
             "#c51b7d"
            ],
            [
             0.2,
             "#de77ae"
            ],
            [
             0.3,
             "#f1b6da"
            ],
            [
             0.4,
             "#fde0ef"
            ],
            [
             0.5,
             "#f7f7f7"
            ],
            [
             0.6,
             "#e6f5d0"
            ],
            [
             0.7,
             "#b8e186"
            ],
            [
             0.8,
             "#7fbc41"
            ],
            [
             0.9,
             "#4d9221"
            ],
            [
             1,
             "#276419"
            ]
           ],
           "sequential": [
            [
             0,
             "#0d0887"
            ],
            [
             0.1111111111111111,
             "#46039f"
            ],
            [
             0.2222222222222222,
             "#7201a8"
            ],
            [
             0.3333333333333333,
             "#9c179e"
            ],
            [
             0.4444444444444444,
             "#bd3786"
            ],
            [
             0.5555555555555556,
             "#d8576b"
            ],
            [
             0.6666666666666666,
             "#ed7953"
            ],
            [
             0.7777777777777778,
             "#fb9f3a"
            ],
            [
             0.8888888888888888,
             "#fdca26"
            ],
            [
             1,
             "#f0f921"
            ]
           ],
           "sequentialminus": [
            [
             0,
             "#0d0887"
            ],
            [
             0.1111111111111111,
             "#46039f"
            ],
            [
             0.2222222222222222,
             "#7201a8"
            ],
            [
             0.3333333333333333,
             "#9c179e"
            ],
            [
             0.4444444444444444,
             "#bd3786"
            ],
            [
             0.5555555555555556,
             "#d8576b"
            ],
            [
             0.6666666666666666,
             "#ed7953"
            ],
            [
             0.7777777777777778,
             "#fb9f3a"
            ],
            [
             0.8888888888888888,
             "#fdca26"
            ],
            [
             1,
             "#f0f921"
            ]
           ]
          },
          "colorway": [
           "#636efa",
           "#EF553B",
           "#00cc96",
           "#ab63fa",
           "#FFA15A",
           "#19d3f3",
           "#FF6692",
           "#B6E880",
           "#FF97FF",
           "#FECB52"
          ],
          "font": {
           "color": "#2a3f5f"
          },
          "geo": {
           "bgcolor": "white",
           "lakecolor": "white",
           "landcolor": "#E5ECF6",
           "showlakes": true,
           "showland": true,
           "subunitcolor": "white"
          },
          "hoverlabel": {
           "align": "left"
          },
          "hovermode": "closest",
          "mapbox": {
           "style": "light"
          },
          "paper_bgcolor": "white",
          "plot_bgcolor": "#E5ECF6",
          "polar": {
           "angularaxis": {
            "gridcolor": "white",
            "linecolor": "white",
            "ticks": ""
           },
           "bgcolor": "#E5ECF6",
           "radialaxis": {
            "gridcolor": "white",
            "linecolor": "white",
            "ticks": ""
           }
          },
          "scene": {
           "xaxis": {
            "backgroundcolor": "#E5ECF6",
            "gridcolor": "white",
            "gridwidth": 2,
            "linecolor": "white",
            "showbackground": true,
            "ticks": "",
            "zerolinecolor": "white"
           },
           "yaxis": {
            "backgroundcolor": "#E5ECF6",
            "gridcolor": "white",
            "gridwidth": 2,
            "linecolor": "white",
            "showbackground": true,
            "ticks": "",
            "zerolinecolor": "white"
           },
           "zaxis": {
            "backgroundcolor": "#E5ECF6",
            "gridcolor": "white",
            "gridwidth": 2,
            "linecolor": "white",
            "showbackground": true,
            "ticks": "",
            "zerolinecolor": "white"
           }
          },
          "shapedefaults": {
           "line": {
            "color": "#2a3f5f"
           }
          },
          "ternary": {
           "aaxis": {
            "gridcolor": "white",
            "linecolor": "white",
            "ticks": ""
           },
           "baxis": {
            "gridcolor": "white",
            "linecolor": "white",
            "ticks": ""
           },
           "bgcolor": "#E5ECF6",
           "caxis": {
            "gridcolor": "white",
            "linecolor": "white",
            "ticks": ""
           }
          },
          "title": {
           "x": 0.05
          },
          "xaxis": {
           "automargin": true,
           "gridcolor": "white",
           "linecolor": "white",
           "ticks": "",
           "title": {
            "standoff": 15
           },
           "zerolinecolor": "white",
           "zerolinewidth": 2
          },
          "yaxis": {
           "automargin": true,
           "gridcolor": "white",
           "linecolor": "white",
           "ticks": "",
           "title": {
            "standoff": 15
           },
           "zerolinecolor": "white",
           "zerolinewidth": 2
          }
         }
        },
        "title": {
         "text": "Nombre d'habitants par tranche d'age par ville"
        },
        "xaxis": {
         "anchor": "y",
         "domain": [
          0,
          1
         ],
         "title": {
          "text": "vi_nom"
         }
        },
        "yaxis": {
         "anchor": "x",
         "domain": [
          0,
          1
         ],
         "title": {
          "text": "quantite"
         }
        }
       }
      },
      "text/html": [
       "<div>                            <div id=\"5cbf770e-e1d5-4653-aa11-a37739ccea45\" class=\"plotly-graph-div\" style=\"height:525px; width:100%;\"></div>            <script type=\"text/javascript\">                require([\"plotly\"], function(Plotly) {                    window.PLOTLYENV=window.PLOTLYENV || {};                                    if (document.getElementById(\"5cbf770e-e1d5-4653-aa11-a37739ccea45\")) {                    Plotly.newPlot(                        \"5cbf770e-e1d5-4653-aa11-a37739ccea45\",                        [{\"alignmentgroup\": \"True\", \"hovertemplate\": \"ag_tranche_age=0<br>vi_nom=%{x}<br>quantite=%{y}<extra></extra>\", \"legendgroup\": \"0\", \"marker\": {\"color\": \"#636efa\"}, \"name\": \"0\", \"offsetgroup\": \"0\", \"orientation\": \"v\", \"showlegend\": true, \"textposition\": \"auto\", \"type\": \"bar\", \"x\": [\"Cannes\", \"Le Cannet\", \"Mandelieu-La-Napoule\", \"Mougins\", \"Theoule-Sur-Mer\"], \"xaxis\": \"x\", \"y\": [62322, 34310, 18610, 13214, 1246], \"yaxis\": \"y\"}, {\"alignmentgroup\": \"True\", \"hovertemplate\": \"ag_tranche_age=15 a 24<br>vi_nom=%{x}<br>quantite=%{y}<extra></extra>\", \"legendgroup\": \"15 a 24\", \"marker\": {\"color\": \"#EF553B\"}, \"name\": \"15 a 24\", \"offsetgroup\": \"15 a 24\", \"orientation\": \"v\", \"showlegend\": true, \"textposition\": \"auto\", \"type\": \"bar\", \"x\": [\"Cannes\", \"Le Cannet\", \"Mandelieu-La-Napoule\", \"Mougins\", \"Theoule-Sur-Mer\"], \"xaxis\": \"x\", \"y\": [14298, 7324, 3986, 3328, 230], \"yaxis\": \"y\"}, {\"alignmentgroup\": \"True\", \"hovertemplate\": \"ag_tranche_age=25 a 54<br>vi_nom=%{x}<br>quantite=%{y}<extra></extra>\", \"legendgroup\": \"25 a 54\", \"marker\": {\"color\": \"#00cc96\"}, \"name\": \"25 a 54\", \"offsetgroup\": \"25 a 54\", \"orientation\": \"v\", \"showlegend\": true, \"textposition\": \"auto\", \"type\": \"bar\", \"x\": [\"Cannes\", \"Le Cannet\", \"Mandelieu-La-Napoule\", \"Mougins\", \"Theoule-Sur-Mer\"], \"xaxis\": \"x\", \"y\": [50378, 30170, 16146, 15882, 994], \"yaxis\": \"y\"}],                        {\"barmode\": \"relative\", \"legend\": {\"title\": {\"text\": \"ag_tranche_age\"}, \"tracegroupgap\": 0}, \"template\": {\"data\": {\"bar\": [{\"error_x\": {\"color\": \"#2a3f5f\"}, \"error_y\": {\"color\": \"#2a3f5f\"}, \"marker\": {\"line\": {\"color\": \"#E5ECF6\", \"width\": 0.5}}, \"type\": \"bar\"}], \"barpolar\": [{\"marker\": {\"line\": {\"color\": \"#E5ECF6\", \"width\": 0.5}}, \"type\": \"barpolar\"}], \"carpet\": [{\"aaxis\": {\"endlinecolor\": \"#2a3f5f\", \"gridcolor\": \"white\", \"linecolor\": \"white\", \"minorgridcolor\": \"white\", \"startlinecolor\": \"#2a3f5f\"}, \"baxis\": {\"endlinecolor\": \"#2a3f5f\", \"gridcolor\": \"white\", \"linecolor\": \"white\", \"minorgridcolor\": \"white\", \"startlinecolor\": \"#2a3f5f\"}, \"type\": \"carpet\"}], \"choropleth\": [{\"colorbar\": {\"outlinewidth\": 0, \"ticks\": \"\"}, \"type\": \"choropleth\"}], \"contour\": [{\"colorbar\": {\"outlinewidth\": 0, \"ticks\": \"\"}, \"colorscale\": [[0.0, \"#0d0887\"], [0.1111111111111111, \"#46039f\"], [0.2222222222222222, \"#7201a8\"], [0.3333333333333333, \"#9c179e\"], [0.4444444444444444, \"#bd3786\"], [0.5555555555555556, \"#d8576b\"], [0.6666666666666666, \"#ed7953\"], [0.7777777777777778, \"#fb9f3a\"], [0.8888888888888888, \"#fdca26\"], [1.0, \"#f0f921\"]], \"type\": \"contour\"}], \"contourcarpet\": [{\"colorbar\": {\"outlinewidth\": 0, \"ticks\": \"\"}, \"type\": \"contourcarpet\"}], \"heatmap\": [{\"colorbar\": {\"outlinewidth\": 0, \"ticks\": \"\"}, \"colorscale\": [[0.0, \"#0d0887\"], [0.1111111111111111, \"#46039f\"], [0.2222222222222222, \"#7201a8\"], [0.3333333333333333, \"#9c179e\"], [0.4444444444444444, \"#bd3786\"], [0.5555555555555556, \"#d8576b\"], [0.6666666666666666, \"#ed7953\"], [0.7777777777777778, \"#fb9f3a\"], [0.8888888888888888, \"#fdca26\"], [1.0, \"#f0f921\"]], \"type\": \"heatmap\"}], \"heatmapgl\": [{\"colorbar\": {\"outlinewidth\": 0, \"ticks\": \"\"}, \"colorscale\": [[0.0, \"#0d0887\"], [0.1111111111111111, \"#46039f\"], [0.2222222222222222, \"#7201a8\"], [0.3333333333333333, \"#9c179e\"], [0.4444444444444444, \"#bd3786\"], [0.5555555555555556, \"#d8576b\"], [0.6666666666666666, \"#ed7953\"], [0.7777777777777778, \"#fb9f3a\"], [0.8888888888888888, \"#fdca26\"], [1.0, \"#f0f921\"]], \"type\": \"heatmapgl\"}], \"histogram\": [{\"marker\": {\"colorbar\": {\"outlinewidth\": 0, \"ticks\": \"\"}}, \"type\": \"histogram\"}], \"histogram2d\": [{\"colorbar\": {\"outlinewidth\": 0, \"ticks\": \"\"}, \"colorscale\": [[0.0, \"#0d0887\"], [0.1111111111111111, \"#46039f\"], [0.2222222222222222, \"#7201a8\"], [0.3333333333333333, \"#9c179e\"], [0.4444444444444444, \"#bd3786\"], [0.5555555555555556, \"#d8576b\"], [0.6666666666666666, \"#ed7953\"], [0.7777777777777778, \"#fb9f3a\"], [0.8888888888888888, \"#fdca26\"], [1.0, \"#f0f921\"]], \"type\": \"histogram2d\"}], \"histogram2dcontour\": [{\"colorbar\": {\"outlinewidth\": 0, \"ticks\": \"\"}, \"colorscale\": [[0.0, \"#0d0887\"], [0.1111111111111111, \"#46039f\"], [0.2222222222222222, \"#7201a8\"], [0.3333333333333333, \"#9c179e\"], [0.4444444444444444, \"#bd3786\"], [0.5555555555555556, \"#d8576b\"], [0.6666666666666666, \"#ed7953\"], [0.7777777777777778, \"#fb9f3a\"], [0.8888888888888888, \"#fdca26\"], [1.0, \"#f0f921\"]], \"type\": \"histogram2dcontour\"}], \"mesh3d\": [{\"colorbar\": {\"outlinewidth\": 0, \"ticks\": \"\"}, \"type\": \"mesh3d\"}], \"parcoords\": [{\"line\": {\"colorbar\": {\"outlinewidth\": 0, \"ticks\": \"\"}}, \"type\": \"parcoords\"}], \"pie\": [{\"automargin\": true, \"type\": \"pie\"}], \"scatter\": [{\"marker\": {\"colorbar\": {\"outlinewidth\": 0, \"ticks\": \"\"}}, \"type\": \"scatter\"}], \"scatter3d\": [{\"line\": {\"colorbar\": {\"outlinewidth\": 0, \"ticks\": \"\"}}, \"marker\": {\"colorbar\": {\"outlinewidth\": 0, \"ticks\": \"\"}}, \"type\": \"scatter3d\"}], \"scattercarpet\": [{\"marker\": {\"colorbar\": {\"outlinewidth\": 0, \"ticks\": \"\"}}, \"type\": \"scattercarpet\"}], \"scattergeo\": [{\"marker\": {\"colorbar\": {\"outlinewidth\": 0, \"ticks\": \"\"}}, \"type\": \"scattergeo\"}], \"scattergl\": [{\"marker\": {\"colorbar\": {\"outlinewidth\": 0, \"ticks\": \"\"}}, \"type\": \"scattergl\"}], \"scattermapbox\": [{\"marker\": {\"colorbar\": {\"outlinewidth\": 0, \"ticks\": \"\"}}, \"type\": \"scattermapbox\"}], \"scatterpolar\": [{\"marker\": {\"colorbar\": {\"outlinewidth\": 0, \"ticks\": \"\"}}, \"type\": \"scatterpolar\"}], \"scatterpolargl\": [{\"marker\": {\"colorbar\": {\"outlinewidth\": 0, \"ticks\": \"\"}}, \"type\": \"scatterpolargl\"}], \"scatterternary\": [{\"marker\": {\"colorbar\": {\"outlinewidth\": 0, \"ticks\": \"\"}}, \"type\": \"scatterternary\"}], \"surface\": [{\"colorbar\": {\"outlinewidth\": 0, \"ticks\": \"\"}, \"colorscale\": [[0.0, \"#0d0887\"], [0.1111111111111111, \"#46039f\"], [0.2222222222222222, \"#7201a8\"], [0.3333333333333333, \"#9c179e\"], [0.4444444444444444, \"#bd3786\"], [0.5555555555555556, \"#d8576b\"], [0.6666666666666666, \"#ed7953\"], [0.7777777777777778, \"#fb9f3a\"], [0.8888888888888888, \"#fdca26\"], [1.0, \"#f0f921\"]], \"type\": \"surface\"}], \"table\": [{\"cells\": {\"fill\": {\"color\": \"#EBF0F8\"}, \"line\": {\"color\": \"white\"}}, \"header\": {\"fill\": {\"color\": \"#C8D4E3\"}, \"line\": {\"color\": \"white\"}}, \"type\": \"table\"}]}, \"layout\": {\"annotationdefaults\": {\"arrowcolor\": \"#2a3f5f\", \"arrowhead\": 0, \"arrowwidth\": 1}, \"autotypenumbers\": \"strict\", \"coloraxis\": {\"colorbar\": {\"outlinewidth\": 0, \"ticks\": \"\"}}, \"colorscale\": {\"diverging\": [[0, \"#8e0152\"], [0.1, \"#c51b7d\"], [0.2, \"#de77ae\"], [0.3, \"#f1b6da\"], [0.4, \"#fde0ef\"], [0.5, \"#f7f7f7\"], [0.6, \"#e6f5d0\"], [0.7, \"#b8e186\"], [0.8, \"#7fbc41\"], [0.9, \"#4d9221\"], [1, \"#276419\"]], \"sequential\": [[0.0, \"#0d0887\"], [0.1111111111111111, \"#46039f\"], [0.2222222222222222, \"#7201a8\"], [0.3333333333333333, \"#9c179e\"], [0.4444444444444444, \"#bd3786\"], [0.5555555555555556, \"#d8576b\"], [0.6666666666666666, \"#ed7953\"], [0.7777777777777778, \"#fb9f3a\"], [0.8888888888888888, \"#fdca26\"], [1.0, \"#f0f921\"]], \"sequentialminus\": [[0.0, \"#0d0887\"], [0.1111111111111111, \"#46039f\"], [0.2222222222222222, \"#7201a8\"], [0.3333333333333333, \"#9c179e\"], [0.4444444444444444, \"#bd3786\"], [0.5555555555555556, \"#d8576b\"], [0.6666666666666666, \"#ed7953\"], [0.7777777777777778, \"#fb9f3a\"], [0.8888888888888888, \"#fdca26\"], [1.0, \"#f0f921\"]]}, \"colorway\": [\"#636efa\", \"#EF553B\", \"#00cc96\", \"#ab63fa\", \"#FFA15A\", \"#19d3f3\", \"#FF6692\", \"#B6E880\", \"#FF97FF\", \"#FECB52\"], \"font\": {\"color\": \"#2a3f5f\"}, \"geo\": {\"bgcolor\": \"white\", \"lakecolor\": \"white\", \"landcolor\": \"#E5ECF6\", \"showlakes\": true, \"showland\": true, \"subunitcolor\": \"white\"}, \"hoverlabel\": {\"align\": \"left\"}, \"hovermode\": \"closest\", \"mapbox\": {\"style\": \"light\"}, \"paper_bgcolor\": \"white\", \"plot_bgcolor\": \"#E5ECF6\", \"polar\": {\"angularaxis\": {\"gridcolor\": \"white\", \"linecolor\": \"white\", \"ticks\": \"\"}, \"bgcolor\": \"#E5ECF6\", \"radialaxis\": {\"gridcolor\": \"white\", \"linecolor\": \"white\", \"ticks\": \"\"}}, \"scene\": {\"xaxis\": {\"backgroundcolor\": \"#E5ECF6\", \"gridcolor\": \"white\", \"gridwidth\": 2, \"linecolor\": \"white\", \"showbackground\": true, \"ticks\": \"\", \"zerolinecolor\": \"white\"}, \"yaxis\": {\"backgroundcolor\": \"#E5ECF6\", \"gridcolor\": \"white\", \"gridwidth\": 2, \"linecolor\": \"white\", \"showbackground\": true, \"ticks\": \"\", \"zerolinecolor\": \"white\"}, \"zaxis\": {\"backgroundcolor\": \"#E5ECF6\", \"gridcolor\": \"white\", \"gridwidth\": 2, \"linecolor\": \"white\", \"showbackground\": true, \"ticks\": \"\", \"zerolinecolor\": \"white\"}}, \"shapedefaults\": {\"line\": {\"color\": \"#2a3f5f\"}}, \"ternary\": {\"aaxis\": {\"gridcolor\": \"white\", \"linecolor\": \"white\", \"ticks\": \"\"}, \"baxis\": {\"gridcolor\": \"white\", \"linecolor\": \"white\", \"ticks\": \"\"}, \"bgcolor\": \"#E5ECF6\", \"caxis\": {\"gridcolor\": \"white\", \"linecolor\": \"white\", \"ticks\": \"\"}}, \"title\": {\"x\": 0.05}, \"xaxis\": {\"automargin\": true, \"gridcolor\": \"white\", \"linecolor\": \"white\", \"ticks\": \"\", \"title\": {\"standoff\": 15}, \"zerolinecolor\": \"white\", \"zerolinewidth\": 2}, \"yaxis\": {\"automargin\": true, \"gridcolor\": \"white\", \"linecolor\": \"white\", \"ticks\": \"\", \"title\": {\"standoff\": 15}, \"zerolinecolor\": \"white\", \"zerolinewidth\": 2}}}, \"title\": {\"text\": \"Nombre d'habitants par tranche d'age par ville\"}, \"xaxis\": {\"anchor\": \"y\", \"domain\": [0.0, 1.0], \"title\": {\"text\": \"vi_nom\"}}, \"yaxis\": {\"anchor\": \"x\", \"domain\": [0.0, 1.0], \"title\": {\"text\": \"quantite\"}}},                        {\"responsive\": true}                    ).then(function(){\n",
       "                            \n",
       "var gd = document.getElementById('5cbf770e-e1d5-4653-aa11-a37739ccea45');\n",
       "var x = new MutationObserver(function (mutations, observer) {{\n",
       "        var display = window.getComputedStyle(gd).display;\n",
       "        if (!display || display === 'none') {{\n",
       "            console.log([gd, 'removed!']);\n",
       "            Plotly.purge(gd);\n",
       "            observer.disconnect();\n",
       "        }}\n",
       "}});\n",
       "\n",
       "// Listen for the removal of the full notebook cells\n",
       "var notebookContainer = gd.closest('#notebook-container');\n",
       "if (notebookContainer) {{\n",
       "    x.observe(notebookContainer, {childList: true});\n",
       "}}\n",
       "\n",
       "// Listen for the clearing of the current output cell\n",
       "var outputEl = gd.closest('.output');\n",
       "if (outputEl) {{\n",
       "    x.observe(outputEl, {childList: true});\n",
       "}}\n",
       "\n",
       "                        })                };                });            </script>        </div>"
      ]
     },
     "metadata": {},
     "output_type": "display_data"
    }
   ],
   "source": [
    "#Diagramme à barre présentant le nombre d'habitants par tranche d'age par ville de l'agglomération\n",
    "graphHabAge = px.bar(df3, x=\"vi_nom\", y=\"quantite\", color='ag_tranche_age', title=\"Nombre d'habitants par tranche d'age par ville\")\n",
    "graphHabAge.show()"
   ]
  },
  {
   "cell_type": "code",
   "execution_count": null,
   "metadata": {},
   "outputs": [],
   "source": []
  }
 ],
 "metadata": {
  "kernelspec": {
   "display_name": "Python 3",
   "language": "python",
   "name": "python3"
  },
  "language_info": {
   "codemirror_mode": {
    "name": "ipython",
    "version": 3
   },
   "file_extension": ".py",
   "mimetype": "text/x-python",
   "name": "python",
   "nbconvert_exporter": "python",
   "pygments_lexer": "ipython3",
   "version": "3.7.6"
  }
 },
 "nbformat": 4,
 "nbformat_minor": 4
}
